{
 "cells": [
  {
   "cell_type": "markdown",
   "id": "7bac6721-4b74-4a36-8260-27126f046402",
   "metadata": {
    "tags": []
   },
   "source": [
    "## Download dataset"
   ]
  },
  {
   "cell_type": "markdown",
   "id": "52685e44-3588-4ea3-8eea-071a3ec4a320",
   "metadata": {
    "tags": []
   },
   "source": [
    "### fruit bat vocalizations\n",
    "- https://figshare.com/collections/An_annotated_dataset_of_Egyptian_fruit_bat_vocalizations_across_varying_contexts_and_during_vocal_ontogeny/3666502\n",
    "\n",
    "- https://www.nature.com/articles/sdata2017143\n",
    "\n",
    "- about 300.000 vocalizations\n",
    "\n",
    "- ~60GB compressed"
   ]
  },
  {
   "cell_type": "code",
   "execution_count": 2,
   "id": "f30ca168-6e14-4e87-9787-a1ee75506df1",
   "metadata": {
    "tags": []
   },
   "outputs": [],
   "source": [
    "%load_ext autoreload\n",
    "%autoreload 2"
   ]
  },
  {
   "cell_type": "code",
   "execution_count": 1,
   "id": "e910a74a-c1f2-42cb-9fe2-c134574baa6b",
   "metadata": {
    "tags": []
   },
   "outputs": [
    {
     "name": "stderr",
     "output_type": "stream",
     "text": [
      "/data0/home/h21/luas6629/avgn_paper/avgn/utils/general.py:8: TqdmExperimentalWarning: Using `tqdm.autonotebook.tqdm` in notebook mode. Use `tqdm.tqdm` instead to force console mode (e.g. in jupyter console)\n",
      "  from tqdm.autonotebook import tqdm\n"
     ]
    }
   ],
   "source": [
    "from avgn.downloading.download import download_tqdm\n",
    "from avgn.utils.paths import DATA_DIR, ensure_dir\n",
    "from avgn.utils.general import unzip_file\n",
    "from pathlib2 import Path"
   ]
  },
  {
   "cell_type": "code",
   "execution_count": 2,
   "id": "15f0f167-c6d0-4737-9160-0063334c8747",
   "metadata": {
    "tags": []
   },
   "outputs": [],
   "source": [
    "DATA_DIR = Path('./data')"
   ]
  },
  {
   "cell_type": "code",
   "execution_count": 9,
   "id": "ba14337a-e66e-404d-8591-13792b5fd945",
   "metadata": {
    "tags": []
   },
   "outputs": [
    {
     "name": "stdout",
     "output_type": "stream",
     "text": [
      "Retrieving: Matlab code for audio segmentation and noise removal\n",
      "Matlab code for audio segmentation and noise removal SAN.zip https://ndownloader.figshare.com/files/8900803\n",
      "Retrieving: Example video of mating protest (2)\n",
      "Example video of mating protest (2) Example_of_Mating_Protest_2.avi https://ndownloader.figshare.com/files/8900797\n",
      "Retrieving: Example video of sleep related interaction (1)\n",
      "Example video of sleep related interaction (1) Example_of_Sleeping_Interaction_1.avi https://ndownloader.figshare.com/files/8900791\n",
      "Retrieving: Example video of threat-like (perch aggression) interaction (1)\n",
      "Example video of threat-like (perch aggression) interaction (1) Example_of_Threat-like(Perch-aggression)_1.avi https://ndownloader.figshare.com/files/8900794\n",
      "Retrieving: Example video of sleep related interaction (2)\n",
      "Example video of sleep related interaction (2) Example_of_Sleeping_Interaction_2.avi https://ndownloader.figshare.com/files/8900788\n",
      "Retrieving: Example video of threat-like (perch aggression) interaction (2)\n",
      "Example video of threat-like (perch aggression) interaction (2) Example_of_Threat-like(Perch-aggression)_2.avi https://ndownloader.figshare.com/files/8900785\n",
      "Retrieving: Example video of fight vocalizations (in pups of Treatment #16)\n",
      "Example video of fight vocalizations (in pups of Treatment #16) Example_of_Fighting_Interaction_TreatmentID-16.mov https://ndownloader.figshare.com/files/8900782\n",
      "Retrieving: Example video of mating protest (1)\n",
      "Example video of mating protest (1) Example_of_Mating_Protest_1.avi https://ndownloader.figshare.com/files/8900779\n",
      "Retrieving: Example video of fight vocalizations (in pups of Treatment #17)\n",
      "Example video of fight vocalizations (in pups of Treatment #17) Example_of_Fighting_Interaction_TreatmentID-17.mov https://ndownloader.figshare.com/files/8900773\n",
      "Retrieving: Example video of feeding related interaction (2)\n",
      "Example video of feeding related interaction (2) Example_of_Feeding_Interaction_2.avi https://ndownloader.figshare.com/files/8900776\n",
      "Retrieving: Example video of feeding related interaction (1)\n",
      "Example video of feeding related interaction (1) Example_of_Feeding_Interaction_1.avi https://ndownloader.figshare.com/files/8900770\n",
      "Retrieving: Examples of raw video recordings\n",
      "Examples of raw video recordings ExampleRawVideos.zip https://ndownloader.figshare.com/files/8900692\n",
      "Retrieving: Example of Egyptian fruit bat vocalization - Social call (6)\n",
      "Example of Egyptian fruit bat vocalization - Social call (6) Social6.wav https://ndownloader.figshare.com/files/8454725\n",
      "Retrieving: Example of Egyptian fruit bat vocalization - Social call (7)\n",
      "Example of Egyptian fruit bat vocalization - Social call (7) Social7.wav https://ndownloader.figshare.com/files/8454719\n",
      "Retrieving: Example of Egyptian fruit bat vocalization - Social call (4)\n",
      "Example of Egyptian fruit bat vocalization - Social call (4) Social4.wav https://ndownloader.figshare.com/files/8454722\n",
      "Retrieving: Example of Egyptian fruit bat vocalization - Social call (5)\n",
      "Example of Egyptian fruit bat vocalization - Social call (5) Social5.wav https://ndownloader.figshare.com/files/8454716\n",
      "Retrieving: Example of background noise (1)\n",
      "Example of background noise (1) Noise1.wav https://ndownloader.figshare.com/files/8454707\n",
      "Retrieving: Example of Egyptian fruit bat vocalization - Social call (2)\n",
      "Example of Egyptian fruit bat vocalization - Social call (2) Social2.wav https://ndownloader.figshare.com/files/8454710\n",
      "Retrieving: Example of background noise (5)\n",
      "Example of background noise (5) Noise5.wav https://ndownloader.figshare.com/files/8454689\n",
      "Retrieving: Example of Egyptian fruit bat vocalization - Social call (1)\n",
      "Example of Egyptian fruit bat vocalization - Social call (1) Social1.wav https://ndownloader.figshare.com/files/8454698\n",
      "Retrieving: Example of Egyptian fruit bat vocalization - Social call (3)\n",
      "Example of Egyptian fruit bat vocalization - Social call (3) Social3.wav https://ndownloader.figshare.com/files/8454713\n",
      "Retrieving: Example of background noise (2)\n",
      "Example of background noise (2) Noise2.wav https://ndownloader.figshare.com/files/8454695\n",
      "Retrieving: Example of background noise (6)\n",
      "Example of background noise (6) Noise6.wav https://ndownloader.figshare.com/files/8454701\n",
      "Retrieving: Example of background noise (4)\n",
      "Example of background noise (4) Noise4.wav https://ndownloader.figshare.com/files/8454692\n",
      "Retrieving: Example of background noise (3)\n",
      "Example of background noise (3) Noise3.wav https://ndownloader.figshare.com/files/8454704\n",
      "Retrieving: Example of Egyptian fruit bat vocalization - Isolation call (4)\n",
      "Example of Egyptian fruit bat vocalization - Isolation call (4) Isolation4.wav https://ndownloader.figshare.com/files/8454686\n",
      "Retrieving: Egyptian fruit bat vocalizations - Example spectrograms\n",
      "Egyptian fruit bat vocalizations - Example spectrograms ExampleSpectrograms.pdf https://ndownloader.figshare.com/files/8454683\n",
      "Retrieving: Example of Egyptian fruit bat echolocation (2)\n",
      "Example of Egyptian fruit bat echolocation (2) Echolocation2.wav https://ndownloader.figshare.com/files/8454680\n",
      "Retrieving: Example of Egyptian fruit bat echolocation (1)\n",
      "Example of Egyptian fruit bat echolocation (1) Echolocation1.wav https://ndownloader.figshare.com/files/8454677\n",
      "Retrieving: Example of Egyptian fruit bat vocalization - Isolation call (1)\n",
      "Example of Egyptian fruit bat vocalization - Isolation call (1) Isolation1.wav https://ndownloader.figshare.com/files/8454668\n",
      "Retrieving: Example of Egyptian fruit bat vocalization - Isolation call (3)\n",
      "Example of Egyptian fruit bat vocalization - Isolation call (3) Isolation3.wav https://ndownloader.figshare.com/files/8454674\n",
      "Retrieving: Example of Egyptian fruit bat vocalization - Isolation call (2)\n",
      "Example of Egyptian fruit bat vocalization - Isolation call (2) Isolation2.wav https://ndownloader.figshare.com/files/8454671\n",
      "Retrieving: Egyptian fruit bat vocalizations files 223\n",
      "Egyptian fruit bat vocalizations files 223 files223.zip https://ndownloader.figshare.com/files/8879599\n",
      "Retrieving: Egyptian fruit bat vocalizations files 224\n",
      "Egyptian fruit bat vocalizations files 224 files224.zip https://ndownloader.figshare.com/files/8879602\n",
      "Retrieving: Egyptian fruit bat vocalizations files 222\n",
      "Egyptian fruit bat vocalizations files 222 files222.zip https://ndownloader.figshare.com/files/8879608\n",
      "Retrieving: Egyptian fruit bat vocalizations files 219\n",
      "Egyptian fruit bat vocalizations files 219 files219.zip https://ndownloader.figshare.com/files/8879617\n",
      "Retrieving: Egyptian fruit bat vocalizations files 221\n",
      "Egyptian fruit bat vocalizations files 221 files221.zip https://ndownloader.figshare.com/files/8879611\n",
      "Retrieving: Egyptian fruit bat vocalizations files 220\n",
      "Egyptian fruit bat vocalizations files 220 files220.zip https://ndownloader.figshare.com/files/8879623\n",
      "Retrieving: Egyptian fruit bat vocalizations files 217\n",
      "Egyptian fruit bat vocalizations files 217 files217.zip https://ndownloader.figshare.com/files/8879632\n",
      "Retrieving: Egyptian fruit bat vocalizations files 216\n",
      "Egyptian fruit bat vocalizations files 216 files216.zip https://ndownloader.figshare.com/files/8879641\n",
      "Retrieving: Egyptian fruit bat vocalizations files 218\n",
      "Egyptian fruit bat vocalizations files 218 files218.zip https://ndownloader.figshare.com/files/8879653\n",
      "Retrieving: Egyptian fruit bat vocalizations files 213\n",
      "Egyptian fruit bat vocalizations files 213 files213.zip https://ndownloader.figshare.com/files/8879659\n",
      "Retrieving: Egyptian fruit bat vocalizations files 215\n",
      "Egyptian fruit bat vocalizations files 215 files215.zip https://ndownloader.figshare.com/files/8879662\n",
      "Retrieving: Egyptian fruit bat vocalizations files 214\n",
      "Egyptian fruit bat vocalizations files 214 files214.zip https://ndownloader.figshare.com/files/8879674\n",
      "Retrieving: Egyptian fruit bat vocalizations files 210\n",
      "Egyptian fruit bat vocalizations files 210 files210.zip https://ndownloader.figshare.com/files/8879683\n",
      "Retrieving: Egyptian fruit bat vocalizations files 211\n",
      "Egyptian fruit bat vocalizations files 211 files211.zip https://ndownloader.figshare.com/files/8879179\n",
      "Retrieving: Egyptian fruit bat vocalizations files 212\n",
      "Egyptian fruit bat vocalizations files 212 files212.zip https://ndownloader.figshare.com/files/8879287\n",
      "Retrieving: Egyptian fruit bat vocalizations files 209\n",
      "Egyptian fruit bat vocalizations files 209 files209.zip https://ndownloader.figshare.com/files/8879338\n",
      "Retrieving: Egyptian fruit bat vocalizations files 207\n",
      "Egyptian fruit bat vocalizations files 207 files207.zip https://ndownloader.figshare.com/files/8879392\n",
      "Retrieving: Egyptian fruit bat vocalizations files 208\n",
      "Egyptian fruit bat vocalizations files 208 files208.zip https://ndownloader.figshare.com/files/8879404\n",
      "Retrieving: Egyptian fruit bat vocalizations files 206\n",
      "Egyptian fruit bat vocalizations files 206 files206.zip https://ndownloader.figshare.com/files/8879425\n",
      "Retrieving: Egyptian fruit bat vocalizations files 204\n",
      "Egyptian fruit bat vocalizations files 204 files204.zip https://ndownloader.figshare.com/files/8879428\n",
      "Retrieving: Egyptian fruit bat vocalizations files 201\n",
      "Egyptian fruit bat vocalizations files 201 files201.zip https://ndownloader.figshare.com/files/8879431\n",
      "Retrieving: Egyptian fruit bat vocalizations files 203\n",
      "Egyptian fruit bat vocalizations files 203 files203.zip https://ndownloader.figshare.com/files/8879521\n",
      "Retrieving: Egyptian fruit bat vocalizations files 205\n",
      "Egyptian fruit bat vocalizations files 205 files205.zip https://ndownloader.figshare.com/files/8879533\n",
      "Retrieving: Egyptian fruit bat vocalizations files 202\n",
      "Egyptian fruit bat vocalizations files 202 files202.zip https://ndownloader.figshare.com/files/8879536\n",
      "Retrieving: Egyptian fruit bat vocalizations files 102\n",
      "Egyptian fruit bat vocalizations files 102 files102.zip https://ndownloader.figshare.com/files/8879548\n",
      "Retrieving: Egyptian fruit bat vocalizations files 104\n",
      "Egyptian fruit bat vocalizations files 104 files104.zip https://ndownloader.figshare.com/files/8879572\n",
      "Retrieving: Egyptian fruit bat vocalizations files 101\n",
      "Egyptian fruit bat vocalizations files 101 files101.zip https://ndownloader.figshare.com/files/8879545\n",
      "Retrieving: Egyptian fruit bat vocalizations files 103\n",
      "Egyptian fruit bat vocalizations files 103 files103.zip https://ndownloader.figshare.com/files/8879596\n",
      "Retrieving: Egyptian fruit bat vocalizations files 105\n",
      "Egyptian fruit bat vocalizations files 105 files105.zip https://ndownloader.figshare.com/files/8879554\n",
      "Retrieving: Egyptian fruit bat vocalizations files 106\n",
      "Egyptian fruit bat vocalizations files 106 files106.zip https://ndownloader.figshare.com/files/8879578\n",
      "Retrieving: Egyptian fruit bat vocalization annotations (Annotations.csv)\n",
      "Egyptian fruit bat vocalization annotations (Annotations.csv) Annotations.csv https://ndownloader.figshare.com/files/7379008\n",
      "Retrieving: Egyptian fruit bat vocalizations files information (FileInfo.csv)\n",
      "Egyptian fruit bat vocalizations files information (FileInfo.csv) FileInfo.csv https://ndownloader.figshare.com/files/8900695\n",
      "Retrieving: Egyptian fruit bat vocalizations metadata (Metadata.pdf)\n",
      "Egyptian fruit bat vocalizations metadata (Metadata.pdf) Metadata.pdf https://ndownloader.figshare.com/files/8900800\n"
     ]
    }
   ],
   "source": [
    "import requests\n",
    "def generate_bat_db():\n",
    "    r = requests.get('https://api.figshare.com/v2/collections/3666502/articles?page_size=70').json()\n",
    "    for item in r:\n",
    "        print('Retrieving: {}'.format( item['title']) )\n",
    "        f = requests.get(item['url_public_api']).json()\n",
    "        for k in f['files']:\n",
    "            print(f['title'], k['name'], k['download_url'])\n",
    "            yield (f['title'], k['name'], k['download_url'])\n",
    "            \n",
    "bat_db = list(generate_bat_db())"
   ]
  },
  {
   "cell_type": "code",
   "execution_count": 35,
   "id": "70cc4c8e-d78d-43f5-b84c-56bedb2b0579",
   "metadata": {
    "tags": []
   },
   "outputs": [],
   "source": [
    "# double check files\n",
    "filtered_db = [(name, filename, url) for name, filename, url in bat_db if name[:2] == 'Eg' and 'Example' not in name and '.zip' in filename]"
   ]
  },
  {
   "cell_type": "code",
   "execution_count": 36,
   "id": "91eeab67-28e5-41b7-8409-d7b35bfaa891",
   "metadata": {
    "tags": []
   },
   "outputs": [
    {
     "data": {
      "text/plain": [
       "{'https://ndownloader.figshare.com/files/8879608'}"
      ]
     },
     "execution_count": 36,
     "metadata": {},
     "output_type": "execute_result"
    }
   ],
   "source": [
    "set([u for name, f, u in filtered_db]) - set([url for url, filename in data_urls])"
   ]
  },
  {
   "cell_type": "code",
   "execution_count": 38,
   "id": "85b37591-7f4a-47e2-b209-706f7b4265d0",
   "metadata": {
    "tags": []
   },
   "outputs": [],
   "source": [
    "data_urls = [\n",
    "        (\"https://ndownloader.figshare.com/files/8879545\", \"files101.zip\"),\n",
    "        (\"https://ndownloader.figshare.com/files/8879548\", \"files102.zip\"),\n",
    "        (\"https://ndownloader.figshare.com/files/8879596\", \"files103.zip\"),\n",
    "        (\"https://ndownloader.figshare.com/files/8879572\", \"files104.zip\"),\n",
    "        (\"https://ndownloader.figshare.com/files/8879554\", \"files105.zip\"),\n",
    "        (\"https://ndownloader.figshare.com/files/8879578\", \"files106.zip\"),\n",
    "        (\"https://ndownloader.figshare.com/files/8879431\", \"files201.zip\"),\n",
    "        (\"https://ndownloader.figshare.com/files/8879536\", \"files202.zip\"),\n",
    "        (\"https://ndownloader.figshare.com/files/8879521\", \"files203.zip\"),\n",
    "        (\"https://ndownloader.figshare.com/files/8879428\", \"files204.zip\"),\n",
    "        (\"https://ndownloader.figshare.com/files/8879533\", \"files205.zip\"),\n",
    "        (\"https://ndownloader.figshare.com/files/8879425\", \"files206.zip\"),\n",
    "        (\"https://ndownloader.figshare.com/files/8879392\", \"files207.zip\"),\n",
    "        (\"https://ndownloader.figshare.com/files/8879404\", \"files208.zip\"),\n",
    "        (\"https://ndownloader.figshare.com/files/8879338\", \"files209.zip\"),\n",
    "        (\"https://ndownloader.figshare.com/files/8879683\", \"files210.zip\"),\n",
    "        (\"https://ndownloader.figshare.com/files/8879179\", \"files211.zip\"),\n",
    "        (\"https://ndownloader.figshare.com/files/8879287\", \"files212.zip\"),\n",
    "        (\"https://ndownloader.figshare.com/files/8879659\", \"files213.zip\"),\n",
    "        (\"https://ndownloader.figshare.com/files/8879674\", \"files214.zip\"),\n",
    "        (\"https://ndownloader.figshare.com/files/8879662\", \"files215.zip\"),\n",
    "        (\"https://ndownloader.figshare.com/files/8879641\", \"files216.zip\"),\n",
    "        (\"https://ndownloader.figshare.com/files/8879632\", \"files217.zip\"),\n",
    "        (\"https://ndownloader.figshare.com/files/8879653\", \"files218.zip\"),\n",
    "        (\"https://ndownloader.figshare.com/files/8879617\", \"files219.zip\"),\n",
    "        (\"https://ndownloader.figshare.com/files/8879623\", \"files220.zip\"),\n",
    "        (\"https://ndownloader.figshare.com/files/8879611\", \"files221.zip\"),\n",
    "        (\"https://ndownloader.figshare.com/files/8879608\", \"files222.zip\"),\n",
    "        (\"https://ndownloader.figshare.com/files/8879599\", \"files223.zip\"),\n",
    "        (\"https://ndownloader.figshare.com/files/8879602\", \"files224.zip\"),\n",
    "]\n",
    "output_loc = DATA_DIR /\"raw/fruitbat/\""
   ]
  },
  {
   "cell_type": "code",
   "execution_count": 43,
   "id": "62ccecfb-b700-42de-9d9c-94fcab065347",
   "metadata": {
    "tags": []
   },
   "outputs": [
    {
     "name": "stderr",
     "output_type": "stream",
     "text": [
      "/data0/home/h21/luas6629/avgn_paper/avgn/downloading/download.py:21: UserWarning: File data/raw/fruitbat/files101.zip already exists\n",
      "  warnings.warn(\"File {} already exists\".format(output_location))\n"
     ]
    }
   ],
   "source": [
    "for url, filename in data_urls:\n",
    "    download_tqdm(url, output_location=output_loc/filename)    "
   ]
  },
  {
   "cell_type": "code",
   "execution_count": 44,
   "id": "72aa33f9-0fe4-4964-b5e3-4fdd0c180acb",
   "metadata": {
    "tags": []
   },
   "outputs": [
    {
     "data": {
      "application/vnd.jupyter.widget-view+json": {
       "model_id": "95ed1611752a4365b8057a69fbb06380",
       "version_major": 2,
       "version_minor": 0
      },
      "text/plain": [
       "  0%|          | 0/10000 [00:00<?, ?it/s]"
      ]
     },
     "metadata": {},
     "output_type": "display_data"
    }
   ],
   "source": [
    "# unzip\n",
    "for url, filename in data_urls:\n",
    "    unzip_file(output_loc/filename, output_loc/\"zip_contents\"/filename.split('.')[0])"
   ]
  }
 ],
 "metadata": {
  "kernelspec": {
   "display_name": "Python 3 (ipykernel)",
   "language": "python",
   "name": "python3"
  },
  "language_info": {
   "codemirror_mode": {
    "name": "ipython",
    "version": 3
   },
   "file_extension": ".py",
   "mimetype": "text/x-python",
   "name": "python",
   "nbconvert_exporter": "python",
   "pygments_lexer": "ipython3",
   "version": "3.10.6"
  }
 },
 "nbformat": 4,
 "nbformat_minor": 5
}
