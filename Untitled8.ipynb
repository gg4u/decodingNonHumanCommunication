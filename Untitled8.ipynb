{
 "cells": [
  {
   "cell_type": "code",
   "execution_count": null,
   "id": "a0ece146-9fd9-454f-8955-88ce4bf187c3",
   "metadata": {},
   "outputs": [],
   "source": []
  },
  {
   "cell_type": "code",
   "execution_count": 1,
   "id": "b79032ff-05ec-4244-9342-65b28b638da4",
   "metadata": {
    "tags": []
   },
   "outputs": [],
   "source": [
    "import pandas as pd\n",
    "#import pandarallel\n",
    "\n",
    "from matplotlib import pyplot as plt\n",
    "import matplotlib \n",
    "import seaborn as sns\n",
    "from mpl_toolkits.mplot3d import Axes3D\n",
    "\n",
    "import librosa\n",
    "from IPython.display import Audio\n",
    "import numpy as np\n",
    "\n",
    "from itertools import pairwise\n",
    "import collections\n",
    "\n",
    "import networkx as nx\n",
    "\n",
    "import os\n",
    "import collections"
   ]
  },
  {
   "cell_type": "code",
   "execution_count": 2,
   "id": "c403e6d1-8cb8-4df6-ac46-a8fcb2e705ce",
   "metadata": {
    "tags": []
   },
   "outputs": [],
   "source": [
    "import pickle\n",
    "\n",
    "context_dict = {\n",
    "    0:'Unknown',\n",
    "    1:'Separation',\n",
    "    2:'Biting',\n",
    "    3:'Feeding',\n",
    "    4:'Fighting',\n",
    "    5:'Grooming',\n",
    "    6:'Isolation',\n",
    "    7:'Kissing',\n",
    "    8:'Landing',\n",
    "    9:'Mating protest',\n",
    "    10:'Threat-like',\n",
    "    11:'General',\n",
    "    12:'Sleeping',\n",
    "}\n",
    "\n",
    "\n",
    "def load_seq_data( dataset_descriptor, number_of_clusters):\n",
    "    # Load The Sequences!\n",
    "    with open(f'classifiers_{dataset_descriptor}/symbolic_sequences_{dataset_descriptor}_{number_of_clusters}_symseq.pkl','rb') as f:\n",
    "        symbolic_sequences = pickle.load(f)\n",
    "\n",
    "    # Load The Graph!\n",
    "    with open(f'classifiers_{dataset_descriptor}/graph_symbolic_sequences_{dataset_descriptor}_{number_of_clusters}_graphsymseq.pkl','rb') as f:\n",
    "        G = pickle.load(f)\n",
    "\n",
    "    # Load The Sequences!\n",
    "    with open(f\"classifiers_{dataset_descriptor}/{dataset_descriptor}_{number_of_clusters}_map_complete.pkl\",'rb') as f:\n",
    "        seq_mapped = pickle.load(f)\n",
    "        seq_mapped.drop_duplicates(subset=[\"voc_segments_ix\"], keep=\"first\", inplace=True)\n",
    "        seq_mapped.index = range(len(seq_mapped.index))\n",
    "        seq_mapped.index.set_names('segmentID', inplace=True)\n",
    "        \n",
    "    return symbolic_sequences, G, seq_mapped\n",
    "    \n"
   ]
  },
  {
   "cell_type": "code",
   "execution_count": 60,
   "id": "53ce6ca8-0176-4419-8f84-d7eb99faaf0d",
   "metadata": {
    "tags": []
   },
   "outputs": [
    {
     "name": "stdout",
     "output_type": "stream",
     "text": [
      "et_ward\n"
     ]
    }
   ],
   "source": [
    "NUM_CLUSTERS = 398\n",
    "BAT_ID = 'bat_215'\n",
    "THRESHOLD_TYPE = 'qt_ward' if NUM_CLUSTERS < 100  else 'et_ward'\n",
    "print(THRESHOLD_TYPE)\n",
    "BAT_GENDER = 'Female, Mother'\n",
    "\n",
    "SYLLABLE_ID = 'syllableID_qt_ward' if THRESHOLD_TYPE == 'qt_ward' else 'syllableID_et_ward'\n",
    "\n",
    "\n",
    "_symbolic_sequences, G, _seq_mapped = load_seq_data( BAT_ID, NUM_CLUSTERS )\n"
   ]
  },
  {
   "cell_type": "code",
   "execution_count": 61,
   "id": "1557e31c-903f-462a-9e17-b0e00ef7e8fd",
   "metadata": {},
   "outputs": [
    {
     "data": {
      "text/html": [
       "<div>\n",
       "<style scoped>\n",
       "    .dataframe tbody tr th:only-of-type {\n",
       "        vertical-align: middle;\n",
       "    }\n",
       "\n",
       "    .dataframe tbody tr th {\n",
       "        vertical-align: top;\n",
       "    }\n",
       "\n",
       "    .dataframe thead th {\n",
       "        text-align: right;\n",
       "    }\n",
       "</style>\n",
       "<table border=\"1\" class=\"dataframe\">\n",
       "  <thead>\n",
       "    <tr style=\"text-align: right;\">\n",
       "      <th></th>\n",
       "      <th>File name</th>\n",
       "      <th>Seq_Syllables</th>\n",
       "      <th>Seq_Syllables_ix</th>\n",
       "      <th>Pos_Segment</th>\n",
       "      <th>Duration</th>\n",
       "      <th>Folder</th>\n",
       "      <th>FileID</th>\n",
       "      <th>Emitter</th>\n",
       "      <th>label_addressee</th>\n",
       "      <th>label_context</th>\n",
       "    </tr>\n",
       "  </thead>\n",
       "  <tbody>\n",
       "    <tr>\n",
       "      <th>0</th>\n",
       "      <td>121004165931143478.WAV</td>\n",
       "      <td>[201, 201]</td>\n",
       "      <td>[0, 1]</td>\n",
       "      <td>[0, 1]</td>\n",
       "      <td>[35952, 31246]</td>\n",
       "      <td>files201</td>\n",
       "      <td>61822</td>\n",
       "      <td>[215]</td>\n",
       "      <td>[217, 217]</td>\n",
       "      <td>[6, 6]</td>\n",
       "    </tr>\n",
       "    <tr>\n",
       "      <th>1</th>\n",
       "      <td>121004172433181482.WAV</td>\n",
       "      <td>[201, 201]</td>\n",
       "      <td>[2, 3]</td>\n",
       "      <td>[0, 1]</td>\n",
       "      <td>[29746, 28934]</td>\n",
       "      <td>files201</td>\n",
       "      <td>61879</td>\n",
       "      <td>[215]</td>\n",
       "      <td>[217, 217]</td>\n",
       "      <td>[6, 6]</td>\n",
       "    </tr>\n",
       "    <tr>\n",
       "      <th>2</th>\n",
       "      <td>121004172647137483.WAV</td>\n",
       "      <td>[199]</td>\n",
       "      <td>[4]</td>\n",
       "      <td>[0]</td>\n",
       "      <td>[27746]</td>\n",
       "      <td>files201</td>\n",
       "      <td>61882</td>\n",
       "      <td>[215]</td>\n",
       "      <td>[217]</td>\n",
       "      <td>[6]</td>\n",
       "    </tr>\n",
       "    <tr>\n",
       "      <th>3</th>\n",
       "      <td>121004172921179484.WAV</td>\n",
       "      <td>[199, 199, 199]</td>\n",
       "      <td>[5, 6, 7]</td>\n",
       "      <td>[0, 1, 2]</td>\n",
       "      <td>[34746, 34746, 33246]</td>\n",
       "      <td>files201</td>\n",
       "      <td>61894</td>\n",
       "      <td>[215]</td>\n",
       "      <td>[217, 217, 217]</td>\n",
       "      <td>[6, 6, 6]</td>\n",
       "    </tr>\n",
       "    <tr>\n",
       "      <th>4</th>\n",
       "      <td>121004173710156486.WAV</td>\n",
       "      <td>[201]</td>\n",
       "      <td>[8]</td>\n",
       "      <td>[0]</td>\n",
       "      <td>[21940]</td>\n",
       "      <td>files201</td>\n",
       "      <td>61900</td>\n",
       "      <td>[215]</td>\n",
       "      <td>[217]</td>\n",
       "      <td>[6]</td>\n",
       "    </tr>\n",
       "    <tr>\n",
       "      <th>...</th>\n",
       "      <td>...</td>\n",
       "      <td>...</td>\n",
       "      <td>...</td>\n",
       "      <td>...</td>\n",
       "      <td>...</td>\n",
       "      <td>...</td>\n",
       "      <td>...</td>\n",
       "      <td>...</td>\n",
       "      <td>...</td>\n",
       "      <td>...</td>\n",
       "    </tr>\n",
       "    <tr>\n",
       "      <th>6074</th>\n",
       "      <td>140219054006223350.WAV</td>\n",
       "      <td>[308, 146, 318, 59, 370, 24, 285, 325, 20, 308...</td>\n",
       "      <td>[19423, 19424, 19425, 19426, 19427, 19428, 194...</td>\n",
       "      <td>[0, 1, 2, 3, 4, 5, 6, 7, 8, 9, 10, 11, 12, 13,...</td>\n",
       "      <td>[20246, 37490, 26715, 59648, 23246, 47485, 168...</td>\n",
       "      <td>files224</td>\n",
       "      <td>293146</td>\n",
       "      <td>[215]</td>\n",
       "      <td>[221, 221, 221, 221, 221, 221, 221, 221, 221, ...</td>\n",
       "      <td>[9, 9, 9, 9, 9, 9, 9, 9, 9, 9, 9, 9, 9, 9, 9, ...</td>\n",
       "    </tr>\n",
       "    <tr>\n",
       "      <th>6075</th>\n",
       "      <td>140219054741046380.WAV</td>\n",
       "      <td>[374, 368, 285, 366, 374, 275, 395, 374, 56, 3...</td>\n",
       "      <td>[19474, 19475, 19476, 19477, 19478, 19479, 194...</td>\n",
       "      <td>[0, 1, 2, 3, 4, 5, 6, 7, 8, 9, 10, 11, 12, 13,...</td>\n",
       "      <td>[11730, 13246, 15206, 28769, 25013, 9996, 1957...</td>\n",
       "      <td>files224</td>\n",
       "      <td>293155</td>\n",
       "      <td>[215]</td>\n",
       "      <td>[221, 221, 221, 221, 221, 221, 221, 221, 221, ...</td>\n",
       "      <td>[9, 9, 9, 9, 9, 9, 9, 9, 9, 9, 9, 9, 9, 9, 9, ...</td>\n",
       "    </tr>\n",
       "    <tr>\n",
       "      <th>6076</th>\n",
       "      <td>140219055906489406.WAV</td>\n",
       "      <td>[350, 158, 291, 91]</td>\n",
       "      <td>[19498, 19499, 19500, 19501]</td>\n",
       "      <td>[0, 1, 2, 3]</td>\n",
       "      <td>[18061, 21919, 26757, 24305]</td>\n",
       "      <td>files224</td>\n",
       "      <td>293179</td>\n",
       "      <td>[215]</td>\n",
       "      <td>[221, 221, 221, 221]</td>\n",
       "      <td>[9, 9, 9, 9]</td>\n",
       "    </tr>\n",
       "    <tr>\n",
       "      <th>6077</th>\n",
       "      <td>140219055915824409.WAV</td>\n",
       "      <td>[373, 372, 272, 26, 143, 243, 44, 143, 372, 31...</td>\n",
       "      <td>[19502, 19503, 19504, 19505, 19506, 19507, 195...</td>\n",
       "      <td>[0, 1, 2, 3, 4, 5, 6, 7, 8, 9, 10, 11, 12, 13,...</td>\n",
       "      <td>[15746, 17746, 15246, 38246, 53221, 43746, 538...</td>\n",
       "      <td>files224</td>\n",
       "      <td>293182</td>\n",
       "      <td>[215]</td>\n",
       "      <td>[221, 221, 221, 221, 221, 221, 221, 221, 221, ...</td>\n",
       "      <td>[9, 9, 9, 9, 9, 9, 9, 9, 9, 9, 9, 9, 9, 9, 9, ...</td>\n",
       "    </tr>\n",
       "    <tr>\n",
       "      <th>6078</th>\n",
       "      <td>140219055925290410.WAV</td>\n",
       "      <td>[364, 136, 376, 276, 148, 362, 363]</td>\n",
       "      <td>[19542, 19543, 19544, 19545, 19546, 19547, 19548]</td>\n",
       "      <td>[0, 1, 2, 3, 4, 5, 6]</td>\n",
       "      <td>[18099, 22711, 10612, 15246, 34967, 20493, 23034]</td>\n",
       "      <td>files224</td>\n",
       "      <td>293184</td>\n",
       "      <td>[215]</td>\n",
       "      <td>[221, 221, 221, 221, 221, 221, 221]</td>\n",
       "      <td>[9, 9, 9, 9, 9, 9, 9]</td>\n",
       "    </tr>\n",
       "  </tbody>\n",
       "</table>\n",
       "<p>6079 rows × 10 columns</p>\n",
       "</div>"
      ],
      "text/plain": [
       "                   File name  \\\n",
       "0     121004165931143478.WAV   \n",
       "1     121004172433181482.WAV   \n",
       "2     121004172647137483.WAV   \n",
       "3     121004172921179484.WAV   \n",
       "4     121004173710156486.WAV   \n",
       "...                      ...   \n",
       "6074  140219054006223350.WAV   \n",
       "6075  140219054741046380.WAV   \n",
       "6076  140219055906489406.WAV   \n",
       "6077  140219055915824409.WAV   \n",
       "6078  140219055925290410.WAV   \n",
       "\n",
       "                                          Seq_Syllables  \\\n",
       "0                                            [201, 201]   \n",
       "1                                            [201, 201]   \n",
       "2                                                 [199]   \n",
       "3                                       [199, 199, 199]   \n",
       "4                                                 [201]   \n",
       "...                                                 ...   \n",
       "6074  [308, 146, 318, 59, 370, 24, 285, 325, 20, 308...   \n",
       "6075  [374, 368, 285, 366, 374, 275, 395, 374, 56, 3...   \n",
       "6076                                [350, 158, 291, 91]   \n",
       "6077  [373, 372, 272, 26, 143, 243, 44, 143, 372, 31...   \n",
       "6078                [364, 136, 376, 276, 148, 362, 363]   \n",
       "\n",
       "                                       Seq_Syllables_ix  \\\n",
       "0                                                [0, 1]   \n",
       "1                                                [2, 3]   \n",
       "2                                                   [4]   \n",
       "3                                             [5, 6, 7]   \n",
       "4                                                   [8]   \n",
       "...                                                 ...   \n",
       "6074  [19423, 19424, 19425, 19426, 19427, 19428, 194...   \n",
       "6075  [19474, 19475, 19476, 19477, 19478, 19479, 194...   \n",
       "6076                       [19498, 19499, 19500, 19501]   \n",
       "6077  [19502, 19503, 19504, 19505, 19506, 19507, 195...   \n",
       "6078  [19542, 19543, 19544, 19545, 19546, 19547, 19548]   \n",
       "\n",
       "                                            Pos_Segment  \\\n",
       "0                                                [0, 1]   \n",
       "1                                                [0, 1]   \n",
       "2                                                   [0]   \n",
       "3                                             [0, 1, 2]   \n",
       "4                                                   [0]   \n",
       "...                                                 ...   \n",
       "6074  [0, 1, 2, 3, 4, 5, 6, 7, 8, 9, 10, 11, 12, 13,...   \n",
       "6075  [0, 1, 2, 3, 4, 5, 6, 7, 8, 9, 10, 11, 12, 13,...   \n",
       "6076                                       [0, 1, 2, 3]   \n",
       "6077  [0, 1, 2, 3, 4, 5, 6, 7, 8, 9, 10, 11, 12, 13,...   \n",
       "6078                              [0, 1, 2, 3, 4, 5, 6]   \n",
       "\n",
       "                                               Duration    Folder  FileID  \\\n",
       "0                                        [35952, 31246]  files201   61822   \n",
       "1                                        [29746, 28934]  files201   61879   \n",
       "2                                               [27746]  files201   61882   \n",
       "3                                 [34746, 34746, 33246]  files201   61894   \n",
       "4                                               [21940]  files201   61900   \n",
       "...                                                 ...       ...     ...   \n",
       "6074  [20246, 37490, 26715, 59648, 23246, 47485, 168...  files224  293146   \n",
       "6075  [11730, 13246, 15206, 28769, 25013, 9996, 1957...  files224  293155   \n",
       "6076                       [18061, 21919, 26757, 24305]  files224  293179   \n",
       "6077  [15746, 17746, 15246, 38246, 53221, 43746, 538...  files224  293182   \n",
       "6078  [18099, 22711, 10612, 15246, 34967, 20493, 23034]  files224  293184   \n",
       "\n",
       "     Emitter                                    label_addressee  \\\n",
       "0      [215]                                         [217, 217]   \n",
       "1      [215]                                         [217, 217]   \n",
       "2      [215]                                              [217]   \n",
       "3      [215]                                    [217, 217, 217]   \n",
       "4      [215]                                              [217]   \n",
       "...      ...                                                ...   \n",
       "6074   [215]  [221, 221, 221, 221, 221, 221, 221, 221, 221, ...   \n",
       "6075   [215]  [221, 221, 221, 221, 221, 221, 221, 221, 221, ...   \n",
       "6076   [215]                               [221, 221, 221, 221]   \n",
       "6077   [215]  [221, 221, 221, 221, 221, 221, 221, 221, 221, ...   \n",
       "6078   [215]                [221, 221, 221, 221, 221, 221, 221]   \n",
       "\n",
       "                                          label_context  \n",
       "0                                                [6, 6]  \n",
       "1                                                [6, 6]  \n",
       "2                                                   [6]  \n",
       "3                                             [6, 6, 6]  \n",
       "4                                                   [6]  \n",
       "...                                                 ...  \n",
       "6074  [9, 9, 9, 9, 9, 9, 9, 9, 9, 9, 9, 9, 9, 9, 9, ...  \n",
       "6075  [9, 9, 9, 9, 9, 9, 9, 9, 9, 9, 9, 9, 9, 9, 9, ...  \n",
       "6076                                       [9, 9, 9, 9]  \n",
       "6077  [9, 9, 9, 9, 9, 9, 9, 9, 9, 9, 9, 9, 9, 9, 9, ...  \n",
       "6078                              [9, 9, 9, 9, 9, 9, 9]  \n",
       "\n",
       "[6079 rows x 10 columns]"
      ]
     },
     "execution_count": 61,
     "metadata": {},
     "output_type": "execute_result"
    }
   ],
   "source": [
    "_symbolic_sequences"
   ]
  },
  {
   "cell_type": "code",
   "execution_count": 54,
   "id": "c7ca9915-2657-4158-96e7-b0bc5433a245",
   "metadata": {},
   "outputs": [],
   "source": [
    "import collections\n",
    "symbolic_sequences['context'] = symbolic_sequences['label_context'].apply(lambda x : collections.Counter(x).most_common()[0][0])\n",
    "symbolic_sequences['addressee'] = symbolic_sequences['label_addressee'].apply(lambda x : collections.Counter(x).most_common()[0][0])"
   ]
  },
  {
   "cell_type": "code",
   "execution_count": 17,
   "id": "28fce7c4-d7ad-4121-ba94-afd6798edc98",
   "metadata": {},
   "outputs": [],
   "source": [
    "MAX_LENGTH = symbolic_sequences.Seq_Syllables.apply(lambda x : len(x)).max() #longest seq"
   ]
  },
  {
   "cell_type": "code",
   "execution_count": 43,
   "id": "31669455-1aa2-4768-9eec-de48e82a26e1",
   "metadata": {},
   "outputs": [],
   "source": [
    "pad_seq = lambda x : np.pad(x, (0, MAX_LENGTH - len(x)), mode='constant')"
   ]
  },
  {
   "cell_type": "code",
   "execution_count": 55,
   "id": "6eb8b526-78e1-46f9-9afa-f17d102ab574",
   "metadata": {},
   "outputs": [],
   "source": [
    "X = symbolic_sequences.Seq_Syllables.apply(lambda x : pad_seq(x)).to_list()\n",
    "y = symbolic_sequences.context\n",
    "z = symbolic_sequences.addressee"
   ]
  },
  {
   "cell_type": "code",
   "execution_count": 62,
   "id": "1d0111a1-9083-4c3b-a968-d43bb71a6b93",
   "metadata": {},
   "outputs": [],
   "source": [
    "_X = symbolic_sequences.Seq_Syllables.apply(lambda x : pad_seq(x)).to_list()"
   ]
  },
  {
   "cell_type": "code",
   "execution_count": 22,
   "id": "ffe0d879-8fdd-4666-ac4e-1d0e803d5832",
   "metadata": {},
   "outputs": [
    {
     "name": "stderr",
     "output_type": "stream",
     "text": [
      "2023-06-09 00:24:44.106020: I tensorflow/core/platform/cpu_feature_guard.cc:182] This TensorFlow binary is optimized to use available CPU instructions in performance-critical operations.\n",
      "To enable the following instructions: AVX2 FMA, in other operations, rebuild TensorFlow with the appropriate compiler flags.\n",
      "2023-06-09 00:24:45.365223: W tensorflow/compiler/tf2tensorrt/utils/py_utils.cc:38] TF-TRT Warning: Could not find TensorRT\n"
     ]
    }
   ],
   "source": [
    "import umap"
   ]
  },
  {
   "cell_type": "code",
   "execution_count": 23,
   "id": "81bc39c4-92fe-4b9b-b0e0-f5dfc01f9d43",
   "metadata": {},
   "outputs": [],
   "source": [
    "reducer = umap.UMAP(n_components=2, \n",
    "                    n_neighbors= 50,\n",
    "                    metric = 'euclidean',  \n",
    "                    min_dist = 0.0, \n",
    "                    random_state=0,\n",
    "                    n_jobs = -1,\n",
    "                    \n",
    "                    #precomputed_knn=precomputed_knn\n",
    "                    )"
   ]
  },
  {
   "cell_type": "code",
   "execution_count": 49,
   "id": "420c1b69-52b4-4631-b96f-33a1db831141",
   "metadata": {},
   "outputs": [
    {
     "name": "stdout",
     "output_type": "stream",
     "text": [
      "CPU times: user 1min 18s, sys: 30 s, total: 1min 48s\n",
      "Wall time: 58.9 s\n"
     ]
    }
   ],
   "source": [
    "%%time\n",
    "manifold = reducer.fit(X)\n",
    "embedding = manifold.transform(X)\n"
   ]
  },
  {
   "cell_type": "code",
   "execution_count": 63,
   "id": "6a7c6fca-9b16-4c71-b9ca-49d1fc897663",
   "metadata": {},
   "outputs": [
    {
     "name": "stdout",
     "output_type": "stream",
     "text": [
      "CPU times: user 1min 1s, sys: 31.5 s, total: 1min 33s\n",
      "Wall time: 40.9 s\n"
     ]
    }
   ],
   "source": [
    "%%time\n",
    "_manifold = reducer.fit(_X)\n",
    "_embedding = manifold.transform(_X)"
   ]
  },
  {
   "cell_type": "code",
   "execution_count": 46,
   "id": "1b58efc7-fc61-47f7-b037-59926f62e28d",
   "metadata": {},
   "outputs": [
    {
     "data": {
      "text/plain": [
       "(112,)"
      ]
     },
     "execution_count": 46,
     "metadata": {},
     "output_type": "execute_result"
    }
   ],
   "source": [
    "X[232].shape"
   ]
  },
  {
   "cell_type": "code",
   "execution_count": 67,
   "id": "dd47f231-204a-4dd0-970b-77fa95967318",
   "metadata": {},
   "outputs": [],
   "source": [
    "intesection = _embedding * embedding\n",
    "union = _embedding + embedding"
   ]
  },
  {
   "cell_type": "code",
   "execution_count": 68,
   "id": "a29327b5-d3cf-4ad7-83ad-e47dfadba125",
   "metadata": {},
   "outputs": [
    {
     "data": {
      "image/png": "[encoded data removed]",
      "text/plain": [
       "<Figure size 600x600 with 1 Axes>"
      ]
     },
     "metadata": {},
     "output_type": "display_data"
    }
   ],
   "source": [
    "umap_2Dplot(union[:,0],union[:,1], z, 'hls', outname=None, showlegend=True)"
   ]
  },
  {
   "cell_type": "code",
   "execution_count": 50,
   "id": "e372612e-2bbb-4fc5-95b9-2f34f60bba5f",
   "metadata": {},
   "outputs": [],
   "source": [
    "def umap_2Dplot(x,y, scat_labels, mycolors, outname=None, showlegend=True):\n",
    "    \"\"\"\n",
    "    Function that creates (and saves) 2D plot from an\n",
    "    input dataset, color-colored by the provided labels.\n",
    "\n",
    "    Parameters\n",
    "    ----------\n",
    "    x : 1D numpy array (numeric) or list\n",
    "        x coordinates of datapoints\n",
    "                \n",
    "    y: 1D numpy array (numeric) or list \n",
    "       y coordinates of datapoints\n",
    "    \n",
    "    scat_labels: List-of-Strings\n",
    "                 Datapoint labels\n",
    "                     \n",
    "    mycolors: String or List-of-Strings\n",
    "              Seaborn color palette name (e.g. \"Set2\") or list of\n",
    "              colors (Hex value strings) used for coloring datapoints\n",
    "              (e.g. [\"#FFEBCD\",\"#0000FF\",...])\n",
    "                     \n",
    "    outname: String\n",
    "             Output filename at which plot will be saved\n",
    "             No plot will be saved if outname is None\n",
    "             (e.g. \"my_folder/my_img.png\")\n",
    "             \n",
    "    showlegend: Boolean\n",
    "                Show legend if True, else don't\n",
    "                \n",
    "    Returns\n",
    "    -------\n",
    "    \n",
    "    -\n",
    "             \n",
    "    \"\"\"\n",
    "    \n",
    "    labeltypes = sorted(list(set(scat_labels)))\n",
    "    pal = sns.color_palette(mycolors, n_colors=len(labeltypes))\n",
    "    color_dict = dict(zip(labeltypes, pal))\n",
    "    c = [color_dict[val] for val in scat_labels]\n",
    "    \n",
    "    fig = plt.figure(figsize=(6,6))\n",
    "    \n",
    "    plt.scatter(x, y, alpha=1,\n",
    "                s=10, c=c)\n",
    "    plt.xlabel('UMAP1')\n",
    "    plt.ylabel('UMAP2');\n",
    "\n",
    "    scatters = []\n",
    "    for label in labeltypes:\n",
    "        scatters.append(matplotlib.lines.Line2D([0],[0], linestyle=\"none\", c=color_dict[label], marker = 'o'))\n",
    "\n",
    "    plt.tight_layout()\n",
    "\n",
    "    if showlegend: plt.legend(scatters, labeltypes, numpoints = 1, bbox_to_anchor=(1.04, 1)) \n",
    "    if outname: plt.savefig(outname, facecolor=\"white\")"
   ]
  },
  {
   "cell_type": "code",
   "execution_count": 76,
   "id": "0372ee4d-7d36-4e5b-b3a8-f1a9d36777fb",
   "metadata": {},
   "outputs": [
    {
     "data": {
      "text/plain": [
       "10.053285917624523"
      ]
     },
     "execution_count": 76,
     "metadata": {},
     "output_type": "execute_result"
    }
   ],
   "source": [
    "np.log(23232)"
   ]
  },
  {
   "cell_type": "code",
   "execution_count": null,
   "id": "338d084f-93be-4136-af69-aed474ae543b",
   "metadata": {},
   "outputs": [],
   "source": []
  }
 ],
 "metadata": {
  "kernelspec": {
   "display_name": "Python [conda env:conda01]",
   "language": "python",
   "name": "conda-env-conda01-py"
  },
  "language_info": {
   "codemirror_mode": {
    "name": "ipython",
    "version": 3
   },
   "file_extension": ".py",
   "mimetype": "text/x-python",
   "name": "python",
   "nbconvert_exporter": "python",
   "pygments_lexer": "ipython3",
   "version": "3.10.11"
  }
 },
 "nbformat": 4,
 "nbformat_minor": 5
}
