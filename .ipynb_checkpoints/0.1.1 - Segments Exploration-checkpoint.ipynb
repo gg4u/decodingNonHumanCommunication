{
 "cells": [
  {
   "cell_type": "code",
   "execution_count": 1,
   "id": "5daa710e-d92f-4a96-997b-12aae8b7842f",
   "metadata": {
    "tags": []
   },
   "outputs": [],
   "source": [
    "%load_ext autoreload\n",
    "%autoreload 2"
   ]
  },
  {
   "cell_type": "markdown",
   "id": "68add5e1-3898-4e21-8e33-9b0cae2c6319",
   "metadata": {},
   "source": [
    "## Load data"
   ]
  },
  {
   "cell_type": "code",
   "execution_count": 2,
   "id": "75f75a84-c232-4f09-9528-0d0550c182d4",
   "metadata": {
    "tags": []
   },
   "outputs": [
    {
     "name": "stderr",
     "output_type": "stream",
     "text": [
      "/tmp/ipykernel_4055491/3377489687.py:3: TqdmExperimentalWarning: Using `tqdm.autonotebook.tqdm` in notebook mode. Use `tqdm.tqdm` instead to force console mode (e.g. in jupyter console)\n",
      "  from tqdm.autonotebook import tqdm\n"
     ]
    }
   ],
   "source": [
    "# Utils\n",
    "from joblib import Parallel, delayed\n",
    "from tqdm.autonotebook import tqdm\n",
    "from datetime import datetime\n",
    "import json\n",
    "from IPython.display import display, Audio\n",
    "from pathlib2 import Path\n",
    "\n",
    "# data libs\n",
    "import pandas as pd\n",
    "import numpy as np\n",
    "import matplotlib.pyplot as plt\n",
    "import librosa"
   ]
  },
  {
   "cell_type": "code",
   "execution_count": 3,
   "id": "c5fbcc79-ffb3-43dd-8552-b62e500c43d6",
   "metadata": {
    "tags": []
   },
   "outputs": [
    {
     "name": "stdout",
     "output_type": "stream",
     "text": [
      "PROJECT_DIR set on:  /data0/home/h21/luas6629/Thesis\n"
     ]
    }
   ],
   "source": [
    "# wrapper lib\n",
    "from avgn.utils.paths import DATA_DIR, ensure_dir\n",
    "\n",
    "DATA_DIR = Path('./data')\n",
    "DSLOC = DATA_DIR / 'raw' / 'fruitbat'"
   ]
  },
  {
   "cell_type": "code",
   "execution_count": 4,
   "id": "7753de70-ea68-4a3a-b411-a7f74109f271",
   "metadata": {
    "tags": []
   },
   "outputs": [
    {
     "data": {
      "text/plain": [
       "91080"
      ]
     },
     "execution_count": 4,
     "metadata": {},
     "output_type": "execute_result"
    }
   ],
   "source": [
    "# annotations\n",
    "annotations =  pd.read_csv(DSLOC/'Annotations.csv')\n",
    "\n",
    "annotations = annotations.astype({\n",
    "    'FileID' : int,\n",
    "    'Emitter' : int,\n",
    "    'Addressee' : int,\n",
    "    'Context' :int,\n",
    "    'Emitter pre-vocalization action' : int,\n",
    "    'Addressee pre-vocalization action': int,\n",
    "    'Emitter post-vocalization action' : int,\n",
    "    'Addressee post-vocalization action' : int,\n",
    "    'Start sample': float,\n",
    "    'End sample' : float\n",
    "})\n",
    "\n",
    "len(annotations)"
   ]
  },
  {
   "cell_type": "code",
   "execution_count": 6,
   "id": "2923c1ef-1654-4222-9153-76ca05642c07",
   "metadata": {
    "tags": []
   },
   "outputs": [
    {
     "name": "stderr",
     "output_type": "stream",
     "text": [
      "/tmp/ipykernel_4055491/2238319843.py:14: DtypeWarning: Columns (0,1,4,6,7,8,9,10) have mixed types. Specify dtype option on import or set low_memory=False.\n",
      "  file_info = pd.read_csv(DSLOC/'FileInfo.csv', header=None, delimiter=\",\", names=column_names)\n"
     ]
    },
    {
     "data": {
      "text/plain": [
       "(293238, 331)"
      ]
     },
     "execution_count": 6,
     "metadata": {},
     "output_type": "execute_result"
    }
   ],
   "source": [
    "# file info\n",
    "\"\"\" fruit bat db is malformed. \n",
    "Recreate the db with proper columns.\n",
    "\"\"\"\n",
    "\n",
    "with open(DSLOC/'FileInfo.csv', 'r') as temp_f:\n",
    "    # get No of columns in each line\n",
    "    col_count = [ len(l.split(\",\")) for l in temp_f.readlines() ]\n",
    "\n",
    "### Generate column names  (names will be 0, 1, 2, ..., maximum columns - 1)\n",
    "column_names = [i for i in range(0, max(col_count))]\n",
    "\n",
    "### Read csv\n",
    "file_info = pd.read_csv(DSLOC/'FileInfo.csv', header=None, delimiter=\",\", names=column_names)\n",
    "file_info, file_info.columns = file_info[1:] , file_info.iloc[0]\n",
    "\n",
    "# recreate the header\n",
    "samples_boundaries = np.arange(1, 1 + file_info.shape[1] - 6)\n",
    "voice_starts = samples_boundaries[::2]\n",
    "voice_ends = samples_boundaries[1::2]\n",
    "col_samples_boundaries = { val : float for pair in zip(['voice_start_sample_{}'.format(i + 1)for i in range(len(voice_starts))  ], \n",
    "        ['voice_end_sample_{}'.format(i + 1) for i in range(len(voice_ends))  ]) for val in pair }\n",
    "\n",
    "col_names = ['FileID','Treatment ID','File name','File folder','Recording channel','Recording time'] + \\\n",
    "    [ val for pair in zip(['voice_start_sample_{}'.format(i + 1)for i in range(len(voice_starts))  ], \n",
    "        ['voice_end_sample_{}'.format(i + 1) for i in range(len(voice_ends))  ]) for val in pair]\n",
    "\n",
    "columns_types = {\n",
    "    'FileID' : int,\n",
    "    'Treatment ID' : int,\n",
    "    'File name' : str,\n",
    "    'File folder' : str,\n",
    "    'Recording channel' : int,\n",
    "    'Recording time' : 'datetime64[ms]',\n",
    "} | col_samples_boundaries\n",
    " \n",
    "\n",
    "# set the new header\n",
    "file_info.columns = columns_types.keys()\n",
    "\n",
    "\n",
    "#ensure datatypes are meaningful\n",
    "file_info = file_info.astype(columns_types)\n",
    "\n",
    "# set index\n",
    "file_info.set_index('FileID', inplace=True)\n",
    "\n",
    "# shape\n",
    "file_info.shape"
   ]
  },
  {
   "cell_type": "code",
   "execution_count": 14,
   "id": "6c005aa1-e0f7-4c54-8b49-b57e41f01194",
   "metadata": {
    "tags": []
   },
   "outputs": [],
   "source": [
    "# test file\n",
    "\n",
    "sample_rawdata = 'files102'\n",
    "samples_files_info = file_info[file_info['File folder'].values == sample_rawdata]\n",
    "\n",
    "\n",
    "exnm = 56\n",
    "wav_loc = DSLOC/'zip_contents'/ sample_rawdata /  samples_files_info['File name'].values[exnm]\n",
    "wav_info = file_info[file_info['File name'] == wav_loc.name]"
   ]
  },
  {
   "cell_type": "markdown",
   "id": "6984b513-9ffa-4ece-94af-ac8ae527ef0f",
   "metadata": {},
   "source": [
    "## Load file test"
   ]
  },
  {
   "cell_type": "code",
   "execution_count": 12,
   "id": "526c3466-ca4f-497f-a9bc-a28fd32bb89c",
   "metadata": {
    "tags": []
   },
   "outputs": [],
   "source": [
    "from avgn.signalprocessing.spectrogramming import spectrogram\n",
    "from avgn.utils.audio import load_wav, float32_to_int16, int16_to_float32, write_wav\n",
    "from avgn.visualization.spectrogram import visualize_spec, plot_spec"
   ]
  },
  {
   "cell_type": "code",
   "execution_count": 15,
   "id": "3c94d6ae-9668-4018-a7d1-451c5367da9c",
   "metadata": {
    "tags": []
   },
   "outputs": [
    {
     "name": "stdout",
     "output_type": "stream",
     "text": [
      "250000 861008\n"
     ]
    }
   ],
   "source": [
    "# load file\n",
    "\n",
    "rate, data = load_wav(wav_loc)\n",
    "print(rate, len(data))\n",
    "\n",
    "start_times = wav_info.loc[:, wav_info.columns.str.startswith('voice_start_')].dropna(axis=1).values[0]\n",
    "end_times = wav_info.loc[:, wav_info.columns.str.startswith('voice_end_')].dropna(axis=1).values[0]\n",
    "\n",
    "assert(len(start_times) == len(end_times))"
   ]
  },
  {
   "cell_type": "code",
   "execution_count": null,
   "id": "f237ba36-d0c9-4a3e-9ffd-f7ed230957fc",
   "metadata": {},
   "outputs": [],
   "source": [
    "# load segment"
   ]
  }
 ],
 "metadata": {
  "kernelspec": {
   "display_name": "Python 3 (ipykernel)",
   "language": "python",
   "name": "python3"
  },
  "language_info": {
   "codemirror_mode": {
    "name": "ipython",
    "version": 3
   },
   "file_extension": ".py",
   "mimetype": "text/x-python",
   "name": "python",
   "nbconvert_exporter": "python",
   "pygments_lexer": "ipython3",
   "version": "3.10.6"
  }
 },
 "nbformat": 4,
 "nbformat_minor": 5
}
