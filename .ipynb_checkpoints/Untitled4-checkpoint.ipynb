{
 "cells": [
  {
   "cell_type": "code",
   "execution_count": 2,
   "id": "553a59e3-d946-42a2-8b9a-74bf103812a0",
   "metadata": {
    "tags": []
   },
   "outputs": [],
   "source": [
    "# Probability suffix trees > Syntax"
   ]
  },
  {
   "cell_type": "markdown",
   "id": "baa2198c-4c65-4be7-aafe-ffeda950c7d1",
   "metadata": {
    "tags": []
   },
   "source": [
    "## Load data"
   ]
  },
  {
   "cell_type": "code",
   "execution_count": 3,
   "id": "b70f8ad1-26e5-4b35-95d2-67add806df6e",
   "metadata": {
    "tags": []
   },
   "outputs": [],
   "source": [
    "%load_ext autoreload\n",
    "%autoreload 2"
   ]
  },
  {
   "cell_type": "code",
   "execution_count": 7,
   "id": "870330d4-f02e-45c6-88f3-c623aec3d2f6",
   "metadata": {
    "tags": []
   },
   "outputs": [],
   "source": [
    "from suffix_tree import Tree"
   ]
  },
  {
   "cell_type": "code",
   "execution_count": 8,
   "id": "e7e9304d-4e6a-4ba0-aedb-223b2a0f161c",
   "metadata": {
    "tags": []
   },
   "outputs": [],
   "source": [
    "import pandas as pd\n",
    "from matplotlib import pyplot as plt\n",
    "import librosa\n",
    "from IPython.display import Audio\n",
    "import numpy as np\n",
    "\n",
    "from itertools import pairwise\n",
    "import collections\n",
    "\n",
    "import networkx as nx"
   ]
  },
  {
   "cell_type": "code",
   "execution_count": 9,
   "id": "776a22d5-9608-460d-9acb-ff5cc161c257",
   "metadata": {
    "tags": []
   },
   "outputs": [],
   "source": [
    "import automutualinformation\n",
    "import pickle\n",
    "\n",
    "context_dict = {\n",
    "    0:'Unknown',\n",
    "    1:'Separation',\n",
    "    2:'Biting',\n",
    "    3:'Feeding',\n",
    "    4:'Fighting',\n",
    "    5:'Grooming',\n",
    "    6:'Isolation',\n",
    "    7:'Kissing',\n",
    "    8:'Landing',\n",
    "    9:'Mating protest',\n",
    "    10:'Threat-like',\n",
    "    11:'General',\n",
    "    12:'Sleeping',\n",
    "}\n",
    "\n",
    "\n",
    "def load_seq_data( dataset_descriptor, number_of_clusters):\n",
    "    # Load The Sequences!\n",
    "    with open(f'/data0/home/h21/luas6629/Thesis/classifiers_{dataset_descriptor}/symbolic_sequences_{dataset_descriptor}_{number_of_clusters}_symseq.pkl','rb') as f:\n",
    "        symbolic_sequences = pickle.load(f)\n",
    "\n",
    "    # Load The Graph!\n",
    "    with open(f'/data0/home/h21/luas6629/Thesis/classifiers_{dataset_descriptor}/graph_symbolic_sequences_{dataset_descriptor}_{number_of_clusters}_graphsymseq.pkl','rb') as f:\n",
    "        G = pickle.load(f)\n",
    "\n",
    "    # Load The Sequences!\n",
    "    with open(f\"/data0/home/h21/luas6629/Thesis/classifiers_{dataset_descriptor}/{dataset_descriptor}_{number_of_clusters}_map_complete.pkl\",'rb') as f:\n",
    "        seq_mapped = pickle.load(f)\n",
    "        seq_mapped.drop_duplicates(subset=[\"voc_segments_ix\"], keep=\"first\", inplace=True)\n",
    "        seq_mapped.index = range(len(seq_mapped.index))\n",
    "        seq_mapped.index.set_names('segmentID', inplace=True)\n",
    "        \n",
    "    return symbolic_sequences, G, seq_mapped\n",
    " "
   ]
  },
  {
   "cell_type": "code",
   "execution_count": null,
   "id": "be8176f4-0270-4a0b-835f-2742312de781",
   "metadata": {
    "tags": []
   },
   "outputs": [],
   "source": [
    "# this will select the df corresponding to number of clusters \n",
    "NUM_CLUSTERS = 29\n",
    "\n",
    "ID_DF = 'bat_215'\n",
    "\n",
    "#symbolic_sequences_offspring, G_offspring, seq_mapped_offspring = load_seq_data( 'offspring_relationships', 372)\n",
    "#symbolic_sequences_wildbats, G_wildbats, seq_mapped_wildbats = load_seq_data( 'wildbats_relationships', 175 )\n",
    "symbolic_sequences, G, seq_mapped = load_seq_data( ID_DF, NUM_CLUSTERS )"
   ]
  },
  {
   "cell_type": "code",
   "execution_count": 11,
   "id": "d6d1fbfc-cdb8-45ec-9680-881ff3421c0b",
   "metadata": {
    "tags": []
   },
   "outputs": [
    {
     "data": {
      "text/html": [
       "<div>\n",
       "<style scoped>\n",
       "    .dataframe tbody tr th:only-of-type {\n",
       "        vertical-align: middle;\n",
       "    }\n",
       "\n",
       "    .dataframe tbody tr th {\n",
       "        vertical-align: top;\n",
       "    }\n",
       "\n",
       "    .dataframe thead th {\n",
       "        text-align: right;\n",
       "    }\n",
       "</style>\n",
       "<table border=\"1\" class=\"dataframe\">\n",
       "  <thead>\n",
       "    <tr style=\"text-align: right;\">\n",
       "      <th></th>\n",
       "      <th>syllableID_qt_ward</th>\n",
       "      <th>syllableID_et_ward</th>\n",
       "      <th>commonSourceID</th>\n",
       "      <th>voc_segments</th>\n",
       "      <th>voc_segments_ix</th>\n",
       "      <th>voc_segments_duration</th>\n",
       "      <th>emitter</th>\n",
       "      <th>mfccs</th>\n",
       "      <th>mel_filtered</th>\n",
       "      <th>specs</th>\n",
       "      <th>...</th>\n",
       "      <th>temporal_stats</th>\n",
       "      <th>label_context</th>\n",
       "      <th>label_addressee</th>\n",
       "      <th>FileID</th>\n",
       "      <th>Folder</th>\n",
       "      <th>File name</th>\n",
       "      <th>Pos_segment</th>\n",
       "      <th>Start_seg</th>\n",
       "      <th>End_seg</th>\n",
       "      <th>Emitter</th>\n",
       "    </tr>\n",
       "    <tr>\n",
       "      <th>segmentID</th>\n",
       "      <th></th>\n",
       "      <th></th>\n",
       "      <th></th>\n",
       "      <th></th>\n",
       "      <th></th>\n",
       "      <th></th>\n",
       "      <th></th>\n",
       "      <th></th>\n",
       "      <th></th>\n",
       "      <th></th>\n",
       "      <th></th>\n",
       "      <th></th>\n",
       "      <th></th>\n",
       "      <th></th>\n",
       "      <th></th>\n",
       "      <th></th>\n",
       "      <th></th>\n",
       "      <th></th>\n",
       "      <th></th>\n",
       "      <th></th>\n",
       "      <th></th>\n",
       "    </tr>\n",
       "  </thead>\n",
       "  <tbody>\n",
       "    <tr>\n",
       "      <th>0</th>\n",
       "      <td>13</td>\n",
       "      <td>201</td>\n",
       "      <td>0</td>\n",
       "      <td>[1.41432665e-05, -3.5728386e-05, 1.7758794e-05...</td>\n",
       "      <td>(61822.0, files201, 121004165931143478.WAV, 0,...</td>\n",
       "      <td>35952</td>\n",
       "      <td>215</td>\n",
       "      <td>[[-740.9281, -738.7967, -738.887, -740.6574, -...</td>\n",
       "      <td>[[2.501173e-08, 6.530185e-08, 7.9928725e-08, 5...</td>\n",
       "      <td>[[1.5232453e-06, 6.4786386e-06, 3.016991e-06, ...</td>\n",
       "      <td>...</td>\n",
       "      <td>0.000277</td>\n",
       "      <td>6</td>\n",
       "      <td>217</td>\n",
       "      <td>61822.0</td>\n",
       "      <td>files201</td>\n",
       "      <td>121004165931143478.WAV</td>\n",
       "      <td>0</td>\n",
       "      <td>35795</td>\n",
       "      <td>71747</td>\n",
       "      <td>215</td>\n",
       "    </tr>\n",
       "  </tbody>\n",
       "</table>\n",
       "<p>1 rows × 28 columns</p>\n",
       "</div>"
      ],
      "text/plain": [
       "           syllableID_qt_ward  syllableID_et_ward  commonSourceID  \\\n",
       "segmentID                                                           \n",
       "0                          13                 201               0   \n",
       "\n",
       "                                                voc_segments  \\\n",
       "segmentID                                                      \n",
       "0          [1.41432665e-05, -3.5728386e-05, 1.7758794e-05...   \n",
       "\n",
       "                                             voc_segments_ix  \\\n",
       "segmentID                                                      \n",
       "0          (61822.0, files201, 121004165931143478.WAV, 0,...   \n",
       "\n",
       "          voc_segments_duration  emitter  \\\n",
       "segmentID                                  \n",
       "0                         35952      215   \n",
       "\n",
       "                                                       mfccs  \\\n",
       "segmentID                                                      \n",
       "0          [[-740.9281, -738.7967, -738.887, -740.6574, -...   \n",
       "\n",
       "                                                mel_filtered  \\\n",
       "segmentID                                                      \n",
       "0          [[2.501173e-08, 6.530185e-08, 7.9928725e-08, 5...   \n",
       "\n",
       "                                                       specs  ...  \\\n",
       "segmentID                                                     ...   \n",
       "0          [[1.5232453e-06, 6.4786386e-06, 3.016991e-06, ...  ...   \n",
       "\n",
       "          temporal_stats label_context label_addressee   FileID    Folder  \\\n",
       "segmentID                                                                   \n",
       "0               0.000277             6             217  61822.0  files201   \n",
       "\n",
       "                        File name Pos_segment Start_seg End_seg Emitter  \n",
       "segmentID                                                                \n",
       "0          121004165931143478.WAV           0     35795   71747     215  \n",
       "\n",
       "[1 rows x 28 columns]"
      ]
     },
     "execution_count": 11,
     "metadata": {},
     "output_type": "execute_result"
    }
   ],
   "source": [
    "seq_mapped.head(1)"
   ]
  },
  {
   "cell_type": "markdown",
   "id": "426c1e76-4066-4cc5-86ee-f6262ff62b4b",
   "metadata": {
    "tags": []
   },
   "source": [
    "# PST"
   ]
  },
  {
   "cell_type": "code",
   "execution_count": 13,
   "id": "9220a137-b607-4cbb-9cb9-29a2296d3bae",
   "metadata": {
    "tags": []
   },
   "outputs": [],
   "source": [
    "tree = Tree({\"A\": \"xabxac\"})"
   ]
  },
  {
   "cell_type": "code",
   "execution_count": 15,
   "id": "f53dd3f4-e26d-4b8e-8633-d3eeb333f64a",
   "metadata": {
    "tags": []
   },
   "outputs": [
    {
     "data": {
      "text/plain": [
       "True"
      ]
     },
     "execution_count": 15,
     "metadata": {},
     "output_type": "execute_result"
    }
   ],
   "source": [
    "tree.find('abx')"
   ]
  },
  {
   "cell_type": "code",
   "execution_count": null,
   "id": "a2cdc386-acd3-4f7b-81f0-10b934c07101",
   "metadata": {
    "tags": []
   },
   "outputs": [],
   "source": [
    "symbolic_sequences"
   ]
  },
  {
   "cell_type": "code",
   "execution_count": null,
   "id": "f99b6d63-b63a-436a-b6fa-a457d6f42f35",
   "metadata": {},
   "outputs": [],
   "source": []
  }
 ],
 "metadata": {
  "kernelspec": {
   "display_name": "Python 3 (ipykernel)",
   "language": "python",
   "name": "python3"
  },
  "language_info": {
   "codemirror_mode": {
    "name": "ipython",
    "version": 3
   },
   "file_extension": ".py",
   "mimetype": "text/x-python",
   "name": "python",
   "nbconvert_exporter": "python",
   "pygments_lexer": "ipython3",
   "version": "3.10.6"
  }
 },
 "nbformat": 4,
 "nbformat_minor": 5
}
