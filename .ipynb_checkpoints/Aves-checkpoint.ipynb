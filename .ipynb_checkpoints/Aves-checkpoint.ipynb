{
 "cells": [
  {
   "cell_type": "code",
   "execution_count": 2,
   "id": "25bd0f16-3a2a-4856-990f-e250a140fbf8",
   "metadata": {
    "tags": []
   },
   "outputs": [],
   "source": [
    "%load_ext autoreload\n",
    "%autoreload 2"
   ]
  },
  {
   "cell_type": "code",
   "execution_count": 4,
   "id": "e601c7af-0d56-4e13-b7b6-c5c07ffdfb9d",
   "metadata": {
    "tags": []
   },
   "outputs": [],
   "source": [
    "import automutualinformation\n",
    "import pickle\n",
    "\n",
    "# Load The Sequences!\n",
    "with open('symbolic_sequences_pup2mother_All.bkp.pkl','rb') as f:\n",
    "    symbolic_sequences = pickle.load(f)"
   ]
  },
  {
   "cell_type": "code",
   "execution_count": 8,
   "id": "5889d9cf-f6db-4af9-8332-0596d3a9de20",
   "metadata": {
    "tags": []
   },
   "outputs": [],
   "source": [
    "# wrapper lib\n",
    "from avgn.utils.paths import DATA_DIR, ensure_dir\n",
    "from pathlib2 import Path\n",
    "\n",
    "\n",
    "DATA_DIR = Path('./data')\n",
    "DSLOC = DATA_DIR / 'raw' / 'fruitbat'"
   ]
  },
  {
   "cell_type": "code",
   "execution_count": 12,
   "id": "1b5cbdc2-cd0c-4580-8a2c-3c361c8bdf7d",
   "metadata": {
    "tags": []
   },
   "outputs": [
    {
     "data": {
      "text/plain": [
       "PosixPath('data/raw/fruitbat')"
      ]
     },
     "execution_count": 12,
     "metadata": {},
     "output_type": "execute_result"
    }
   ],
   "source": [
    "DSLOC"
   ]
  },
  {
   "cell_type": "code",
   "execution_count": 6,
   "id": "77805b86-bb8d-4bf0-b310-d93cf9a06c85",
   "metadata": {
    "tags": []
   },
   "outputs": [],
   "source": [
    "import torchaudio\n",
    "waveform, sample_rate = torchaudio.load( DSLOC / 'zip_contents'/ 'files101' /  '120601000005102988.WAV'   )"
   ]
  },
  {
   "cell_type": "code",
   "execution_count": 22,
   "id": "e37e1b8f-b301-4a72-8af7-86cb1c470d36",
   "metadata": {
    "tags": []
   },
   "outputs": [],
   "source": [
    "symbolic_sequences['Path'] =  './data/raw/fruitbat/zip_contents/' + symbolic_sequences['Folder'] +'/' + symbolic_sequences['File name']"
   ]
  },
  {
   "cell_type": "code",
   "execution_count": 28,
   "id": "96ddbfd9-68f4-45dc-8d01-4bb04ccb8360",
   "metadata": {
    "tags": []
   },
   "outputs": [],
   "source": [
    "symbolic_sequences['waveform'] = symbolic_sequences['Path'].apply(lambda x  : torchaudio.load(x)[0])"
   ]
  },
  {
   "cell_type": "code",
   "execution_count": 33,
   "id": "b5da3900-8c8c-4e6e-b3b2-38545cf0194e",
   "metadata": {
    "tags": []
   },
   "outputs": [
    {
     "data": {
      "text/html": [
       "<div>\n",
       "<style scoped>\n",
       "    .dataframe tbody tr th:only-of-type {\n",
       "        vertical-align: middle;\n",
       "    }\n",
       "\n",
       "    .dataframe tbody tr th {\n",
       "        vertical-align: top;\n",
       "    }\n",
       "\n",
       "    .dataframe thead th {\n",
       "        text-align: right;\n",
       "    }\n",
       "</style>\n",
       "<table border=\"1\" class=\"dataframe\">\n",
       "  <thead>\n",
       "    <tr style=\"text-align: right;\">\n",
       "      <th></th>\n",
       "      <th>File name</th>\n",
       "      <th>Seq_Syllables</th>\n",
       "      <th>Duration</th>\n",
       "      <th>Folder</th>\n",
       "      <th>labels.label_addressee</th>\n",
       "      <th>labels.label_context</th>\n",
       "      <th>Path</th>\n",
       "      <th>waveform_col</th>\n",
       "    </tr>\n",
       "  </thead>\n",
       "  <tbody>\n",
       "    <tr>\n",
       "      <th>0</th>\n",
       "      <td>121002212651151905.WAV</td>\n",
       "      <td>[8, 2, 9]</td>\n",
       "      <td>[28341, 19373, 28746]</td>\n",
       "      <td>files201</td>\n",
       "      <td>[209]</td>\n",
       "      <td>[6]</td>\n",
       "      <td>./data/raw/fruitbat/zip_contents/files201/1210...</td>\n",
       "      <td>[[tensor(-0.0002), tensor(-0.0005), tensor(0.0...</td>\n",
       "    </tr>\n",
       "    <tr>\n",
       "      <th>1</th>\n",
       "      <td>121003075445185924.WAV</td>\n",
       "      <td>[9]</td>\n",
       "      <td>[26746]</td>\n",
       "      <td>files201</td>\n",
       "      <td>[209]</td>\n",
       "      <td>[6]</td>\n",
       "      <td>./data/raw/fruitbat/zip_contents/files201/1210...</td>\n",
       "      <td>[[tensor(3.0518e-05), tensor(-3.0518e-05), ten...</td>\n",
       "    </tr>\n",
       "    <tr>\n",
       "      <th>2</th>\n",
       "      <td>121004173718193940.WAV</td>\n",
       "      <td>[9, 9, 9]</td>\n",
       "      <td>[26773, 27746, 25246]</td>\n",
       "      <td>files201</td>\n",
       "      <td>[209]</td>\n",
       "      <td>[6]</td>\n",
       "      <td>./data/raw/fruitbat/zip_contents/files201/1210...</td>\n",
       "      <td>[[tensor(-0.0008), tensor(0.0008), tensor(0.00...</td>\n",
       "    </tr>\n",
       "    <tr>\n",
       "      <th>3</th>\n",
       "      <td>121005221219635013.WAV</td>\n",
       "      <td>[7, 9, 9]</td>\n",
       "      <td>[26756, 36746, 39246]</td>\n",
       "      <td>files202</td>\n",
       "      <td>[209]</td>\n",
       "      <td>[6]</td>\n",
       "      <td>./data/raw/fruitbat/zip_contents/files202/1210...</td>\n",
       "      <td>[[tensor(-3.0518e-05), tensor(-0.0003), tensor...</td>\n",
       "    </tr>\n",
       "    <tr>\n",
       "      <th>4</th>\n",
       "      <td>121006093630175196.WAV</td>\n",
       "      <td>[9]</td>\n",
       "      <td>[28746]</td>\n",
       "      <td>files202</td>\n",
       "      <td>[209]</td>\n",
       "      <td>[6]</td>\n",
       "      <td>./data/raw/fruitbat/zip_contents/files202/1210...</td>\n",
       "      <td>[[tensor(0.0003), tensor(-0.0006), tensor(-0.0...</td>\n",
       "    </tr>\n",
       "  </tbody>\n",
       "</table>\n",
       "</div>"
      ],
      "text/plain": [
       "                File name Seq_Syllables               Duration    Folder  \\\n",
       "0  121002212651151905.WAV     [8, 2, 9]  [28341, 19373, 28746]  files201   \n",
       "1  121003075445185924.WAV           [9]                [26746]  files201   \n",
       "2  121004173718193940.WAV     [9, 9, 9]  [26773, 27746, 25246]  files201   \n",
       "3  121005221219635013.WAV     [7, 9, 9]  [26756, 36746, 39246]  files202   \n",
       "4  121006093630175196.WAV           [9]                [28746]  files202   \n",
       "\n",
       "  labels.label_addressee labels.label_context  \\\n",
       "0                  [209]                  [6]   \n",
       "1                  [209]                  [6]   \n",
       "2                  [209]                  [6]   \n",
       "3                  [209]                  [6]   \n",
       "4                  [209]                  [6]   \n",
       "\n",
       "                                                Path  \\\n",
       "0  ./data/raw/fruitbat/zip_contents/files201/1210...   \n",
       "1  ./data/raw/fruitbat/zip_contents/files201/1210...   \n",
       "2  ./data/raw/fruitbat/zip_contents/files201/1210...   \n",
       "3  ./data/raw/fruitbat/zip_contents/files202/1210...   \n",
       "4  ./data/raw/fruitbat/zip_contents/files202/1210...   \n",
       "\n",
       "                                        waveform_col  \n",
       "0  [[tensor(-0.0002), tensor(-0.0005), tensor(0.0...  \n",
       "1  [[tensor(3.0518e-05), tensor(-3.0518e-05), ten...  \n",
       "2  [[tensor(-0.0008), tensor(0.0008), tensor(0.00...  \n",
       "3  [[tensor(-3.0518e-05), tensor(-0.0003), tensor...  \n",
       "4  [[tensor(0.0003), tensor(-0.0006), tensor(-0.0...  "
      ]
     },
     "execution_count": 33,
     "metadata": {},
     "output_type": "execute_result"
    }
   ],
   "source": [
    "symbolic_sequences.head()"
   ]
  },
  {
   "cell_type": "code",
   "execution_count": 1,
   "id": "49722f10-4e77-4de6-b447-6b21c73eee52",
   "metadata": {
    "tags": []
   },
   "outputs": [],
   "source": [
    "import torch\n",
    "from torch.utils.data import Dataset\n",
    "\n",
    "class WaveformDataset(Dataset):\n",
    "    def __init__(self, dataframe, waveform_col, label_col, transform=None):\n",
    "        \"\"\"\n",
    "        Custom PyTorch dataset for waveform data with multiple labels.\n",
    "        \n",
    "        Args:\n",
    "            dataframe (pandas.DataFrame): Input dataframe that contains waveform data and labels.\n",
    "            waveform_col (str): Name of the column in the dataframe that contains waveform data.\n",
    "            label_col (str): Name of the column in the dataframe that contains label data.\n",
    "            transform (callable, optional): Optional data transformation function to be applied to the waveforms.\n",
    "        \"\"\"\n",
    "        self.dataframe = dataframe\n",
    "        self.waveform_col = waveform_col\n",
    "        self.label_col = label_col\n",
    "        self.transform = transform\n",
    "\n",
    "    def __len__(self):\n",
    "        return len(self.dataframe)\n",
    "\n",
    "    def __getitem__(self, index):\n",
    "        waveform = self.dataframe.loc[index, self.waveform_col]  # Get waveform data at index\n",
    "        label = self.dataframe.loc[index, self.label_col]  # Get label data at index\n",
    "\n",
    "        # Apply data transformation if provided\n",
    "        if self.transform is not None:\n",
    "            waveform = self.transform(waveform)\n",
    "\n",
    "        return waveform, label"
   ]
  },
  {
   "cell_type": "code",
   "execution_count": 42,
   "id": "9cda6beb-1d64-4a4e-a63f-f5d48b3cb723",
   "metadata": {
    "tags": []
   },
   "outputs": [],
   "source": [
    "dataset = WaveformDataset(symbolic_sequences, 'waveform_col','labels.label_context')"
   ]
  },
  {
   "cell_type": "code",
   "execution_count": 43,
   "id": "def73bed-2ce1-42ea-a233-8ba5ca42b870",
   "metadata": {
    "tags": []
   },
   "outputs": [
    {
     "data": {
      "text/plain": [
       "(tensor([[-0.0002, -0.0005,  0.0008,  ...,  0.0010,  0.0003,  0.0003]]), ['6'])"
      ]
     },
     "execution_count": 43,
     "metadata": {},
     "output_type": "execute_result"
    }
   ],
   "source": [
    "dataset.__getitem__(0)"
   ]
  },
  {
   "cell_type": "code",
   "execution_count": null,
   "id": "842f06b5-24d1-486d-9285-0388e4ee959e",
   "metadata": {},
   "outputs": [],
   "source": []
  }
 ],
 "metadata": {
  "kernelspec": {
   "display_name": "Python 3 (ipykernel)",
   "language": "python",
   "name": "python3"
  },
  "language_info": {
   "codemirror_mode": {
    "name": "ipython",
    "version": 3
   },
   "file_extension": ".py",
   "mimetype": "text/x-python",
   "name": "python",
   "nbconvert_exporter": "python",
   "pygments_lexer": "ipython3",
   "version": "3.10.6"
  }
 },
 "nbformat": 4,
 "nbformat_minor": 5
}
