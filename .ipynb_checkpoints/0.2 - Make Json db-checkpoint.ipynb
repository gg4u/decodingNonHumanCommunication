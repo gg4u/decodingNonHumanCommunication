{
 "cells": [
  {
   "cell_type": "code",
   "execution_count": 1,
   "id": "39e23ff0-14d7-41bf-b2a4-8d27ea408ac9",
   "metadata": {
    "tags": []
   },
   "outputs": [],
   "source": [
    "%load_ext autoreload\n",
    "%autoreload 2"
   ]
  },
  {
   "cell_type": "code",
   "execution_count": 7,
   "id": "ae747b91-3bf6-4ca2-ac28-adfb73fa83f9",
   "metadata": {
    "tags": []
   },
   "outputs": [],
   "source": [
    "from joblib import Parallel, delayed\n",
    "from tqdm.autonotebook import tqdm\n",
    "import pandas as pd\n",
    "import librosa\n",
    "from datetime import datetime\n",
    "import json\n",
    "from IPython.display import display\n",
    "from pathlib2 import Path"
   ]
  },
  {
   "cell_type": "code",
   "execution_count": 4,
   "id": "ac515e86-7008-4ddb-bbdb-0f03822705f7",
   "metadata": {
    "tags": []
   },
   "outputs": [],
   "source": [
    "import pandas as pd\n",
    "import numpy as np\n",
    "import matplotlib.pyplot as plt"
   ]
  },
  {
   "cell_type": "code",
   "execution_count": 5,
   "id": "5eb89857-aafc-435e-a869-230a7cb1e40a",
   "metadata": {
    "tags": []
   },
   "outputs": [],
   "source": [
    "from avgn.utils.paths import DATA_DIR, ensure_dir"
   ]
  },
  {
   "cell_type": "code",
   "execution_count": 8,
   "id": "ba9e6d0b-b772-49b3-b0b1-186b3db8d46c",
   "metadata": {
    "tags": []
   },
   "outputs": [],
   "source": [
    "DATA_DIR = Path('./data')\n",
    "DSLOC = DATA_DIR / 'raw' / 'fruitbat'"
   ]
  },
  {
   "cell_type": "markdown",
   "id": "47cf1658-2708-4f7e-8874-62e49fa1d116",
   "metadata": {},
   "source": [
    "## Prepare DataFrames"
   ]
  },
  {
   "cell_type": "code",
   "execution_count": null,
   "id": "1613dc0e-33ba-4464-9687-093bdbad09c5",
   "metadata": {},
   "outputs": [
    {
     "data": {
      "text/plain": [
       "91080"
      ]
     },
     "execution_count": 11,
     "metadata": {},
     "output_type": "execute_result"
    }
   ],
   "source": [
    "# Annotations\n",
    "annotations =  pd.read_csv(DSLOC/'Annotations.csv')\n",
    "\n",
    "annotations = annotations.astype({\n",
    "    'FileID' : int,\n",
    "    'Emitter' : int,\n",
    "    'Addressee' : int,\n",
    "    'Context' :int,\n",
    "    'Emitter pre-vocalization action' : int,\n",
    "    'Addressee pre-vocalization action': int,\n",
    "    'Emitter post-vocalization action' : int,\n",
    "    'Addressee post-vocalization action' : int,\n",
    "    'Start sample': float,\n",
    "    'End sample' : float\n",
    "})\n",
    "\n",
    "len(annotations)"
   ]
  },
  {
   "cell_type": "code",
   "execution_count": 12,
   "id": "35d83790-289a-4f4c-b8de-0772a34de22b",
   "metadata": {
    "tags": []
   },
   "outputs": [
    {
     "name": "stderr",
     "output_type": "stream",
     "text": [
      "/tmp/ipykernel_3510267/499572570.py:15: DtypeWarning: Columns (0,1,4,6,7,8,9,10) have mixed types. Specify dtype option on import or set low_memory=False.\n",
      "  file_info = pd.read_csv(DSLOC/'FileInfo.csv', header=None, delimiter=\",\", names=column_names)\n"
     ]
    },
    {
     "data": {
      "text/plain": [
       "(293238, 331)"
      ]
     },
     "execution_count": 12,
     "metadata": {},
     "output_type": "execute_result"
    }
   ],
   "source": [
    "# FileInfo\n",
    "\n",
    "\"\"\" fruit bat db is malformed. \n",
    "Recreate the db with proper columns.\n",
    "\"\"\"\n",
    "\n",
    "with open(DSLOC/'FileInfo.csv', 'r') as temp_f:\n",
    "    # get No of columns in each line\n",
    "    col_count = [ len(l.split(\",\")) for l in temp_f.readlines() ]\n",
    "\n",
    "### Generate column names  (names will be 0, 1, 2, ..., maximum columns - 1)\n",
    "column_names = [i for i in range(0, max(col_count))]\n",
    "\n",
    "### Read csv\n",
    "file_info = pd.read_csv(DSLOC/'FileInfo.csv', header=None, delimiter=\",\", names=column_names)\n",
    "file_info, file_info.columns = file_info[1:] , file_info.iloc[0]\n",
    "\n",
    "# recreate the header\n",
    "samples_boundaries = np.arange(1, 1 + file_info.shape[1] - 6)\n",
    "voice_starts = samples_boundaries[::2]\n",
    "voice_ends = samples_boundaries[1::2]\n",
    "col_samples_boundaries = { val : float for pair in zip(['voice_start_sample_{}'.format(i + 1)for i in range(len(voice_starts))  ], \n",
    "        ['voice_end_sample_{}'.format(i + 1) for i in range(len(voice_ends))  ]) for val in pair }\n",
    "\n",
    "col_names = ['FileID','Treatment ID','File name','File folder','Recording channel','Recording time'] + \\\n",
    "    [ val for pair in zip(['voice_start_sample_{}'.format(i + 1)for i in range(len(voice_starts))  ], \n",
    "        ['voice_end_sample_{}'.format(i + 1) for i in range(len(voice_ends))  ]) for val in pair]\n",
    "\n",
    "columns_types = {\n",
    "    'FileID' : int,\n",
    "    'Treatment ID' : int,\n",
    "    'File name' : str,\n",
    "    'File folder' : str,\n",
    "    'Recording channel' : int,\n",
    "    'Recording time' : 'datetime64[ms]',\n",
    "} | col_samples_boundaries\n",
    " \n",
    "\n",
    "# set the new header\n",
    "file_info.columns = columns_types.keys()\n",
    "\n",
    "\n",
    "#ensure datatypes are meaningful\n",
    "file_info = file_info.astype(columns_types)\n",
    "\n",
    "# set index\n",
    "file_info.set_index('FileID', inplace=True)\n",
    "\n",
    "# shape\n",
    "file_info.shape"
   ]
  },
  {
   "cell_type": "code",
   "execution_count": 53,
   "id": "7313c39d-b5dd-46e7-a100-48ecb5f8ada1",
   "metadata": {
    "tags": []
   },
   "outputs": [
    {
     "data": {
      "text/plain": [
       "(293238,\n",
       " PosixPath('data/raw/fruitbat/zip_contents/files222/130527125845741428.WAV'))"
      ]
     },
     "execution_count": 53,
     "metadata": {},
     "output_type": "execute_result"
    }
   ],
   "source": [
    "# Wav files\n",
    "wavfiles = list(DSLOC.glob('zip_contents/*/*.WAV'))\n",
    "len(wavfiles), wavfiles[0]"
   ]
  },
  {
   "cell_type": "code",
   "execution_count": 54,
   "id": "6970cbb2-1a89-40ae-ba59-fd0c88c7297a",
   "metadata": {
    "tags": []
   },
   "outputs": [
    {
     "data": {
      "application/vnd.jupyter.widget-view+json": {
       "model_id": "499146e3ff0042d0a00de26c3add4654",
       "version_major": 2,
       "version_minor": 0
      },
      "text/plain": [
       "  0%|          | 0/293238 [00:00<?, ?it/s]"
      ]
     },
     "metadata": {},
     "output_type": "display_data"
    },
    {
     "data": {
      "text/plain": [
       "293238"
      ]
     },
     "execution_count": 54,
     "metadata": {},
     "output_type": "execute_result"
    }
   ],
   "source": [
    "wf_df = pd.DataFrame(\n",
    "    [[wf, wf.name, wf.parent.stem] for wf in tqdm(wavfiles)],\n",
    "    columns=[\"wav_loc\", \"id\", \"folder\"],\n",
    ")\n",
    "wf_df = wf_df.set_index('id')\n",
    "len(wf_df)"
   ]
  },
  {
   "cell_type": "code",
   "execution_count": 55,
   "id": "ab3a85e9-bbc3-4d27-bd0e-3486cbe64b29",
   "metadata": {
    "tags": []
   },
   "outputs": [
    {
     "data": {
      "text/html": [
       "<div>\n",
       "<style scoped>\n",
       "    .dataframe tbody tr th:only-of-type {\n",
       "        vertical-align: middle;\n",
       "    }\n",
       "\n",
       "    .dataframe tbody tr th {\n",
       "        vertical-align: top;\n",
       "    }\n",
       "\n",
       "    .dataframe thead th {\n",
       "        text-align: right;\n",
       "    }\n",
       "</style>\n",
       "<table border=\"1\" class=\"dataframe\">\n",
       "  <thead>\n",
       "    <tr style=\"text-align: right;\">\n",
       "      <th></th>\n",
       "      <th>wav_loc</th>\n",
       "      <th>folder</th>\n",
       "    </tr>\n",
       "    <tr>\n",
       "      <th>id</th>\n",
       "      <th></th>\n",
       "      <th></th>\n",
       "    </tr>\n",
       "  </thead>\n",
       "  <tbody>\n",
       "    <tr>\n",
       "      <th>130527125845741428.WAV</th>\n",
       "      <td>data/raw/fruitbat/zip_contents/files222/130527...</td>\n",
       "      <td>files222</td>\n",
       "    </tr>\n",
       "    <tr>\n",
       "      <th>130530225847479598.WAV</th>\n",
       "      <td>data/raw/fruitbat/zip_contents/files222/130530...</td>\n",
       "      <td>files222</td>\n",
       "    </tr>\n",
       "    <tr>\n",
       "      <th>130530004918782202.WAV</th>\n",
       "      <td>data/raw/fruitbat/zip_contents/files222/130530...</td>\n",
       "      <td>files222</td>\n",
       "    </tr>\n",
       "    <tr>\n",
       "      <th>130522231228763645.WAV</th>\n",
       "      <td>data/raw/fruitbat/zip_contents/files222/130522...</td>\n",
       "      <td>files222</td>\n",
       "    </tr>\n",
       "    <tr>\n",
       "      <th>130531182616717977.WAV</th>\n",
       "      <td>data/raw/fruitbat/zip_contents/files222/130531...</td>\n",
       "      <td>files222</td>\n",
       "    </tr>\n",
       "  </tbody>\n",
       "</table>\n",
       "</div>"
      ],
      "text/plain": [
       "                                                                  wav_loc  \\\n",
       "id                                                                          \n",
       "130527125845741428.WAV  data/raw/fruitbat/zip_contents/files222/130527...   \n",
       "130530225847479598.WAV  data/raw/fruitbat/zip_contents/files222/130530...   \n",
       "130530004918782202.WAV  data/raw/fruitbat/zip_contents/files222/130530...   \n",
       "130522231228763645.WAV  data/raw/fruitbat/zip_contents/files222/130522...   \n",
       "130531182616717977.WAV  data/raw/fruitbat/zip_contents/files222/130531...   \n",
       "\n",
       "                          folder  \n",
       "id                                \n",
       "130527125845741428.WAV  files222  \n",
       "130530225847479598.WAV  files222  \n",
       "130530004918782202.WAV  files222  \n",
       "130522231228763645.WAV  files222  \n",
       "130531182616717977.WAV  files222  "
      ]
     },
     "execution_count": 55,
     "metadata": {},
     "output_type": "execute_result"
    }
   ],
   "source": [
    "wf_df.head()"
   ]
  },
  {
   "cell_type": "markdown",
   "id": "ba522460-7f64-4da0-9457-5ba328a8eb58",
   "metadata": {},
   "source": [
    "## Prepare Json"
   ]
  },
  {
   "cell_type": "code",
   "execution_count": 20,
   "id": "b4710f4c-f039-4b48-a154-03db5bfaf5e2",
   "metadata": {
    "tags": []
   },
   "outputs": [],
   "source": [
    "context_dict = {\n",
    "    0:'Unknown',\n",
    "    1:'Separation',\n",
    "    2:'Biting',\n",
    "    3:'Feeding',\n",
    "    4:'Fighting',\n",
    "    5:'Grooming',\n",
    "    6:'Isolation',\n",
    "    7:'Kissing',\n",
    "    8:'Landing',\n",
    "    9:'Mating protest',\n",
    "    10:'Threat-like',\n",
    "    11:'General',\n",
    "    12:'Sleeping',\n",
    "}"
   ]
  },
  {
   "cell_type": "code",
   "execution_count": 16,
   "id": "fa4717da-ea93-4ee8-850b-8d8149c5bbfe",
   "metadata": {
    "tags": []
   },
   "outputs": [],
   "source": [
    "from avgn.utils.audio import get_samplerate\n",
    "from avgn.utils.json import NoIndent, NoIndentEncoder\n",
    "from datetime import datetime\n",
    "import librosa\n",
    "import json"
   ]
  },
  {
   "cell_type": "code",
   "execution_count": 17,
   "id": "c8720c7d-754c-476a-9f93-528e31ce7091",
   "metadata": {
    "tags": []
   },
   "outputs": [],
   "source": [
    "DATASET_ID = \"fruitbat\""
   ]
  },
  {
   "cell_type": "code",
   "execution_count": 18,
   "id": "b39b7799-9ee7-49be-8c3b-4662e1513148",
   "metadata": {
    "tags": []
   },
   "outputs": [
    {
     "data": {
      "text/plain": [
       "'2023-03-04_21-59-19'"
      ]
     },
     "execution_count": 18,
     "metadata": {},
     "output_type": "execute_result"
    }
   ],
   "source": [
    "# create a unique datetime identifier for the files output by this notebook\n",
    "DT_ID = datetime.now().strftime(\"%Y-%m-%d_%H-%M-%S\")\n",
    "DT_ID"
   ]
  },
  {
   "cell_type": "code",
   "execution_count": null,
   "id": "89216380-c2a6-4982-be5f-e8edf8c92d0a",
   "metadata": {},
   "outputs": [],
   "source": []
  },
  {
   "cell_type": "code",
   "execution_count": 19,
   "id": "85089184-6043-4681-95f9-6ae80633a45e",
   "metadata": {
    "tags": []
   },
   "outputs": [
    {
     "data": {
      "text/html": [
       "<div>\n",
       "<style scoped>\n",
       "    .dataframe tbody tr th:only-of-type {\n",
       "        vertical-align: middle;\n",
       "    }\n",
       "\n",
       "    .dataframe tbody tr th {\n",
       "        vertical-align: top;\n",
       "    }\n",
       "\n",
       "    .dataframe thead th {\n",
       "        text-align: right;\n",
       "    }\n",
       "</style>\n",
       "<table border=\"1\" class=\"dataframe\">\n",
       "  <thead>\n",
       "    <tr style=\"text-align: right;\">\n",
       "      <th></th>\n",
       "      <th>FileID</th>\n",
       "      <th>Emitter</th>\n",
       "      <th>Addressee</th>\n",
       "      <th>Context</th>\n",
       "      <th>Emitter pre-vocalization action</th>\n",
       "      <th>Addressee pre-vocalization action</th>\n",
       "      <th>Emitter post-vocalization action</th>\n",
       "      <th>Addressee post-vocalization action</th>\n",
       "      <th>Start sample</th>\n",
       "      <th>End sample</th>\n",
       "    </tr>\n",
       "  </thead>\n",
       "  <tbody>\n",
       "    <tr>\n",
       "      <th>0</th>\n",
       "      <td>7</td>\n",
       "      <td>118</td>\n",
       "      <td>0</td>\n",
       "      <td>9</td>\n",
       "      <td>2</td>\n",
       "      <td>2</td>\n",
       "      <td>3</td>\n",
       "      <td>3</td>\n",
       "      <td>1.0</td>\n",
       "      <td>336720.0</td>\n",
       "    </tr>\n",
       "  </tbody>\n",
       "</table>\n",
       "</div>"
      ],
      "text/plain": [
       "   FileID  Emitter  Addressee  Context  Emitter pre-vocalization action  \\\n",
       "0       7      118          0        9                                2   \n",
       "\n",
       "   Addressee pre-vocalization action  Emitter post-vocalization action  \\\n",
       "0                                  2                                 3   \n",
       "\n",
       "   Addressee post-vocalization action  Start sample  End sample  \n",
       "0                                   3           1.0    336720.0  "
      ]
     },
     "metadata": {},
     "output_type": "display_data"
    },
    {
     "data": {
      "text/html": [
       "<div>\n",
       "<style scoped>\n",
       "    .dataframe tbody tr th:only-of-type {\n",
       "        vertical-align: middle;\n",
       "    }\n",
       "\n",
       "    .dataframe tbody tr th {\n",
       "        vertical-align: top;\n",
       "    }\n",
       "\n",
       "    .dataframe thead th {\n",
       "        text-align: right;\n",
       "    }\n",
       "</style>\n",
       "<table border=\"1\" class=\"dataframe\">\n",
       "  <thead>\n",
       "    <tr style=\"text-align: right;\">\n",
       "      <th></th>\n",
       "      <th>wav_loc</th>\n",
       "      <th>folder</th>\n",
       "    </tr>\n",
       "    <tr>\n",
       "      <th>id</th>\n",
       "      <th></th>\n",
       "      <th></th>\n",
       "    </tr>\n",
       "  </thead>\n",
       "  <tbody>\n",
       "    <tr>\n",
       "      <th>121112003518920255.WAV</th>\n",
       "      <td>data/raw/fruitbat/zip_contents/files205/121112...</td>\n",
       "      <td>files205</td>\n",
       "    </tr>\n",
       "  </tbody>\n",
       "</table>\n",
       "</div>"
      ],
      "text/plain": [
       "                                                                  wav_loc  \\\n",
       "id                                                                          \n",
       "121112003518920255.WAV  data/raw/fruitbat/zip_contents/files205/121112...   \n",
       "\n",
       "                          folder  \n",
       "id                                \n",
       "121112003518920255.WAV  files205  "
      ]
     },
     "metadata": {},
     "output_type": "display_data"
    },
    {
     "data": {
      "text/html": [
       "<div>\n",
       "<style scoped>\n",
       "    .dataframe tbody tr th:only-of-type {\n",
       "        vertical-align: middle;\n",
       "    }\n",
       "\n",
       "    .dataframe tbody tr th {\n",
       "        vertical-align: top;\n",
       "    }\n",
       "\n",
       "    .dataframe thead th {\n",
       "        text-align: right;\n",
       "    }\n",
       "</style>\n",
       "<table border=\"1\" class=\"dataframe\">\n",
       "  <thead>\n",
       "    <tr style=\"text-align: right;\">\n",
       "      <th></th>\n",
       "      <th>Treatment ID</th>\n",
       "      <th>File name</th>\n",
       "      <th>File folder</th>\n",
       "      <th>Recording channel</th>\n",
       "      <th>Recording time</th>\n",
       "      <th>voice_start_sample_1</th>\n",
       "      <th>voice_end_sample_1</th>\n",
       "      <th>voice_start_sample_2</th>\n",
       "      <th>voice_end_sample_2</th>\n",
       "      <th>voice_start_sample_3</th>\n",
       "      <th>...</th>\n",
       "      <th>voice_start_sample_159</th>\n",
       "      <th>voice_end_sample_159</th>\n",
       "      <th>voice_start_sample_160</th>\n",
       "      <th>voice_end_sample_160</th>\n",
       "      <th>voice_start_sample_161</th>\n",
       "      <th>voice_end_sample_161</th>\n",
       "      <th>voice_start_sample_162</th>\n",
       "      <th>voice_end_sample_162</th>\n",
       "      <th>voice_start_sample_163</th>\n",
       "      <th>voice_end_sample_163</th>\n",
       "    </tr>\n",
       "    <tr>\n",
       "      <th>FileID</th>\n",
       "      <th></th>\n",
       "      <th></th>\n",
       "      <th></th>\n",
       "      <th></th>\n",
       "      <th></th>\n",
       "      <th></th>\n",
       "      <th></th>\n",
       "      <th></th>\n",
       "      <th></th>\n",
       "      <th></th>\n",
       "      <th></th>\n",
       "      <th></th>\n",
       "      <th></th>\n",
       "      <th></th>\n",
       "      <th></th>\n",
       "      <th></th>\n",
       "      <th></th>\n",
       "      <th></th>\n",
       "      <th></th>\n",
       "      <th></th>\n",
       "      <th></th>\n",
       "    </tr>\n",
       "  </thead>\n",
       "  <tbody>\n",
       "    <tr>\n",
       "      <th>1</th>\n",
       "      <td>1</td>\n",
       "      <td>120601000005102988.WAV</td>\n",
       "      <td>files101</td>\n",
       "      <td>11</td>\n",
       "      <td>2012-06-01 00:01:57</td>\n",
       "      <td>52100.0</td>\n",
       "      <td>120902.0</td>\n",
       "      <td>130577.0</td>\n",
       "      <td>158906.0</td>\n",
       "      <td>NaN</td>\n",
       "      <td>...</td>\n",
       "      <td>NaN</td>\n",
       "      <td>NaN</td>\n",
       "      <td>NaN</td>\n",
       "      <td>NaN</td>\n",
       "      <td>NaN</td>\n",
       "      <td>NaN</td>\n",
       "      <td>NaN</td>\n",
       "      <td>NaN</td>\n",
       "      <td>NaN</td>\n",
       "      <td>NaN</td>\n",
       "    </tr>\n",
       "  </tbody>\n",
       "</table>\n",
       "<p>1 rows × 331 columns</p>\n",
       "</div>"
      ],
      "text/plain": [
       "        Treatment ID               File name File folder  Recording channel  \\\n",
       "FileID                                                                        \n",
       "1                  1  120601000005102988.WAV    files101                 11   \n",
       "\n",
       "            Recording time  voice_start_sample_1  voice_end_sample_1  \\\n",
       "FileID                                                                 \n",
       "1      2012-06-01 00:01:57               52100.0            120902.0   \n",
       "\n",
       "        voice_start_sample_2  voice_end_sample_2  voice_start_sample_3  ...  \\\n",
       "FileID                                                                  ...   \n",
       "1                   130577.0            158906.0                   NaN  ...   \n",
       "\n",
       "        voice_start_sample_159  voice_end_sample_159  voice_start_sample_160  \\\n",
       "FileID                                                                         \n",
       "1                          NaN                   NaN                     NaN   \n",
       "\n",
       "        voice_end_sample_160  voice_start_sample_161  voice_end_sample_161  \\\n",
       "FileID                                                                       \n",
       "1                        NaN                     NaN                   NaN   \n",
       "\n",
       "        voice_start_sample_162  voice_end_sample_162  voice_start_sample_163  \\\n",
       "FileID                                                                         \n",
       "1                          NaN                   NaN                     NaN   \n",
       "\n",
       "        voice_end_sample_163  \n",
       "FileID                        \n",
       "1                        NaN  \n",
       "\n",
       "[1 rows x 331 columns]"
      ]
     },
     "metadata": {},
     "output_type": "display_data"
    }
   ],
   "source": [
    "display(annotations[:1])\n",
    "display(wf_df[:1])\n",
    "display(file_info[:1])"
   ]
  },
  {
   "cell_type": "code",
   "execution_count": 21,
   "id": "a6377fec-89f4-43e1-84be-33827be3d8ee",
   "metadata": {
    "tags": []
   },
   "outputs": [],
   "source": [
    "from avgn.utils.json import NoIndent, NoIndentEncoder"
   ]
  },
  {
   "cell_type": "code",
   "execution_count": 56,
   "id": "00d2bd12-3d1b-4e9f-beeb-9f495f080633",
   "metadata": {
    "tags": []
   },
   "outputs": [
    {
     "data": {
      "application/vnd.jupyter.widget-view+json": {
       "model_id": "fd0f8d39ebc546a1ac40596a2c86c38d",
       "version_major": 2,
       "version_minor": 0
      },
      "text/plain": [
       "  0%|          | 0/87986 [00:00<?, ?it/s]"
      ]
     },
     "metadata": {},
     "output_type": "display_data"
    }
   ],
   "source": [
    "# check\n",
    "missing_wav = 0\n",
    "missing_folder = set()\n",
    "# for each unique wav\n",
    "for FID in tqdm(annotations.FileID.unique()):\n",
    "    file_row = file_info.loc[FID]\n",
    "    try:\n",
    "        wav_row = wf_df.loc[file_row[\"File name\"]]\n",
    "    except KeyError as e:\n",
    "        missing_wav += 1\n",
    "        missing_folder.add(file_row[\"File folder\"])\n",
    "        continue"
   ]
  },
  {
   "cell_type": "code",
   "execution_count": 57,
   "id": "d0e0f27a-1659-4295-83f6-d35b80ef439d",
   "metadata": {
    "tags": []
   },
   "outputs": [
    {
     "data": {
      "text/plain": [
       "0"
      ]
     },
     "execution_count": 57,
     "metadata": {},
     "output_type": "execute_result"
    }
   ],
   "source": [
    "missing_wav"
   ]
  },
  {
   "cell_type": "code",
   "execution_count": 58,
   "id": "d8573cb1-485f-4785-9ece-a3f3d56d4690",
   "metadata": {
    "tags": []
   },
   "outputs": [
    {
     "data": {
      "text/plain": [
       "set()"
      ]
     },
     "execution_count": 58,
     "metadata": {},
     "output_type": "execute_result"
    }
   ],
   "source": [
    "missing_folder"
   ]
  },
  {
   "cell_type": "code",
   "execution_count": 44,
   "id": "098472a9-bde4-44b0-b1ec-fb56812ab7e9",
   "metadata": {
    "tags": []
   },
   "outputs": [
    {
     "data": {
      "text/plain": [
       "FileID                                 21722.0\n",
       "Emitter                                 -116.0\n",
       "Addressee                                  0.0\n",
       "Context                                   11.0\n",
       "Emitter pre-vocalization action            1.0\n",
       "Addressee pre-vocalization action          3.0\n",
       "Emitter post-vocalization action           3.0\n",
       "Addressee post-vocalization action         3.0\n",
       "Start sample                               1.0\n",
       "End sample                            623440.0\n",
       "Name: 4101, dtype: float64"
      ]
     },
     "execution_count": 44,
     "metadata": {},
     "output_type": "execute_result"
    }
   ],
   "source": [
    "annotations.iloc[4101]"
   ]
  },
  {
   "cell_type": "code",
   "execution_count": 47,
   "id": "aab5f8bb-86cd-4001-9153-c06d55c925f8",
   "metadata": {
    "tags": []
   },
   "outputs": [
    {
     "data": {
      "text/plain": [
       "Treatment ID                                   2\n",
       "File name                 120707013847142851.WAV\n",
       "File folder                             files103\n",
       "Recording channel                             12\n",
       "Recording time               2012-07-07 01:49:35\n",
       "                                   ...          \n",
       "voice_end_sample_161                         NaN\n",
       "voice_start_sample_162                       NaN\n",
       "voice_end_sample_162                         NaN\n",
       "voice_start_sample_163                       NaN\n",
       "voice_end_sample_163                         NaN\n",
       "Name: 21722, Length: 331, dtype: object"
      ]
     },
     "execution_count": 47,
     "metadata": {},
     "output_type": "execute_result"
    }
   ],
   "source": [
    "file_info.loc[21722]"
   ]
  },
  {
   "cell_type": "code",
   "execution_count": 46,
   "id": "046625b7-3f8b-4806-8912-70b7a8afb792",
   "metadata": {
    "tags": []
   },
   "outputs": [
    {
     "data": {
      "text/plain": [
       "wav_loc    data/raw/fruitbat/zip_contents/files103/120707...\n",
       "folder                                              files103\n",
       "Name: 120707013847142851.WAV, dtype: object"
      ]
     },
     "execution_count": 46,
     "metadata": {},
     "output_type": "execute_result"
    }
   ],
   "source": [
    "wf_df.loc['120707013847142851.WAV']"
   ]
  },
  {
   "cell_type": "code",
   "execution_count": null,
   "id": "1bbfad9d-d3f3-4261-9967-6770311d53e8",
   "metadata": {},
   "outputs": [],
   "source": [
    "# get the file\n",
    "file_annotations = annotations[annotations.FileID == FID].sort_values(\n",
    "    by=\"Start sample\"\n",
    ")"
   ]
  }
 ],
 "metadata": {
  "kernelspec": {
   "display_name": "Python 3 (ipykernel)",
   "language": "python",
   "name": "python3"
  },
  "language_info": {
   "codemirror_mode": {
    "name": "ipython",
    "version": 3
   },
   "file_extension": ".py",
   "mimetype": "text/x-python",
   "name": "python",
   "nbconvert_exporter": "python",
   "pygments_lexer": "ipython3",
   "version": "3.10.6"
  }
 },
 "nbformat": 4,
 "nbformat_minor": 5
}
