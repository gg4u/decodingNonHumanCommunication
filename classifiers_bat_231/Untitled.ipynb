{
 "cells": [
  {
   "cell_type": "code",
   "execution_count": 1,
   "id": "6d897f8b-c0e2-4267-ba6f-9219566cd8a7",
   "metadata": {
    "tags": []
   },
   "outputs": [],
   "source": [
    "%load_ext autoreload\n",
    "%autoreload 2"
   ]
  },
  {
   "cell_type": "code",
   "execution_count": null,
   "id": "5ee326b2-7a29-40b8-9c63-bc41ecbb3102",
   "metadata": {},
   "outputs": [],
   "source": []
  },
  {
   "cell_type": "code",
   "execution_count": 16,
   "id": "7aa608cb-0e58-446e-8e79-4eb810771467",
   "metadata": {
    "tags": []
   },
   "outputs": [
    {
     "name": "stdout",
     "output_type": "stream",
     "text": [
      "/bin/bash: /home/h21/luas6629/miniconda3/lib/libtinfo.so.6: no version information available (required by /bin/bash)\n",
      "/data0/home/h21/luas6629/Thesis/classifiers_bat_231\n"
     ]
    }
   ],
   "source": [
    "!pwd"
   ]
  },
  {
   "cell_type": "code",
   "execution_count": 10,
   "id": "7afa8996-22cf-4c94-8330-6b6840f757dc",
   "metadata": {
    "tags": []
   },
   "outputs": [],
   "source": [
    "#pip install torch==2.0.0+cu118 torchvision==0.15.1+cu118 torchaudio==2.0.1 --index-url https://download.pytorch.org/whl/cu118"
   ]
  },
  {
   "cell_type": "code",
   "execution_count": 34,
   "id": "933157d3-458f-476d-80a0-6d8165475933",
   "metadata": {
    "tags": []
   },
   "outputs": [
    {
     "name": "stdout",
     "output_type": "stream",
     "text": [
      "/bin/bash: /home/h21/luas6629/miniconda3/lib/libtinfo.so.6: no version information available (required by /bin/bash)\n",
      "Collecting package metadata (current_repodata.json): done\n",
      "Solving environment: done\n",
      "\n",
      "## Package Plan ##\n",
      "\n",
      "  environment location: /home/h21/luas6629/miniconda3\n",
      "\n",
      "  added / updated specs:\n",
      "    - cudatoolkit\n",
      "    - pytorch\n",
      "    - torchaudio\n",
      "    - torchvision\n",
      "\n",
      "\n",
      "The following packages will be downloaded:\n",
      "\n",
      "    package                    |            build\n",
      "    ---------------------------|-----------------\n",
      "    openssl-3.0.9              |       h7f8727e_0         5.2 MB\n",
      "    torchaudio-2.0.2           |        py310_cpu         7.3 MB  pytorch\n",
      "    ------------------------------------------------------------\n",
      "                                           Total:        12.5 MB\n",
      "\n",
      "The following NEW packages will be INSTALLED:\n",
      "\n",
      "  ffmpeg             pytorch/linux-64::ffmpeg-4.3-hf484d3e_0 \n",
      "  filelock           pkgs/main/linux-64::filelock-3.9.0-py310h06a4308_0 \n",
      "  gmp                pkgs/main/linux-64::gmp-6.2.1-h295c915_3 \n",
      "  gmpy2              pkgs/main/linux-64::gmpy2-2.1.2-py310heeb90bb_0 \n",
      "  gnutls             pkgs/main/linux-64::gnutls-3.6.15-he1e5248_0 \n",
      "  lame               pkgs/main/linux-64::lame-3.100-h7b6447c_0 \n",
      "  libiconv           pkgs/main/linux-64::libiconv-1.16-h7f8727e_2 \n",
      "  libidn2            pkgs/main/linux-64::libidn2-2.3.4-h5eee18b_0 \n",
      "  libtasn1           pkgs/main/linux-64::libtasn1-4.19.0-h5eee18b_0 \n",
      "  libunistring       pkgs/main/linux-64::libunistring-0.9.10-h27cfd23_0 \n",
      "  mpc                pkgs/main/linux-64::mpc-1.1.0-h10f8cd9_1 \n",
      "  mpfr               pkgs/main/linux-64::mpfr-4.0.2-hb69a4c5_1 \n",
      "  mpmath             pkgs/main/linux-64::mpmath-1.2.1-py310h06a4308_0 \n",
      "  nettle             pkgs/main/linux-64::nettle-3.7.3-hbbd107a_1 \n",
      "  networkx           pkgs/main/linux-64::networkx-2.8.4-py310h06a4308_1 \n",
      "  openh264           pkgs/main/linux-64::openh264-2.1.1-h4ff587b_0 \n",
      "  pytorch-mutex      pytorch/noarch::pytorch-mutex-1.0-cpu \n",
      "  sympy              pkgs/main/linux-64::sympy-1.11.1-py310h06a4308_0 \n",
      "  torchaudio         pytorch/linux-64::torchaudio-2.0.2-py310_cpu \n",
      "\n",
      "The following packages will be UPDATED:\n",
      "\n",
      "  ca-certificates    conda-forge::ca-certificates-2023.5.7~ --> pkgs/main::ca-certificates-2023.05.30-h06a4308_0 \n",
      "  openssl                                  3.0.8-h7f8727e_0 --> 3.0.9-h7f8727e_0 \n",
      "  pytorch            pkgs/main::pytorch-1.13.1-cpu_py310ha~ --> pytorch::pytorch-2.0.1-py3.10_cpu_0 \n",
      "  torchvision        pkgs/main::torchvision-0.13.1-cpu_py3~ --> pytorch::torchvision-0.15.2-py310_cpu \n",
      "\n",
      "The following packages will be SUPERSEDED by a higher-priority channel:\n",
      "\n",
      "  certifi            conda-forge/noarch::certifi-2023.5.7-~ --> pkgs/main/linux-64::certifi-2023.5.7-py310h06a4308_0 \n",
      "\n",
      "\n",
      "\n",
      "Downloading and Extracting Packages\n",
      "torchaudio-2.0.2     | 7.3 MB    |                                       |   0% \n",
      "openssl-3.0.9        | 5.2 MB    |                                       |   0% \u001b[A\n",
      "torchaudio-2.0.2     | 7.3 MB    |                                       |   0% \u001b[A\n",
      "openssl-3.0.9        | 5.2 MB    | ##################################### | 100% \u001b[A\n",
      "                                                                                \u001b[A\n",
      "                                                                                \u001b[A\n",
      "Preparing transaction: done\n",
      "Verifying transaction: done\n",
      "Executing transaction: done\n"
     ]
    }
   ],
   "source": [
    "!conda install pytorch torchvision torchaudio cudatoolkit -c pytorch -y\n",
    "\n"
   ]
  },
  {
   "cell_type": "code",
   "execution_count": 100,
   "id": "c46e9e0e-6e87-435e-888f-0866960dcc77",
   "metadata": {
    "tags": []
   },
   "outputs": [],
   "source": [
    "import sys\n",
    "sys.path.insert(0, \"../../pytorch-softdtw-cuda\")\n",
    "\n",
    "from soft_dtw_cuda import SoftDTW\n",
    "import torch"
   ]
  },
  {
   "cell_type": "code",
   "execution_count": 102,
   "id": "6eaf2e3c-6860-4f01-849e-f7ba249a46e3",
   "metadata": {
    "tags": []
   },
   "outputs": [],
   "source": [
    "# Create the sequences\n",
    "batch_size, len_x, len_y, dims = 8, 15, 12, 5\n",
    "x = torch.rand((batch_size, len_x, dims), requires_grad=True)\n",
    "y = torch.rand((batch_size, len_y, dims))\n",
    "# Transfer tensors to the GPU\n",
    "#x = x.cuda()\n",
    "#y = y.cuda()\n",
    "\n",
    "\n",
    "# Create the \"criterion\" object\n",
    "sdtw = SoftDTW(use_cuda=False, gamma=0.1)\n",
    "\n",
    "# Compute the loss value\n",
    "loss = sdtw(x, y)  # Just like any torch.nn.xyzLoss()\n",
    "\n",
    "# Aggregate and call backward()\n",
    "loss.mean().backward()"
   ]
  },
  {
   "cell_type": "code",
   "execution_count": 314,
   "id": "cabf662c-e269-4a74-af05-6acedb6871ca",
   "metadata": {
    "tags": []
   },
   "outputs": [],
   "source": [
    "from torch.utils.data import Dataset, DataLoader\n",
    "\n",
    "class MyDataset(Dataset):\n",
    "    def __init__(self, data, labels=None):\n",
    "        self.data = data\n",
    "        self.labels = labels\n",
    "\n",
    "    def __len__(self):\n",
    "        return len(self.data)\n",
    "\n",
    "    def __getitem__(self, idx):\n",
    "        sample = self.data[idx]\n",
    "        if self.labels is not None:\n",
    "            return sample, self.labels[idx]\n",
    "        else:\n",
    "            return sample\n",
    "\n",
    "# Assuming you have train_data, train_labels, validation_data, validation_labels numpy arrays\n",
    "train_dataset = MyDataset([t.T for t in train_data], train_labels)\n",
    "validation_dataset = MyDataset(validation_data, validation_labels)\n",
    "\n",
    "train_loader = DataLoader(train_dataset, batch_size=32, shuffle=True)\n",
    "validation_loader = DataLoader(validation_dataset, batch_size=32, shuffle=False)\n"
   ]
  },
  {
   "cell_type": "code",
   "execution_count": 315,
   "id": "300d60b7-d855-4de6-81d2-98ea47507a92",
   "metadata": {
    "tags": []
   },
   "outputs": [],
   "source": [
    "import torch\n",
    "import torch.nn as nn\n",
    "from soft_dtw_cuda import SoftDTW\n",
    "\n",
    "class Encoder(nn.Module):\n",
    "    def __init__(self):\n",
    "        super(Encoder, self).__init__()\n",
    "        self.conv1 = nn.Conv2d(1, 16, kernel_size=3, stride=1, padding=1)\n",
    "        self.conv2 = nn.Conv2d(16, 32, kernel_size=3, stride=2, padding=1)\n",
    "        self.conv3 = nn.Conv2d(32, 64, kernel_size=3, stride=2, padding=1)\n",
    "        self.fc = nn.Linear(64*16*16, 128)\n",
    "        \n",
    "    def forward(self, x):\n",
    "        x = torch.relu(self.conv1(x))\n",
    "        x = torch.relu(self.conv2(x))\n",
    "        x = torch.relu(self.conv3(x))\n",
    "        x = x.view(x.size(0), -1)\n",
    "        x = self.fc(x)\n",
    "        return x\n",
    "\n",
    "class Decoder(nn.Module):\n",
    "    def __init__(self):\n",
    "        super(Decoder, self).__init__()\n",
    "        self.fc = nn.Linear(128, 64*16*16)\n",
    "        self.conv1 = nn.ConvTranspose2d(64, 32, kernel_size=3, stride=2, padding=1, output_padding=1)\n",
    "        self.conv2 = nn.ConvTranspose2d(32, 16, kernel_size=3, stride=2, padding=1, output_padding=1)\n",
    "        self.conv3 = nn.ConvTranspose2d(16, 1, kernel_size=3, stride=1, padding=1)\n",
    "        \n",
    "    def forward(self, x):\n",
    "        x = self.fc(x)\n",
    "        x = x.view(x.size(0), 64, 16, 16)\n",
    "        x = torch.relu(self.conv1(x))\n",
    "        x = torch.relu(self.conv2(x))\n",
    "        x = torch.tanh(self.conv3(x))\n",
    "        return x\n",
    "\n",
    "class Autoencoder(nn.Module):\n",
    "    def __init__(self):\n",
    "        super(Autoencoder, self).__init__()\n",
    "        self.encoder = Encoder()\n",
    "        self.decoder = Decoder()\n",
    "        self.embeddings = None\n",
    "        \n",
    "    def forward(self, x):\n",
    "        x = self.encoder(x)\n",
    "        x = self.decoder(x)\n",
    "        #self.embeddings = self.encoder(x)\n",
    "        #x = self.decoder(self.embeddings)\n",
    "        return x\n",
    "\n",
    "# Using SoftDTW as a loss function.\n",
    "class SoftDTWLoss(nn.Module):\n",
    "    def __init__(self, use_cuda=False, gamma=1.0):\n",
    "        super(SoftDTWLoss, self).__init__()\n",
    "        self.gamma = gamma\n",
    "        self.soft_dtw = SoftDTW(use_cuda, gamma)\n",
    "        \n",
    "    def forward(self, pred, target):\n",
    "        return self.soft_dtw(pred, target)\n"
   ]
  },
  {
   "cell_type": "code",
   "execution_count": 316,
   "id": "8a8cf31f-4172-4d4a-b8b0-bd45470d71ac",
   "metadata": {
    "tags": []
   },
   "outputs": [],
   "source": [
    "def train(model, dataloader, device, optimizer, criterion):\n",
    "    model.train()\n",
    "    running_loss = 0.0\n",
    "    for i, data in enumerate(dataloader):\n",
    "        # get the inputs\n",
    "        inputs, _ = data\n",
    "        # reshape the inputs and add channel dimension\n",
    "        inputs = inputs.view(-1, 1, 64, 64).to(device)\n",
    "        \n",
    "        # if the batch is smaller than the expected batch size, skip it\n",
    "        if inputs.size(0) != dataloader.batch_size:\n",
    "            continue\n",
    "\n",
    "        # zero the parameter gradients\n",
    "        optimizer.zero_grad()\n",
    "\n",
    "        # forward + backward + optimize\n",
    "        outputs = model(inputs)\n",
    "        \n",
    "        #print(f'Input size: {inputs.size()}')     # Debug line\n",
    "        #print(f'Output size: {outputs.size()}')   # Debug line\n",
    "        #criterion = nn.MSELoss()\n",
    "        loss = criterion(outputs.view(-1, 64, 64), inputs.view(-1, 64, 64))\n",
    "        loss = loss.mean()\n",
    "        loss.backward()\n",
    "        optimizer.step()\n",
    "\n",
    "        # print statistics\n",
    "        running_loss += loss\n",
    "\n",
    "    print(f'Training loss: {running_loss/len(dataloader)}')"
   ]
  },
  {
   "cell_type": "code",
   "execution_count": 326,
   "id": "cd9c2838-0eb0-4315-b974-85929a32e89e",
   "metadata": {
    "tags": []
   },
   "outputs": [],
   "source": [
    "num_epochs =  50\n",
    "device = 'cpu'\n",
    "lr = 0.005\n",
    "\n",
    "model = Autoencoder().to('cpu')\n",
    "optimizer = torch.optim.Adam(model.parameters(), lr=lr)\n",
    "criterion = SoftDTWLoss()\n",
    "#criterion = nn.MSELoss()"
   ]
  },
  {
   "cell_type": "code",
   "execution_count": 327,
   "id": "e67c5b9b-e375-400d-b557-45760a6fe952",
   "metadata": {
    "tags": []
   },
   "outputs": [
    {
     "name": "stdout",
     "output_type": "stream",
     "text": [
      "Epoch: 1/50\n",
      "Training loss: -3.1102230548858643\n",
      "------------------------------\n",
      "Epoch: 2/50\n",
      "Training loss: -67.50165557861328\n",
      "------------------------------\n",
      "Epoch: 3/50\n",
      "Training loss: -75.75200653076172\n",
      "------------------------------\n",
      "Epoch: 4/50\n",
      "Training loss: -79.45404815673828\n",
      "------------------------------\n",
      "Epoch: 5/50\n",
      "Training loss: -81.83841705322266\n",
      "------------------------------\n",
      "Epoch: 6/50\n",
      "Training loss: -83.35578155517578\n",
      "------------------------------\n",
      "Epoch: 7/50\n",
      "Training loss: -84.77997589111328\n",
      "------------------------------\n",
      "Epoch: 8/50\n",
      "Training loss: -85.59575653076172\n",
      "------------------------------\n",
      "Epoch: 9/50\n",
      "Training loss: -86.2720947265625\n",
      "------------------------------\n",
      "Epoch: 10/50\n",
      "Training loss: -86.98696899414062\n",
      "------------------------------\n",
      "Epoch: 11/50\n",
      "Training loss: -87.60525512695312\n",
      "------------------------------\n",
      "Epoch: 12/50\n",
      "Training loss: -87.89929962158203\n",
      "------------------------------\n",
      "Epoch: 13/50\n",
      "Training loss: -88.3839111328125\n",
      "------------------------------\n",
      "Epoch: 14/50\n",
      "Training loss: -88.64085388183594\n",
      "------------------------------\n",
      "Epoch: 15/50\n",
      "Training loss: -88.987060546875\n",
      "------------------------------\n",
      "Epoch: 16/50\n",
      "Training loss: -89.27780151367188\n",
      "------------------------------\n",
      "Epoch: 17/50\n",
      "Training loss: -89.25259399414062\n",
      "------------------------------\n",
      "Epoch: 18/50\n",
      "Training loss: -89.59300231933594\n",
      "------------------------------\n",
      "Epoch: 19/50\n",
      "Training loss: -89.7715835571289\n",
      "------------------------------\n",
      "Epoch: 20/50\n",
      "Training loss: -89.86371612548828\n",
      "------------------------------\n",
      "Epoch: 21/50\n",
      "Training loss: -89.97842407226562\n",
      "------------------------------\n",
      "Epoch: 22/50\n",
      "Training loss: -90.11827850341797\n",
      "------------------------------\n",
      "Epoch: 23/50\n",
      "Training loss: -90.21573638916016\n",
      "------------------------------\n",
      "Epoch: 24/50\n",
      "Training loss: -90.19685363769531\n",
      "------------------------------\n",
      "Epoch: 25/50\n",
      "Training loss: -90.5122299194336\n",
      "------------------------------\n",
      "Epoch: 26/50\n",
      "Training loss: -90.69094848632812\n",
      "------------------------------\n",
      "Epoch: 27/50\n",
      "Training loss: -90.58580017089844\n",
      "------------------------------\n",
      "Epoch: 28/50\n",
      "Training loss: -71.16419982910156\n",
      "------------------------------\n",
      "Epoch: 29/50\n",
      "Training loss: -77.80208587646484\n",
      "------------------------------\n",
      "Epoch: 30/50\n",
      "Training loss: -82.51686096191406\n",
      "------------------------------\n",
      "Epoch: 31/50\n",
      "Training loss: -84.3087387084961\n",
      "------------------------------\n",
      "Epoch: 32/50\n",
      "Training loss: -85.62944793701172\n",
      "------------------------------\n",
      "Epoch: 33/50\n",
      "Training loss: -86.10391235351562\n",
      "------------------------------\n",
      "Epoch: 34/50\n",
      "Training loss: -87.00774383544922\n",
      "------------------------------\n",
      "Epoch: 35/50\n",
      "Training loss: -87.53018951416016\n",
      "------------------------------\n",
      "Epoch: 36/50\n",
      "Training loss: -87.82894134521484\n",
      "------------------------------\n",
      "Epoch: 37/50\n",
      "Training loss: -88.00408172607422\n",
      "------------------------------\n",
      "Epoch: 38/50\n",
      "Training loss: -88.0423355102539\n",
      "------------------------------\n",
      "Epoch: 39/50\n",
      "Training loss: -88.3900146484375\n",
      "------------------------------\n",
      "Epoch: 40/50\n",
      "Training loss: -88.50438690185547\n",
      "------------------------------\n",
      "Epoch: 41/50\n",
      "Training loss: -88.65730285644531\n",
      "------------------------------\n",
      "Epoch: 42/50\n",
      "Training loss: -88.7974853515625\n",
      "------------------------------\n",
      "Epoch: 43/50\n",
      "Training loss: -88.88648986816406\n",
      "------------------------------\n",
      "Epoch: 44/50\n",
      "Training loss: -89.01266479492188\n",
      "------------------------------\n",
      "Epoch: 45/50\n",
      "Training loss: -89.04985809326172\n",
      "------------------------------\n",
      "Epoch: 46/50\n",
      "Training loss: -89.05347442626953\n",
      "------------------------------\n",
      "Epoch: 47/50\n",
      "Training loss: -89.22515106201172\n",
      "------------------------------\n",
      "Epoch: 48/50\n",
      "Training loss: -89.26042175292969\n",
      "------------------------------\n",
      "Epoch: 49/50\n",
      "Training loss: -89.3882827758789\n",
      "------------------------------\n",
      "Epoch: 50/50\n",
      "Training loss: -89.19235229492188\n",
      "------------------------------\n"
     ]
    }
   ],
   "source": [
    "model.train()\n",
    "\n",
    "for epoch in range(num_epochs):\n",
    "    print(f'Epoch: {epoch+1}/{num_epochs}')\n",
    "    train(model, train_loader, device, optimizer, criterion)\n",
    "    print('-' * 30)\n"
   ]
  },
  {
   "cell_type": "code",
   "execution_count": 325,
   "id": "80dd8b1a-4cea-44b0-ba78-ccea8f1ffff6",
   "metadata": {
    "tags": []
   },
   "outputs": [
    {
     "data": {
      "text/plain": [
       "(<matplotlib.image.AxesImage at 0x7f281019e530>,\n",
       " <matplotlib.image.AxesImage at 0x7f2810133430>)"
      ]
     },
     "execution_count": 325,
     "metadata": {},
     "output_type": "execute_result"
    },
    {
     "data": {
      "image/png": "[encoded data removed]",
      "text/plain": [
       "<Figure size 480x480 with 1 Axes>"
      ]
     },
     "metadata": {},
     "output_type": "display_data"
    },
    {
     "data": {
      "image/png": "[encoded data removed]",
      "text/plain": [
       "<Figure size 480x480 with 1 Axes>"
      ]
     },
     "metadata": {},
     "output_type": "display_data"
    }
   ],
   "source": [
    "# Set the model to evaluation mode\n",
    "model.eval()\n",
    "\n",
    "# Make the predictions\n",
    "with torch.no_grad():\n",
    "    outputs = model(torch.tensor(train_data[100].reshape(1,1, 64,64)))\n",
    "    \n",
    "plt.matshow(outputs.reshape(64, 64)), plt.matshow(train_data[0].reshape(64, 64))"
   ]
  },
  {
   "cell_type": "code",
   "execution_count": 300,
   "id": "82343493-4171-42f8-b9a8-75fe0f71abd2",
   "metadata": {
    "tags": []
   },
   "outputs": [
    {
     "ename": "AttributeError",
     "evalue": "'NoneType' object has no attribute 'view'",
     "output_type": "error",
     "traceback": [
      "\u001b[0;31m---------------------------------------------------------------------------\u001b[0m",
      "\u001b[0;31mAttributeError\u001b[0m                            Traceback (most recent call last)",
      "Cell \u001b[0;32mIn[300], line 14\u001b[0m\n\u001b[1;32m     11\u001b[0m         outputs \u001b[38;5;241m=\u001b[39m model(inputs)\n\u001b[1;32m     13\u001b[0m         \u001b[38;5;66;03m# get the embeddings and store them\u001b[39;00m\n\u001b[0;32m---> 14\u001b[0m         embeddings\u001b[38;5;241m.\u001b[39mappend(\u001b[43mmodel\u001b[49m\u001b[38;5;241;43m.\u001b[39;49m\u001b[43membeddings\u001b[49m\u001b[38;5;241;43m.\u001b[39;49m\u001b[43mview\u001b[49m(inputs\u001b[38;5;241m.\u001b[39msize(\u001b[38;5;241m0\u001b[39m), \u001b[38;5;241m-\u001b[39m\u001b[38;5;241m1\u001b[39m)\u001b[38;5;241m.\u001b[39mcpu()\u001b[38;5;241m.\u001b[39mnumpy())\n\u001b[1;32m     16\u001b[0m embeddings \u001b[38;5;241m=\u001b[39m np\u001b[38;5;241m.\u001b[39mconcatenate(embeddings, axis\u001b[38;5;241m=\u001b[39m\u001b[38;5;241m0\u001b[39m)\n",
      "\u001b[0;31mAttributeError\u001b[0m: 'NoneType' object has no attribute 'view'"
     ]
    }
   ],
   "source": [
    "embeddings = []\n",
    "model.eval()\n",
    "with torch.no_grad():\n",
    "    for i, data in enumerate(train_loader):\n",
    "        # get the inputs\n",
    "        inputs, _ = data\n",
    "        # reshape the inputs and add channel dimension\n",
    "        inputs = inputs.view(-1, 1, 64, 64).to(device)\n",
    "        \n",
    "        # forward pass\n",
    "        outputs = model(inputs)\n",
    "        \n",
    "        # get the embeddings and store them\n",
    "        embeddings.append(model.embeddings.view(inputs.size(0), -1).cpu().numpy())\n",
    "\n",
    "embeddings = np.concatenate(embeddings, axis=0)"
   ]
  },
  {
   "cell_type": "code",
   "execution_count": 303,
   "id": "a2bdb18e-e65b-4f73-8695-9485a3127be4",
   "metadata": {
    "tags": []
   },
   "outputs": [
    {
     "data": {
      "text/plain": [
       "(<matplotlib.image.AxesImage at 0x7f27c4850c70>,\n",
       " <matplotlib.image.AxesImage at 0x7f27c398ba90>)"
      ]
     },
     "execution_count": 303,
     "metadata": {},
     "output_type": "execute_result"
    },
    {
     "data": {
      "image/png": "[encoded data removed]",
      "text/plain": [
       "<Figure size 480x480 with 1 Axes>"
      ]
     },
     "metadata": {},
     "output_type": "display_data"
    },
    {
     "data": {
      "image/png": "[encoded data removed]",
      "text/plain": [
       "<Figure size 480x480 with 1 Axes>"
      ]
     },
     "metadata": {},
     "output_type": "display_data"
    }
   ],
   "source": []
  },
  {
   "cell_type": "code",
   "execution_count": null,
   "id": "453313fc-b210-4b36-9545-bc8d941afd09",
   "metadata": {},
   "outputs": [],
   "source": []
  }
 ],
 "metadata": {
  "kernelspec": {
   "display_name": "Python [conda env:root] *",
   "language": "python",
   "name": "conda-root-py"
  },
  "language_info": {
   "codemirror_mode": {
    "name": "ipython",
    "version": 3
   },
   "file_extension": ".py",
   "mimetype": "text/x-python",
   "name": "python",
   "nbconvert_exporter": "python",
   "pygments_lexer": "ipython3",
   "version": "3.10.11"
  }
 },
 "nbformat": 4,
 "nbformat_minor": 5
}
