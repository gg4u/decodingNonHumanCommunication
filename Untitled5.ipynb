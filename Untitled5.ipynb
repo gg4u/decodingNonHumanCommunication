{
 "cells": [
  {
   "cell_type": "code",
   "execution_count": 1,
   "id": "6916ad48-d481-4191-9327-32efca73b2cd",
   "metadata": {},
   "outputs": [],
   "source": [
    "%load_ext autoreload\n",
    "%autoreload 2"
   ]
  },
  {
   "cell_type": "code",
   "execution_count": 2,
   "id": "f3c05f43-2299-485c-a6ac-dc59aac5947e",
   "metadata": {},
   "outputs": [
    {
     "name": "stdout",
     "output_type": "stream",
     "text": [
      "3.10.11 (main, May 16 2023, 00:28:57) [GCC 11.2.0]\n"
     ]
    }
   ],
   "source": [
    "import sys\n",
    "print(sys.version)"
   ]
  },
  {
   "cell_type": "code",
   "execution_count": 3,
   "id": "7931430c-1c31-4056-aa2f-95a750187429",
   "metadata": {},
   "outputs": [
    {
     "name": "stdout",
     "output_type": "stream",
     "text": [
      "/bin/bash: /home/h21/luas6629/miniconda3/lib/libtinfo.so.6: no version information available (required by /bin/bash)\n",
      "2023-07-27 23:18:44.004340: I tensorflow/core/platform/cpu_feature_guard.cc:182] This TensorFlow binary is optimized to use available CPU instructions in performance-critical operations.\n",
      "To enable the following instructions: AVX2 FMA, in other operations, rebuild TensorFlow with the appropriate compiler flags.\n",
      "2023-07-27 23:18:44.877922: W tensorflow/compiler/tf2tensorrt/utils/py_utils.cc:38] TF-TRT Warning: Could not find TensorRT\n",
      "2023-07-27 23:18:48.426733: I tensorflow/core/common_runtime/gpu/gpu_device.cc:1635] Created device /job:localhost/replica:0/task:0/device:GPU:0 with 854 MB memory:  -> device: 0, name: NVIDIA GeForce RTX 2080 Ti, pci bus id: 0000:03:00.0, compute capability: 7.5\n",
      "2023-07-27 23:18:48.427544: I tensorflow/core/common_runtime/gpu/gpu_device.cc:1635] Created device /job:localhost/replica:0/task:0/device:GPU:1 with 4685 MB memory:  -> device: 1, name: NVIDIA GeForce RTX 2080 Ti, pci bus id: 0000:21:00.0, compute capability: 7.5\n",
      "2023-07-27 23:18:48.428162: I tensorflow/core/common_runtime/gpu/gpu_device.cc:1635] Created device /job:localhost/replica:0/task:0/device:GPU:2 with 9591 MB memory:  -> device: 2, name: NVIDIA GeForce RTX 2080 Ti, pci bus id: 0000:41:00.0, compute capability: 7.5\n",
      "2023-07-27 23:18:48.428740: I tensorflow/core/common_runtime/gpu/gpu_device.cc:1635] Created device /job:localhost/replica:0/task:0/device:GPU:3 with 9591 MB memory:  -> device: 3, name: NVIDIA GeForce RTX 2080 Ti, pci bus id: 0000:61:00.0, compute capability: 7.5\n",
      "tf.Tensor(800.3722, shape=(), dtype=float32)\n"
     ]
    }
   ],
   "source": [
    "!python3 -c \"import tensorflow as tf; print(tf.reduce_sum(tf.random.normal([1000, 1000])))\"\n"
   ]
  },
  {
   "cell_type": "code",
   "execution_count": 5,
   "id": "6bb0e3ef-94b8-4f86-9eef-dd98dd67bcb3",
   "metadata": {
    "tags": []
   },
   "outputs": [
    {
     "name": "stdout",
     "output_type": "stream",
     "text": [
      "/bin/bash: /home/h21/luas6629/miniconda3/lib/libtinfo.so.6: no version information available (required by /bin/bash)\n",
      "Requirement already satisfied: tensorrt in /data0/home/h21/luas6629/miniconda3/lib/python3.10/site-packages (8.6.1)\n"
     ]
    }
   ],
   "source": [
    "!pip install tensorrt"
   ]
  },
  {
   "cell_type": "code",
   "execution_count": 6,
   "id": "b5e0838d-810e-4995-986f-768797e767ac",
   "metadata": {},
   "outputs": [
    {
     "name": "stdout",
     "output_type": "stream",
     "text": [
      "[name: \"/device:CPU:0\"\n",
      "device_type: \"CPU\"\n",
      "memory_limit: 268435456\n",
      "locality {\n",
      "}\n",
      "incarnation: 1944107546794191027\n",
      "xla_global_id: -1\n",
      ", name: \"/device:GPU:0\"\n",
      "device_type: \"GPU\"\n",
      "memory_limit: 896139264\n",
      "locality {\n",
      "  bus_id: 1\n",
      "  links {\n",
      "  }\n",
      "}\n",
      "incarnation: 14919452948618756135\n",
      "physical_device_desc: \"device: 0, name: NVIDIA GeForce RTX 2080 Ti, pci bus id: 0000:03:00.0, compute capability: 7.5\"\n",
      "xla_global_id: 416903419\n",
      ", name: \"/device:GPU:1\"\n",
      "device_type: \"GPU\"\n",
      "memory_limit: 4913233920\n",
      "locality {\n",
      "  bus_id: 2\n",
      "  numa_node: 1\n",
      "  links {\n",
      "  }\n",
      "}\n",
      "incarnation: 6418834832430554928\n",
      "physical_device_desc: \"device: 1, name: NVIDIA GeForce RTX 2080 Ti, pci bus id: 0000:21:00.0, compute capability: 7.5\"\n",
      "xla_global_id: 2144165316\n",
      ", name: \"/device:GPU:2\"\n",
      "device_type: \"GPU\"\n",
      "memory_limit: 10057547776\n",
      "locality {\n",
      "  bus_id: 3\n",
      "  numa_node: 2\n",
      "  links {\n",
      "  }\n",
      "}\n",
      "incarnation: 5336038753142701790\n",
      "physical_device_desc: \"device: 2, name: NVIDIA GeForce RTX 2080 Ti, pci bus id: 0000:41:00.0, compute capability: 7.5\"\n",
      "xla_global_id: 1651660799\n",
      ", name: \"/device:GPU:3\"\n",
      "device_type: \"GPU\"\n",
      "memory_limit: 10057547776\n",
      "locality {\n",
      "  bus_id: 4\n",
      "  numa_node: 3\n",
      "  links {\n",
      "  }\n",
      "}\n",
      "incarnation: 8494788134296433782\n",
      "physical_device_desc: \"device: 3, name: NVIDIA GeForce RTX 2080 Ti, pci bus id: 0000:61:00.0, compute capability: 7.5\"\n",
      "xla_global_id: 878896533\n",
      "]\n"
     ]
    },
    {
     "name": "stderr",
     "output_type": "stream",
     "text": [
      "2023-07-27 23:20:07.062430: I tensorflow/core/common_runtime/gpu/gpu_device.cc:1635] Created device /device:GPU:0 with 854 MB memory:  -> device: 0, name: NVIDIA GeForce RTX 2080 Ti, pci bus id: 0000:03:00.0, compute capability: 7.5\n",
      "2023-07-27 23:20:07.062873: I tensorflow/core/common_runtime/gpu/gpu_device.cc:1635] Created device /device:GPU:1 with 4685 MB memory:  -> device: 1, name: NVIDIA GeForce RTX 2080 Ti, pci bus id: 0000:21:00.0, compute capability: 7.5\n",
      "2023-07-27 23:20:07.063297: I tensorflow/core/common_runtime/gpu/gpu_device.cc:1635] Created device /device:GPU:2 with 9591 MB memory:  -> device: 2, name: NVIDIA GeForce RTX 2080 Ti, pci bus id: 0000:41:00.0, compute capability: 7.5\n",
      "2023-07-27 23:20:07.063726: I tensorflow/core/common_runtime/gpu/gpu_device.cc:1635] Created device /device:GPU:3 with 9591 MB memory:  -> device: 3, name: NVIDIA GeForce RTX 2080 Ti, pci bus id: 0000:61:00.0, compute capability: 7.5\n"
     ]
    }
   ],
   "source": [
    "from tensorflow.python.client import device_lib\n",
    "print(device_lib.list_local_devices())\n"
   ]
  },
  {
   "cell_type": "code",
   "execution_count": 7,
   "id": "268ea7ce-81ac-4488-b52f-815abe371eda",
   "metadata": {},
   "outputs": [
    {
     "name": "stdout",
     "output_type": "stream",
     "text": [
      "/bin/bash: /home/h21/luas6629/miniconda3/lib/libtinfo.so.6: no version information available (required by /bin/bash)\n"
     ]
    }
   ],
   "source": [
    "!$CUDA_DIR"
   ]
  },
  {
   "cell_type": "code",
   "execution_count": 6,
   "id": "4ff95358-ae38-484c-b395-eee47acf28d6",
   "metadata": {},
   "outputs": [
    {
     "name": "stdout",
     "output_type": "stream",
     "text": [
      "/bin/bash: /home/h21/luas6629/miniconda3/lib/libtinfo.so.6: no version information available (required by /bin/bash)\n",
      "Thu Jul 27 23:18:03 2023       \n",
      "+-----------------------------------------------------------------------------+\n",
      "| NVIDIA-SMI 525.116.04   Driver Version: 525.116.04   CUDA Version: 12.0     |\n",
      "|-------------------------------+----------------------+----------------------+\n",
      "| GPU  Name        Persistence-M| Bus-Id        Disp.A | Volatile Uncorr. ECC |\n",
      "| Fan  Temp  Perf  Pwr:Usage/Cap|         Memory-Usage | GPU-Util  Compute M. |\n",
      "|                               |                      |               MIG M. |\n",
      "|===============================+======================+======================|\n",
      "|   0  NVIDIA GeForce ...  On   | 00000000:03:00.0 Off |                  N/A |\n",
      "| 28%   35C    P2    56W / 250W |   9931MiB / 11264MiB |      0%      Default |\n",
      "|                               |                      |                  N/A |\n",
      "+-------------------------------+----------------------+----------------------+\n",
      "|   1  NVIDIA GeForce ...  On   | 00000000:21:00.0 Off |                  N/A |\n",
      "| 28%   32C    P2    56W / 250W |   5275MiB / 11264MiB |      0%      Default |\n",
      "|                               |                      |                  N/A |\n",
      "+-------------------------------+----------------------+----------------------+\n",
      "|   2  NVIDIA GeForce ...  On   | 00000000:41:00.0 Off |                  N/A |\n",
      "| 28%   33C    P2    49W / 250W |    369MiB / 11264MiB |      0%      Default |\n",
      "|                               |                      |                  N/A |\n",
      "+-------------------------------+----------------------+----------------------+\n",
      "|   3  NVIDIA GeForce ...  On   | 00000000:61:00.0 Off |                  N/A |\n",
      "| 28%   32C    P2    57W / 250W |    369MiB / 11264MiB |      0%      Default |\n",
      "|                               |                      |                  N/A |\n",
      "+-------------------------------+----------------------+----------------------+\n",
      "                                                                               \n",
      "+-----------------------------------------------------------------------------+\n",
      "| Processes:                                                                  |\n",
      "|  GPU   GI   CI        PID   Type   Process name                  GPU Memory |\n",
      "|        ID   ID                                                   Usage      |\n",
      "|=============================================================================|\n",
      "|    0   N/A  N/A    771581      C   python                           9562MiB |\n",
      "|    0   N/A  N/A   3449712      C   ...3/envs/conda01/bin/python      366MiB |\n",
      "|    1   N/A  N/A    771581      C   python                           4906MiB |\n",
      "|    1   N/A  N/A   3449712      C   ...3/envs/conda01/bin/python      366MiB |\n",
      "|    2   N/A  N/A   3449712      C   ...3/envs/conda01/bin/python      366MiB |\n",
      "|    3   N/A  N/A   3449712      C   ...3/envs/conda01/bin/python      366MiB |\n",
      "+-----------------------------------------------------------------------------+\n"
     ]
    }
   ],
   "source": [
    "!nvidia-smi"
   ]
  },
  {
   "cell_type": "code",
   "execution_count": 9,
   "id": "4644d923-64b3-4324-a508-050445fe36e2",
   "metadata": {},
   "outputs": [
    {
     "name": "stdout",
     "output_type": "stream",
     "text": [
      "Collecting package metadata (current_repodata.json): done\n",
      "Solving environment: done\n",
      "\n",
      "\n",
      "==> WARNING: A newer version of conda exists. <==\n",
      "  current version: 23.3.1\n",
      "  latest version: 23.5.0\n",
      "\n",
      "Please update conda by running\n",
      "\n",
      "    $ conda update -n base -c defaults conda\n",
      "\n",
      "Or to minimize the number of packages updated during conda update use\n",
      "\n",
      "     conda install conda=23.5.0\n",
      "\n",
      "\n",
      "\n",
      "## Package Plan ##\n",
      "\n",
      "  environment location: /home/h21/luas6629/miniconda3/envs/conda01\n",
      "\n",
      "  added / updated specs:\n",
      "    - cudatoolkit=11.8.0\n",
      "\n",
      "\n",
      "The following packages will be UPDATED:\n",
      "\n",
      "  ca-certificates    pkgs/main::ca-certificates-2023.01.10~ --> conda-forge::ca-certificates-2023.5.7-hbcca054_0 \n",
      "\n",
      "The following packages will be SUPERSEDED by a higher-priority channel:\n",
      "\n",
      "  certifi            pkgs/main/linux-64::certifi-2023.5.7-~ --> conda-forge/noarch::certifi-2023.5.7-pyhd8ed1ab_0 \n",
      "\n",
      "\n",
      "\n",
      "Downloading and Extracting Packages\n",
      "\n",
      "Preparing transaction: done\n",
      "Verifying transaction: done\n",
      "Executing transaction: done\n",
      "\n",
      "Usage:   \n",
      "  pip install [options] <requirement specifier> [package-index-options] ...\n",
      "  pip install [options] -r <requirements file> [package-index-options] ...\n",
      "  pip install [options] [-e] <vcs project url> ...\n",
      "  pip install [options] [-e] <local project path> ...\n",
      "  pip install [options] <archive url/path> ...\n",
      "\n",
      "no such option: -y\n"
     ]
    }
   ],
   "source": [
    "!conda install -c conda-forge cudatoolkit=11.8.0 -y\n"
   ]
  },
  {
   "cell_type": "code",
   "execution_count": 8,
   "id": "b95ab221-f56c-4d26-a2c9-576dec3f02c3",
   "metadata": {},
   "outputs": [
    {
     "name": "stdout",
     "output_type": "stream",
     "text": [
      "/bin/bash: /home/h21/luas6629/miniconda3/lib/libtinfo.so.6: no version information available (required by /bin/bash)\n",
      "Requirement already satisfied: nvidia-cudnn-cu11==8.6.0.163 in /data0/home/h21/luas6629/miniconda3/lib/python3.10/site-packages (8.6.0.163)\n",
      "Requirement already satisfied: nvidia-cublas-cu11 in /data0/home/h21/luas6629/miniconda3/lib/python3.10/site-packages (from nvidia-cudnn-cu11==8.6.0.163) (11.10.3.66)\n",
      "Requirement already satisfied: setuptools in /data0/home/h21/luas6629/miniconda3/lib/python3.10/site-packages (from nvidia-cublas-cu11->nvidia-cudnn-cu11==8.6.0.163) (65.6.3)\n",
      "Requirement already satisfied: wheel in /data0/home/h21/luas6629/miniconda3/lib/python3.10/site-packages (from nvidia-cublas-cu11->nvidia-cudnn-cu11==8.6.0.163) (0.38.4)\n"
     ]
    }
   ],
   "source": [
    "!pip install nvidia-cudnn-cu11==8.6.0.163\n"
   ]
  },
  {
   "cell_type": "code",
   "execution_count": 10,
   "id": "b283cb3f-8501-4ef2-a5da-31d4712b9e05",
   "metadata": {
    "tags": []
   },
   "outputs": [
    {
     "name": "stdout",
     "output_type": "stream",
     "text": [
      "/bin/bash: /home/h21/luas6629/miniconda3/lib/libtinfo.so.6: no version information available (required by /bin/bash)\n",
      "/home/h21/luas6629/miniconda3/pkgs/ncurses-6.4-h6a678d5_0/lib/libtinfo.so.6\n",
      "/home/h21/luas6629/miniconda3/lib/libtinfo.so.6\n",
      "/home/h21/luas6629/miniconda3/envs/conda01/lib/libtinfo.so.6\n"
     ]
    }
   ],
   "source": [
    "!find ~/ -name libtinfo.so.6 2>/dev/null"
   ]
  },
  {
   "cell_type": "code",
   "execution_count": 13,
   "id": "4d3d9736-98d5-4152-855c-8d01fb449a8a",
   "metadata": {
    "tags": []
   },
   "outputs": [
    {
     "name": "stdout",
     "output_type": "stream",
     "text": [
      "/bin/bash: /home/h21/luas6629/miniconda3/lib/libtinfo.so.6: no version information available (required by /bin/bash)\n"
     ]
    }
   ],
   "source": [
    "!export LD_LIBRARY_PATH=/home/h21/luas6629/miniconda3/lib/libtinfo.so.6$LD_LIBRARY_PATH"
   ]
  },
  {
   "cell_type": "code",
   "execution_count": 14,
   "id": "6096cc46-9805-4d1f-8ac4-3e11b572c6f9",
   "metadata": {},
   "outputs": [
    {
     "name": "stdout",
     "output_type": "stream",
     "text": [
      "/bin/bash: /home/h21/luas6629/miniconda3/lib/libtinfo.so.6: no version information available (required by /bin/bash)\n",
      "/bin/bash: /home/h21/luas6629/miniconda3/lib/libtinfo.so.6: no version information available (required by /bin/bash)\n"
     ]
    }
   ],
   "source": [
    "!CUDNN_PATH=$(dirname $(python -c \"import nvidia.cudnn;print(nvidia.cudnn.__file__)\"))\n",
    "!export LD_LIBRARY_PATH=$LD_LIBRARY_PATH:$CONDA_PREFIX/lib/:$CUDNN_PATH/lib\n",
    "\n"
   ]
  },
  {
   "cell_type": "code",
   "execution_count": 12,
   "id": "ae2c35db-2e78-439d-9d40-163fbadfa0ab",
   "metadata": {},
   "outputs": [],
   "source": [
    "!mkdir -p $CONDA_PREFIX/etc/conda/activate.d\n",
    "!echo 'CUDNN_PATH=$(dirname $(python -c \"import nvidia.cudnn;print(nvidia.cudnn.__file__)\"))' >> $CONDA_PREFIX/etc/conda/activate.d/env_vars.sh\n",
    "!echo 'export LD_LIBRARY_PATH=$LD_LIBRARY_PATH:$CONDA_PREFIX/lib/:$CUDNN_PATH/lib' >> $CONDA_PREFIX/etc/conda/activate.d/env_vars.sh"
   ]
  },
  {
   "cell_type": "code",
   "execution_count": 6,
   "id": "9d0f0810-2aeb-4e64-a821-a7f25e07826d",
   "metadata": {},
   "outputs": [
    {
     "name": "stdout",
     "output_type": "stream",
     "text": [
      "/home/h21/luas6629/miniconda3/envs/conda01/bin/python\n"
     ]
    }
   ],
   "source": [
    "!which python;"
   ]
  },
  {
   "cell_type": "code",
   "execution_count": null,
   "id": "881fb956-84aa-4530-8869-99bc9025f84e",
   "metadata": {},
   "outputs": [],
   "source": []
  },
  {
   "cell_type": "code",
   "execution_count": 5,
   "id": "1b3faae6-c5d8-4cba-80b5-3c303cd0a272",
   "metadata": {},
   "outputs": [
    {
     "name": "stdout",
     "output_type": "stream",
     "text": [
      "\n",
      "     active environment : conda01\n",
      "    active env location : /home/h21/luas6629/miniconda3/envs/conda01\n",
      "            shell level : 2\n",
      "       user config file : /home/h21/luas6629/.condarc\n",
      " populated config files : \n",
      "          conda version : 23.3.1\n",
      "    conda-build version : not installed\n",
      "         python version : 3.10.10.final.0\n",
      "       virtual packages : __archspec=1=x86_64\n",
      "                          __cuda=12.0=0\n",
      "                          __glibc=2.35=0\n",
      "                          __linux=5.15.0=0\n",
      "                          __unix=0=0\n",
      "       base environment : /home/h21/luas6629/miniconda3  (writable)\n",
      "      conda av data dir : /home/h21/luas6629/miniconda3/etc/conda\n",
      "  conda av metadata url : None\n",
      "           channel URLs : https://repo.anaconda.com/pkgs/main/linux-64\n",
      "                          https://repo.anaconda.com/pkgs/main/noarch\n",
      "                          https://repo.anaconda.com/pkgs/r/linux-64\n",
      "                          https://repo.anaconda.com/pkgs/r/noarch\n",
      "          package cache : /home/h21/luas6629/miniconda3/pkgs\n",
      "                          /home/h21/luas6629/.conda/pkgs\n",
      "       envs directories : /home/h21/luas6629/miniconda3/envs\n",
      "                          /home/h21/luas6629/.conda/envs\n",
      "               platform : linux-64\n",
      "             user-agent : conda/23.3.1 requests/2.28.1 CPython/3.10.10 Linux/5.15.0-67-generic ubuntu/22.04.2 glibc/2.35\n",
      "                UID:GID : 44569:28564\n",
      "             netrc file : None\n",
      "           offline mode : False\n",
      "\n"
     ]
    }
   ],
   "source": [
    "!conda info;"
   ]
  },
  {
   "cell_type": "code",
   "execution_count": null,
   "id": "50f89c28-2a99-4a90-99d2-58dc50630a37",
   "metadata": {},
   "outputs": [],
   "source": []
  }
 ],
 "metadata": {
  "kernelspec": {
   "display_name": "Python [conda env:root] *",
   "language": "python",
   "name": "conda-root-py"
  },
  "language_info": {
   "codemirror_mode": {
    "name": "ipython",
    "version": 3
   },
   "file_extension": ".py",
   "mimetype": "text/x-python",
   "name": "python",
   "nbconvert_exporter": "python",
   "pygments_lexer": "ipython3",
   "version": "3.10.11"
  }
 },
 "nbformat": 4,
 "nbformat_minor": 5
}
