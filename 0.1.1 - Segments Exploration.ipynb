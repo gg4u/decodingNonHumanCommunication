{
 "cells": [
  {
   "cell_type": "code",
   "execution_count": 1,
   "id": "5daa710e-d92f-4a96-997b-12aae8b7842f",
   "metadata": {
    "tags": []
   },
   "outputs": [],
   "source": [
    "%load_ext autoreload\n",
    "%autoreload 2"
   ]
  },
  {
   "cell_type": "markdown",
   "id": "68add5e1-3898-4e21-8e33-9b0cae2c6319",
   "metadata": {
    "tags": []
   },
   "source": [
    "## Load data"
   ]
  },
  {
   "cell_type": "code",
   "execution_count": 2,
   "id": "75f75a84-c232-4f09-9528-0d0550c182d4",
   "metadata": {
    "tags": []
   },
   "outputs": [
    {
     "name": "stderr",
     "output_type": "stream",
     "text": [
      "/tmp/ipykernel_288092/3377489687.py:3: TqdmExperimentalWarning: Using `tqdm.autonotebook.tqdm` in notebook mode. Use `tqdm.tqdm` instead to force console mode (e.g. in jupyter console)\n",
      "  from tqdm.autonotebook import tqdm\n"
     ]
    }
   ],
   "source": [
    "# Utils\n",
    "from joblib import Parallel, delayed\n",
    "from tqdm.autonotebook import tqdm\n",
    "from datetime import datetime\n",
    "import json\n",
    "from IPython.display import display, Audio\n",
    "from pathlib2 import Path\n",
    "\n",
    "# data libs\n",
    "import pandas as pd\n",
    "import numpy as np\n",
    "import matplotlib.pyplot as plt\n",
    "import librosa"
   ]
  },
  {
   "cell_type": "code",
   "execution_count": 3,
   "id": "c5fbcc79-ffb3-43dd-8552-b62e500c43d6",
   "metadata": {
    "tags": []
   },
   "outputs": [
    {
     "name": "stdout",
     "output_type": "stream",
     "text": [
      "PROJECT_DIR set on:  /data0/home/h21/luas6629/Thesis\n"
     ]
    }
   ],
   "source": [
    "# wrapper lib\n",
    "from avgn.utils.paths import DATA_DIR, ensure_dir\n",
    "\n",
    "DATA_DIR = Path('./data')\n",
    "DSLOC = DATA_DIR / 'raw' / 'fruitbat'"
   ]
  },
  {
   "cell_type": "code",
   "execution_count": 4,
   "id": "7753de70-ea68-4a3a-b411-a7f74109f271",
   "metadata": {
    "tags": []
   },
   "outputs": [
    {
     "data": {
      "text/plain": [
       "91080"
      ]
     },
     "execution_count": 4,
     "metadata": {},
     "output_type": "execute_result"
    }
   ],
   "source": [
    "# annotations\n",
    "annotations =  pd.read_csv(DSLOC/'Annotations.csv')\n",
    "\n",
    "annotations = annotations.astype({\n",
    "    'FileID' : int,\n",
    "    'Emitter' : int,\n",
    "    'Addressee' : int,\n",
    "    'Context' :int,\n",
    "    'Emitter pre-vocalization action' : int,\n",
    "    'Addressee pre-vocalization action': int,\n",
    "    'Emitter post-vocalization action' : int,\n",
    "    'Addressee post-vocalization action' : int,\n",
    "    'Start sample': float,\n",
    "    'End sample' : float\n",
    "})\n",
    "\n",
    "len(annotations)"
   ]
  },
  {
   "cell_type": "code",
   "execution_count": 5,
   "id": "2923c1ef-1654-4222-9153-76ca05642c07",
   "metadata": {
    "tags": []
   },
   "outputs": [
    {
     "name": "stderr",
     "output_type": "stream",
     "text": [
      "/tmp/ipykernel_288092/2238319843.py:14: DtypeWarning: Columns (0,1,4,6,7,8,9,10) have mixed types. Specify dtype option on import or set low_memory=False.\n",
      "  file_info = pd.read_csv(DSLOC/'FileInfo.csv', header=None, delimiter=\",\", names=column_names)\n"
     ]
    },
    {
     "data": {
      "text/plain": [
       "(293238, 331)"
      ]
     },
     "execution_count": 5,
     "metadata": {},
     "output_type": "execute_result"
    }
   ],
   "source": [
    "# file info\n",
    "\"\"\" fruit bat db is malformed. \n",
    "Recreate the db with proper columns.\n",
    "\"\"\"\n",
    "\n",
    "with open(DSLOC/'FileInfo.csv', 'r') as temp_f:\n",
    "    # get No of columns in each line\n",
    "    col_count = [ len(l.split(\",\")) for l in temp_f.readlines() ]\n",
    "\n",
    "### Generate column names  (names will be 0, 1, 2, ..., maximum columns - 1)\n",
    "column_names = [i for i in range(0, max(col_count))]\n",
    "\n",
    "### Read csv\n",
    "file_info = pd.read_csv(DSLOC/'FileInfo.csv', header=None, delimiter=\",\", names=column_names)\n",
    "file_info, file_info.columns = file_info[1:] , file_info.iloc[0]\n",
    "\n",
    "# recreate the header\n",
    "samples_boundaries = np.arange(1, 1 + file_info.shape[1] - 6)\n",
    "voice_starts = samples_boundaries[::2]\n",
    "voice_ends = samples_boundaries[1::2]\n",
    "col_samples_boundaries = { val : float for pair in zip(['voice_start_sample_{}'.format(i + 1)for i in range(len(voice_starts))  ], \n",
    "        ['voice_end_sample_{}'.format(i + 1) for i in range(len(voice_ends))  ]) for val in pair }\n",
    "\n",
    "col_names = ['FileID','Treatment ID','File name','File folder','Recording channel','Recording time'] + \\\n",
    "    [ val for pair in zip(['voice_start_sample_{}'.format(i + 1)for i in range(len(voice_starts))  ], \n",
    "        ['voice_end_sample_{}'.format(i + 1) for i in range(len(voice_ends))  ]) for val in pair]\n",
    "\n",
    "columns_types = {\n",
    "    'FileID' : int,\n",
    "    'Treatment ID' : int,\n",
    "    'File name' : str,\n",
    "    'File folder' : str,\n",
    "    'Recording channel' : int,\n",
    "    'Recording time' : 'datetime64[ms]',\n",
    "} | col_samples_boundaries\n",
    " \n",
    "\n",
    "# set the new header\n",
    "file_info.columns = columns_types.keys()\n",
    "\n",
    "\n",
    "#ensure datatypes are meaningful\n",
    "file_info = file_info.astype(columns_types)\n",
    "\n",
    "# set index\n",
    "file_info.set_index('FileID', inplace=True)\n",
    "\n",
    "# shape\n",
    "file_info.shape"
   ]
  },
  {
   "cell_type": "code",
   "execution_count": 6,
   "id": "6c005aa1-e0f7-4c54-8b49-b57e41f01194",
   "metadata": {
    "tags": []
   },
   "outputs": [],
   "source": [
    "# test file\n",
    "\n",
    "sample_rawdata = 'files102'\n",
    "samples_files_info = file_info[file_info['File folder'].values == sample_rawdata]\n",
    "\n",
    "\n",
    "exnm = 56\n",
    "wav_loc = DSLOC/'zip_contents'/ sample_rawdata /  samples_files_info['File name'].values[exnm]\n",
    "wav_info = file_info[file_info['File name'] == wav_loc.name]"
   ]
  },
  {
   "cell_type": "code",
   "execution_count": 7,
   "id": "ce121dab-c914-45e9-8f6f-c8573dfac2cf",
   "metadata": {
    "tags": []
   },
   "outputs": [
    {
     "name": "stderr",
     "output_type": "stream",
     "text": [
      "/tmp/ipykernel_288092/2994222486.py:8: SettingWithCopyWarning: \n",
      "A value is trying to be set on a copy of a slice from a DataFrame.\n",
      "Try using .loc[row_indexer,col_indexer] = value instead\n",
      "\n",
      "See the caveats in the documentation: https://pandas.pydata.org/pandas-docs/stable/user_guide/indexing.html#returning-a-view-versus-a-copy\n",
      "  sample_annotations.loc[:,'Duration'] = 1/sr * (sample_annotations['End sample']  - sample_annotations['Start sample'])\n"
     ]
    }
   ],
   "source": [
    "# vocalizations from Emitter 215\n",
    "\n",
    "emitter = 215\n",
    "sample_annotations = annotations[annotations.Emitter == emitter]\n",
    "\n",
    "# add Duration column\n",
    "sr = 250000\n",
    "sample_annotations.loc[:,'Duration'] = 1/sr * (sample_annotations['End sample']  - sample_annotations['Start sample'])"
   ]
  },
  {
   "cell_type": "code",
   "execution_count": 8,
   "id": "f9899c6c-6d7b-4a46-8dcf-a93f41ae5134",
   "metadata": {
    "tags": []
   },
   "outputs": [],
   "source": [
    "# test file\n",
    "\n",
    "sample_files = file_info.query(f'FileID in {sample_annotations[\"FileID\"].values.tolist()}')\n",
    "sample_files.reset_index(inplace=True)\n",
    "\n",
    "sample_file = sample_files.iloc[3].to_frame().T"
   ]
  },
  {
   "cell_type": "code",
   "execution_count": 9,
   "id": "6231bdc9-45aa-4b6b-ade0-9322639662c2",
   "metadata": {
    "tags": []
   },
   "outputs": [
    {
     "ename": "SyntaxError",
     "evalue": "incomplete input (2122971577.py, line 1)",
     "output_type": "error",
     "traceback": [
      "\u001b[0;36m  Cell \u001b[0;32mIn[9], line 1\u001b[0;36m\u001b[0m\n\u001b[0;31m    sample_file[F\u001b[0m\n\u001b[0m                 ^\u001b[0m\n\u001b[0;31mSyntaxError\u001b[0m\u001b[0;31m:\u001b[0m incomplete input\n"
     ]
    }
   ],
   "source": [
    "sample_file[F"
   ]
  },
  {
   "cell_type": "code",
   "execution_count": null,
   "id": "23468af1-c054-410a-b0ac-2a85b4841d95",
   "metadata": {
    "tags": []
   },
   "outputs": [],
   "source": [
    "sequences_specs_dict = dict()\n",
    "for i, sample_file in sample_files.head(10).iterrows():\n",
    "    sample_file = sample_file.to_frame().T\n",
    "    try:\n",
    "        sequences_specs_dict[ sample_file[ 'FileID'   ].values[0]] = stack_segments(sample_file)\n",
    "    except:\n",
    "        pass"
   ]
  },
  {
   "cell_type": "code",
   "execution_count": null,
   "id": "f2e35f89-225c-4a0f-b75f-cf2ca2c6f038",
   "metadata": {
    "tags": []
   },
   "outputs": [],
   "source": [
    "for k, v in sequences_specs_dict.items():\n",
    "    x = np.zeros((1025,512))\n",
    "    x[:, :v.shape[1]] = v\n",
    "    sequences_specs_dict[k] = x"
   ]
  },
  {
   "cell_type": "code",
   "execution_count": null,
   "id": "04b0e8f0-d01c-4085-91ab-c1de34f78f3c",
   "metadata": {
    "tags": []
   },
   "outputs": [],
   "source": [
    "for k, v in sequences_specs_dict.items():\n",
    "    sequences_specs_dict[k] = v.flatten()"
   ]
  },
  {
   "cell_type": "code",
   "execution_count": 211,
   "id": "ce26cee8-5344-4c07-9702-575581fb952f",
   "metadata": {
    "tags": []
   },
   "outputs": [],
   "source": [
    "x = np.zeros((1025, 145))\n",
    "x[:, :144] = v"
   ]
  },
  {
   "cell_type": "code",
   "execution_count": 212,
   "id": "d94b859a-ef6e-488d-9593-672f3cb570ca",
   "metadata": {
    "tags": []
   },
   "outputs": [
    {
     "data": {
      "text/plain": [
       "(1025, 145)"
      ]
     },
     "execution_count": 212,
     "metadata": {},
     "output_type": "execute_result"
    }
   ],
   "source": [
    "np.zeros((1025,512))"
   ]
  },
  {
   "cell_type": "code",
   "execution_count": 188,
   "id": "9613b296-d7ee-4918-b52a-55f902f64e8e",
   "metadata": {
    "tags": []
   },
   "outputs": [
    {
     "ename": "ValueError",
     "evalue": "could not broadcast input array from shape (1025,269) into shape (1025,)",
     "output_type": "error",
     "traceback": [
      "\u001b[0;31m---------------------------------------------------------------------------\u001b[0m",
      "\u001b[0;31mValueError\u001b[0m                                Traceback (most recent call last)",
      "Cell \u001b[0;32mIn[188], line 8\u001b[0m\n\u001b[1;32m      5\u001b[0m \u001b[38;5;28;01mfor\u001b[39;00m k, array \u001b[38;5;129;01min\u001b[39;00m sequences_specs_dict\u001b[38;5;241m.\u001b[39mitems():\n\u001b[1;32m      6\u001b[0m     \u001b[38;5;66;03m# padding right with 0\u001b[39;00m\n\u001b[1;32m      7\u001b[0m     x \u001b[38;5;241m=\u001b[39m np\u001b[38;5;241m.\u001b[39mzeros(max_shape, )\n\u001b[0;32m----> 8\u001b[0m     \u001b[43mx\u001b[49m\u001b[43m[\u001b[49m\u001b[43m:\u001b[49m\u001b[43marray\u001b[49m\u001b[38;5;241;43m.\u001b[39;49m\u001b[43mshape\u001b[49m\u001b[43m[\u001b[49m\u001b[38;5;241;43m0\u001b[39;49m\u001b[43m]\u001b[49m\u001b[43m \u001b[49m\u001b[43m]\u001b[49m \u001b[38;5;241m=\u001b[39m array\n\u001b[1;32m      9\u001b[0m     \u001b[38;5;66;03m# update\u001b[39;00m\n\u001b[1;32m     10\u001b[0m     sequences_specs_dict[k] \u001b[38;5;241m=\u001b[39m x\n",
      "\u001b[0;31mValueError\u001b[0m: could not broadcast input array from shape (1025,269) into shape (1025,)"
     ]
    }
   ],
   "source": [
    "# zero padding on the right\n",
    "\n",
    "max_shape = max([len(v) for k, v in sequences_specs_dict.items()])\n",
    "    \n",
    "for k, array in sequences_specs_dict.items():\n",
    "    # padding right with 0\n",
    "    x = np.zeros(max_shape, )\n",
    "    x[:array.shape[0] ] = array\n",
    "    # update\n",
    "    sequences_specs_dict[k] = x\n",
    "    "
   ]
  },
  {
   "cell_type": "code",
   "execution_count": null,
   "id": "0452e9d5-fe3c-452a-8f6e-27c28dbeed95",
   "metadata": {
    "tags": []
   },
   "outputs": [],
   "source": [
    "sequence_spec_data = pd.DataFrame.from_dict(sequences_specs_dict).T"
   ]
  },
  {
   "cell_type": "code",
   "execution_count": 183,
   "id": "dc0a06d7-d997-4c4e-96ea-06e424867b91",
   "metadata": {
    "tags": []
   },
   "outputs": [],
   "source": [
    "import umap\n",
    "import umap.plot"
   ]
  },
  {
   "cell_type": "code",
   "execution_count": 221,
   "id": "f387f308-3098-4f20-b251-2521b3f125a2",
   "metadata": {
    "tags": []
   },
   "outputs": [],
   "source": [
    "reducer = umap.UMAP()"
   ]
  },
  {
   "cell_type": "code",
   "execution_count": 222,
   "id": "8338708e-95bd-4910-894b-eaffa6991e28",
   "metadata": {
    "tags": []
   },
   "outputs": [
    {
     "name": "stderr",
     "output_type": "stream",
     "text": [
      "/data0/home/h21/luas6629/venv/lib/python3.10/site-packages/umap/umap_.py:2344: UserWarning: n_neighbors is larger than the dataset size; truncating to X.shape[0] - 1\n",
      "  warn(\n"
     ]
    }
   ],
   "source": [
    "mapper = umap.UMAP().fit(list(sequences_specs_dict.values()))"
   ]
  },
  {
   "cell_type": "code",
   "execution_count": 223,
   "id": "84276d49-eb92-4e95-b4d1-e0a0315e4076",
   "metadata": {
    "tags": []
   },
   "outputs": [
    {
     "name": "stderr",
     "output_type": "stream",
     "text": [
      "/data0/home/h21/luas6629/venv/lib/python3.10/site-packages/umap/plot.py:448: UserWarning: *c* argument looks like a single numeric RGB or RGBA sequence, which should be avoided as value-mapping will have precedence in case its length matches with *x* & *y*.  Please use the *color* keyword-argument or provide a 2D array with a single row if you intend to specify the same RGB or RGBA value for all points.\n",
      "  ax.scatter(points[:, 0], points[:, 1], s=point_size, c=color)\n"
     ]
    },
    {
     "data": {
      "text/plain": [
       "<Axes: >"
      ]
     },
     "execution_count": 223,
     "metadata": {},
     "output_type": "execute_result"
    },
    {
     "data": {
      "image/png": "[encoded data removed]",
      "text/plain": [
       "<Figure size 800x800 with 1 Axes>"
      ]
     },
     "metadata": {},
     "output_type": "display_data"
    }
   ],
   "source": [
    "umap.plot.points(mapper)"
   ]
  },
  {
   "cell_type": "code",
   "execution_count": 46,
   "id": "148c4a9e-73c5-417a-a3bb-51930ea6cd80",
   "metadata": {
    "tags": []
   },
   "outputs": [],
   "source": [
    "wav_loc = DSLOC/'zip_contents'/ sample_file['File folder'] /  sample_file['File name']\n",
    "wav_info = file_info[file_info['File name'] == wav_loc.name]"
   ]
  },
  {
   "cell_type": "markdown",
   "id": "6c7b9639-e54b-4af6-aa1a-04b4de810ee5",
   "metadata": {},
   "source": [
    "## Load file test"
   ]
  },
  {
   "cell_type": "code",
   "execution_count": 47,
   "id": "526c3466-ca4f-497f-a9bc-a28fd32bb89c",
   "metadata": {
    "tags": []
   },
   "outputs": [],
   "source": [
    "from avgn.signalprocessing.spectrogramming import *\n",
    "from avgn.utils.audio import load_wav, float32_to_int16, int16_to_float32, write_wav\n",
    "from avgn.visualization.spectrogram import visualize_spec, plot_spec\n",
    "\n",
    "from avgn.utils import hparams"
   ]
  },
  {
   "cell_type": "code",
   "execution_count": 96,
   "id": "3c94d6ae-9668-4018-a7d1-451c5367da9c",
   "metadata": {
    "tags": []
   },
   "outputs": [
    {
     "name": "stdout",
     "output_type": "stream",
     "text": [
      "250000 557904\n"
     ]
    }
   ],
   "source": [
    "# load file\n",
    "\n",
    "rate, data = load_wav(wav_loc)\n",
    "print(rate, len(data))\n",
    "\n",
    "start_times = sample_file.loc[:, sample_file.columns.str.startswith('voice_start_')].dropna(axis=1).values[0]\n",
    "end_times = sample_file.loc[:, sample_file.columns.str.startswith('voice_end_')].dropna(axis=1).values[0]\n",
    "\n",
    "assert(len(start_times) == len(end_times))"
   ]
  },
  {
   "cell_type": "code",
   "execution_count": 51,
   "id": "f237ba36-d0c9-4a3e-9ffd-f7ed230957fc",
   "metadata": {
    "tags": []
   },
   "outputs": [],
   "source": [
    "# load segment\n",
    "i = 2\n",
    "segment = data[ int(start_times[ i]) : int(end_times[i]) ]\n"
   ]
  },
  {
   "cell_type": "code",
   "execution_count": 52,
   "id": "7784e9df-365e-494c-8263-5b506daf232e",
   "metadata": {
    "tags": []
   },
   "outputs": [],
   "source": [
    "# load params\n",
    "bat_hparams = hparams.HParams()\n",
    "\n",
    "bat_hparams.n_fft = 2048\n",
    "bat_hparams.hop_length_ms = 1\n",
    "bat_hparams.win_length_ms = 7"
   ]
  },
  {
   "cell_type": "code",
   "execution_count": 53,
   "id": "16e0ba57-5b11-48a7-bfd7-bef748741361",
   "metadata": {
    "tags": []
   },
   "outputs": [],
   "source": [
    "# Spectrograms"
   ]
  },
  {
   "cell_type": "code",
   "execution_count": 58,
   "id": "7114ffaa-e2eb-49e0-859b-a97382a43df9",
   "metadata": {
    "tags": []
   },
   "outputs": [
    {
     "data": {
      "text/plain": [
       "array([[0.        , 0.        , 0.        , ..., 0.        , 0.        ,\n",
       "        0.        ],\n",
       "       [0.        , 0.        , 0.        , ..., 0.        , 0.        ,\n",
       "        0.        ],\n",
       "       [0.        , 0.        , 0.        , ..., 0.        , 0.        ,\n",
       "        0.        ],\n",
       "       ...,\n",
       "       [0.04402387, 0.07503104, 0.05647445, ..., 0.        , 0.        ,\n",
       "        0.0346866 ],\n",
       "       [0.01560553, 0.02950148, 0.02998713, ..., 0.0455906 , 0.02117873,\n",
       "        0.        ],\n",
       "       [0.        , 0.        , 0.        , ..., 0.0248306 , 0.        ,\n",
       "        0.        ]])"
      ]
     },
     "execution_count": 58,
     "metadata": {},
     "output_type": "execute_result"
    }
   ],
   "source": [
    "spectrogram(segment, rate, bat_hparams)"
   ]
  },
  {
   "cell_type": "code",
   "execution_count": 185,
   "id": "dbd0cf19-6c9a-4965-bd4f-6724ac636ad4",
   "metadata": {
    "tags": []
   },
   "outputs": [],
   "source": [
    "def stack_segments(wav_info):\n",
    "    \n",
    "    start_times = wav_info.loc[:, wav_info.columns.str.startswith('voice_start_')].dropna(axis=1).values[0]\n",
    "    end_times = wav_info.loc[:, wav_info.columns.str.startswith('voice_end_')].dropna(axis=1).values[0]\n",
    "\n",
    "    specs = []\n",
    "    for i in range(len(start_times)):\n",
    "        segment = data[ int(start_times[ i]) : int(end_times[i]) ]\n",
    "        specs.append( spectrogram(segment, rate, bat_hparams) )\n",
    "        \n",
    "    return np.column_stack(specs)"
   ]
  },
  {
   "cell_type": "code",
   "execution_count": 80,
   "id": "3ba648e8-b186-4b5f-8462-66d0bde133d5",
   "metadata": {
    "tags": []
   },
   "outputs": [
    {
     "data": {
      "text/plain": [
       "array([[3, 2],\n",
       "       [2, 3]])"
      ]
     },
     "execution_count": 80,
     "metadata": {},
     "output_type": "execute_result"
    }
   ],
   "source": [
    "np.column_stack([np.array([3,2]),np.array([2,3])])"
   ]
  },
  {
   "cell_type": "code",
   "execution_count": 145,
   "id": "7252952c-e34b-4cf5-adf9-052cd6f4f8e3",
   "metadata": {
    "tags": []
   },
   "outputs": [
    {
     "data": {
      "text/plain": [
       "(421275,)"
      ]
     },
     "execution_count": 145,
     "metadata": {},
     "output_type": "execute_result"
    }
   ],
   "source": [
    "stack_segments(wav_info).flatten().shape"
   ]
  },
  {
   "cell_type": "code",
   "execution_count": null,
   "id": "767c1cb5-db63-43d8-9d12-6a5fcae7b5bf",
   "metadata": {},
   "outputs": [],
   "source": []
  }
 ],
 "metadata": {
  "kernelspec": {
   "display_name": "Python 3 (ipykernel)",
   "language": "python",
   "name": "python3"
  },
  "language_info": {
   "codemirror_mode": {
    "name": "ipython",
    "version": 3
   },
   "file_extension": ".py",
   "mimetype": "text/x-python",
   "name": "python",
   "nbconvert_exporter": "python",
   "pygments_lexer": "ipython3",
   "version": "3.10.6"
  }
 },
 "nbformat": 4,
 "nbformat_minor": 5
}
