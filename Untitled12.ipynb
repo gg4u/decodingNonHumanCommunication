{
 "cells": [
  {
   "cell_type": "code",
   "execution_count": 1,
   "id": "c80b22a9-05ea-4482-99ca-09dea2375f78",
   "metadata": {},
   "outputs": [],
   "source": [
    "%load_ext autoreload\n",
    "%autoreload 2"
   ]
  },
  {
   "cell_type": "code",
   "execution_count": 48,
   "id": "82067337-ff29-4435-97c3-9cda6cb4d644",
   "metadata": {},
   "outputs": [],
   "source": [
    "# AST\n",
    "\n",
    "%reload_ext autoreload"
   ]
  },
  {
   "cell_type": "code",
   "execution_count": 4,
   "id": "d570e3aa-d7d8-4e40-a075-e5609eb0540e",
   "metadata": {},
   "outputs": [
    {
     "name": "stdout",
     "output_type": "stream",
     "text": [
      "/data0/home/h21/luas6629/ast/src\n"
     ]
    }
   ],
   "source": [
    "cd /data0/home/h21/luas6629/ast/src"
   ]
  },
  {
   "cell_type": "code",
   "execution_count": 5,
   "id": "3b8e23d1-6738-4485-907b-5ad4871b6e78",
   "metadata": {},
   "outputs": [],
   "source": [
    "import os \n",
    "import torch\n",
    "from models import ASTModel "
   ]
  },
  {
   "cell_type": "code",
   "execution_count": 35,
   "id": "8c78aaf2-8a16-4f6c-b015-a57d4860f811",
   "metadata": {},
   "outputs": [
    {
     "data": {
      "text/plain": [
       "'../../pretrained_models'"
      ]
     },
     "execution_count": 35,
     "metadata": {},
     "output_type": "execute_result"
    }
   ],
   "source": [
    "os.environ['TORCH_HOME']"
   ]
  },
  {
   "cell_type": "code",
   "execution_count": 6,
   "id": "b761c47c-1010-4a83-9e5d-70a49e6fac3d",
   "metadata": {},
   "outputs": [],
   "source": [
    "input_tdim = 100\n",
    "# assume the task has 527 classes\n",
    "label_dim = 527\n",
    "# create a pseudo input: a batch of 10 spectrogram, each with 100 time frames and 128 frequency bins \n",
    "test_input = torch.rand([10, input_tdim, 128]) "
   ]
  },
  {
   "cell_type": "code",
   "execution_count": 7,
   "id": "9e59578b-85e4-4d32-8a62-78acb305b5ab",
   "metadata": {},
   "outputs": [
    {
     "name": "stdout",
     "output_type": "stream",
     "text": [
      "---------------AST Model Summary---------------\n",
      "ImageNet pretraining: True, AudioSet pretraining: False\n"
     ]
    },
    {
     "name": "stderr",
     "output_type": "stream",
     "text": [
      "Downloading: \"https://dl.fbaipublicfiles.com/deit/deit_base_distilled_patch16_384-d0272ac0.pth\" to ../../pretrained_models/hub/checkpoints/deit_base_distilled_patch16_384-d0272ac0.pth\n"
     ]
    },
    {
     "name": "stdout",
     "output_type": "stream",
     "text": [
      "frequncey stride=10, time stride=10\n",
      "number of patches=108\n",
      "torch.Size([10, 527])\n"
     ]
    }
   ],
   "source": [
    "# create an AST model\n",
    "ast_mdl = ASTModel(label_dim=label_dim, input_tdim=input_tdim, imagenet_pretrain=True)\n",
    "test_output = ast_mdl(test_input) \n",
    "# output should be in shape [10, 527], i.e., 10 samples, each with prediction of 527 classes. \n",
    "print(test_output.shape)  "
   ]
  },
  {
   "cell_type": "code",
   "execution_count": null,
   "id": "4f442e8f-6d84-49dd-a851-20cc56ab52ac",
   "metadata": {},
   "outputs": [],
   "source": []
  }
 ],
 "metadata": {
  "kernelspec": {
   "display_name": "Python [conda env:conda01]",
   "language": "python",
   "name": "conda-env-conda01-py"
  },
  "language_info": {
   "codemirror_mode": {
    "name": "ipython",
    "version": 3
   },
   "file_extension": ".py",
   "mimetype": "text/x-python",
   "name": "python",
   "nbconvert_exporter": "python",
   "pygments_lexer": "ipython3",
   "version": "3.10.11"
  }
 },
 "nbformat": 4,
 "nbformat_minor": 5
}
