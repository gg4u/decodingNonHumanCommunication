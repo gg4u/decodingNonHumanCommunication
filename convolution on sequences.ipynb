{
 "cells": [
  {
   "cell_type": "code",
   "execution_count": 1,
   "id": "d25e690e-e488-4e76-9369-18715ed84ec3",
   "metadata": {},
   "outputs": [],
   "source": [
    "#https://github.com/onceupon/deep_learning_DNA"
   ]
  },
  {
   "cell_type": "code",
   "execution_count": 20,
   "id": "4b561a78-2257-4423-a70a-f386438e43d9",
   "metadata": {},
   "outputs": [],
   "source": [
    "import re\n",
    "import random\n",
    "#========================= Model ==============================================\n",
    "from keras.models import Sequential\n",
    "from keras.layers.core import Dense, Activation, Flatten, Dropout\n",
    "from keras.callbacks import EarlyStopping\n",
    "from keras.optimizers import RMSprop\n",
    "from keras.layers import Conv1D, MaxPooling1D\n",
    "from keras.optimizers import SGD\n",
    "from sklearn.metrics import roc_curve, auc\n",
    "from keras.utils import to_categorical\n",
    "\n",
    "import matplotlib.pyplot as plt"
   ]
  },
  {
   "cell_type": "code",
   "execution_count": 10,
   "id": "9c5739a0-f413-4e50-89d7-a47b89996ded",
   "metadata": {},
   "outputs": [
    {
     "data": {
      "text/plain": [
       "0                                                [13, 13]\n",
       "1                                                [13, 13]\n",
       "2                                                    [13]\n",
       "3                                            [13, 13, 13]\n",
       "4                                                    [13]\n",
       "                              ...                        \n",
       "6074    [21, 8, 22, 2, 27, 2, 20, 23, 2, 21, 27, 25, 1...\n",
       "6075    [27, 27, 20, 27, 27, 19, 29, 27, 2, 29, 2, 29,...\n",
       "6076                                       [25, 9, 21, 5]\n",
       "6077    [27, 27, 19, 2, 8, 17, 2, 8, 27, 22, 19, 26, 1...\n",
       "6078                           [26, 8, 27, 19, 8, 26, 26]\n",
       "Name: Seq_Syllables, Length: 6079, dtype: object"
      ]
     },
     "execution_count": 10,
     "metadata": {},
     "output_type": "execute_result"
    }
   ],
   "source": [
    "symbolic_sequences.Seq_Syllables"
   ]
  },
  {
   "cell_type": "code",
   "execution_count": 11,
   "id": "fd3965c8-ba54-4bd5-8544-bf776fd070c6",
   "metadata": {},
   "outputs": [],
   "source": [
    "#Convert sequences into one-hot matrix\n",
    "def DNA_matrix(seq):\n",
    "\ttem2 = ['[aA]','[cC]','[gG]','[tT]']\n",
    "\tfor i in range(len(tem2)):\n",
    "\t\tind = [m.start() for m in re.finditer(tem2[i], seq)]\n",
    "\t\ttem = np.zeros(len(seq),dtype=np.int)\n",
    "\t\ttem[ind] = 1\n",
    "\t\tif i==0:\n",
    "\t\t\ta = np.zeros((len(seq),4))\n",
    "\t\ta[...,i] = tem\n",
    "\treturn a"
   ]
  },
  {
   "cell_type": "code",
   "execution_count": 12,
   "id": "b8c012a3-db30-45d5-af57-77eb371f3284",
   "metadata": {},
   "outputs": [],
   "source": [
    "#Convert sequences into one-hot matrix\n",
    "def Syl_matrix(seq, vocabulary = 30):\n",
    "    tem2 = [str(i) for i in np.arange(1, 31)]\n",
    "    seq = [str(i) for i in seq]\n",
    "    for i in range(len(tem2)):\n",
    "        ind = [ix for ix, syl in enumerate(seq) if syl ==  tem2[i]]\n",
    "        tem = np.zeros(len(seq),dtype=int)\n",
    "        tem[ind] = 1\n",
    "        if i==0:\n",
    "            a = np.zeros((len(seq), vocabulary))\n",
    "        a[...,i] = tem\n",
    "    return a"
   ]
  },
  {
   "cell_type": "code",
   "execution_count": 13,
   "id": "9c673424-8c88-4fc0-9d49-84542d9a7b77",
   "metadata": {},
   "outputs": [
    {
     "data": {
      "text/plain": [
       "array([[0., 0., 0., 0., 0., 0., 0., 0., 0., 0., 0., 0., 1., 0., 0., 0.,\n",
       "        0., 0., 0., 0., 0., 0., 0., 0., 0., 0., 0., 0., 0., 0.],\n",
       "       [0., 0., 0., 0., 0., 0., 0., 0., 0., 0., 0., 0., 1., 0., 0., 0.,\n",
       "        0., 0., 0., 0., 0., 0., 0., 0., 0., 0., 0., 0., 0., 0.]])"
      ]
     },
     "execution_count": 13,
     "metadata": {},
     "output_type": "execute_result"
    }
   ],
   "source": [
    "Syl_matrix([13,13])"
   ]
  },
  {
   "cell_type": "code",
   "execution_count": 14,
   "id": "4a077312-d328-4a25-924c-19484b07b0ec",
   "metadata": {},
   "outputs": [
    {
     "data": {
      "text/plain": [
       "array([[0., 0., 0., 0., 0., 0., 0., 0., 0., 0., 0., 0., 1., 0., 0., 0.,\n",
       "        0., 0., 0., 0., 0., 0., 0., 0., 0., 0., 0., 0., 0., 0.],\n",
       "       [0., 0., 0., 0., 0., 0., 0., 0., 0., 0., 0., 0., 1., 0., 0., 0.,\n",
       "        0., 0., 0., 0., 0., 0., 0., 0., 0., 0., 0., 0., 0., 0.]])"
      ]
     },
     "execution_count": 14,
     "metadata": {},
     "output_type": "execute_result"
    }
   ],
   "source": [
    "Syl_matrix([13,13])"
   ]
  },
  {
   "cell_type": "code",
   "execution_count": 15,
   "id": "074777e5-c703-4c41-b314-b4d6416932d5",
   "metadata": {},
   "outputs": [],
   "source": [
    "def Syl_pad(one_hot_seq, max_length):\n",
    "    # Compute the amount of padding required for each dimension\n",
    "    pad_width = ((0, max_length - one_hot_seq.shape[0]), (0, 0))\n",
    "\n",
    "    # Pad the input array with zeros\n",
    "    return np.pad(one_hot_seq, pad_width, mode='constant', constant_values=0)\n"
   ]
  },
  {
   "cell_type": "code",
   "execution_count": 16,
   "id": "fa5d73b2-f24a-4a39-a5f5-2a14322780d5",
   "metadata": {},
   "outputs": [
    {
     "data": {
      "text/plain": [
       "array([[0., 0., 0., 0., 0., 0., 0., 0., 0., 0., 0., 0., 1., 0., 0., 0.,\n",
       "        0., 0., 0., 0., 0., 0., 0., 0., 0., 0., 0., 0., 0., 0.],\n",
       "       [0., 0., 0., 0., 0., 0., 0., 0., 0., 0., 0., 0., 1., 0., 0., 0.,\n",
       "        0., 0., 0., 0., 0., 0., 0., 0., 0., 0., 0., 0., 0., 0.],\n",
       "       [0., 0., 0., 0., 0., 0., 0., 0., 0., 0., 0., 0., 0., 0., 0., 0.,\n",
       "        0., 0., 0., 0., 0., 0., 0., 0., 0., 0., 0., 0., 0., 0.]])"
      ]
     },
     "execution_count": 16,
     "metadata": {},
     "output_type": "execute_result"
    }
   ],
   "source": [
    "Syl_pad(Syl_matrix([13,13]), 3)"
   ]
  },
  {
   "cell_type": "code",
   "execution_count": 17,
   "id": "dd0d3e55-bc73-44f7-9d80-eec3e87cfc73",
   "metadata": {},
   "outputs": [],
   "source": [
    "dat_x = symbolic_sequences.Seq_Syllables.apply(lambda x : Syl_pad( Syl_matrix(x), 150)).values\n",
    "dat_x = np.stack([arr for arr in dat_x])"
   ]
  },
  {
   "cell_type": "code",
   "execution_count": 18,
   "id": "e2d89140-e1fb-4d51-9d9c-9069240b047a",
   "metadata": {},
   "outputs": [],
   "source": [
    "def one_hot_encode(labels, num_classes):\n",
    "    # Subtract 2 from labels to ensure they start from 0\n",
    "    labels_shifted = labels - 2\n",
    "    \n",
    "    # Convert labels to one-hot encoding\n",
    "    one_hot_labels = to_categorical(labels_shifted, num_classes=num_classes)\n",
    "    \n",
    "    return one_hot_labels"
   ]
  },
  {
   "cell_type": "code",
   "execution_count": 21,
   "id": "befad4d9-995d-4157-a517-818e29383dea",
   "metadata": {},
   "outputs": [],
   "source": [
    "dat_y = symbolic_sequences.label_context.apply(lambda x : x[0]).values\n",
    "dat_y = np.stack([arr for arr in dat_y])\n",
    "dat_y = one_hot_encode(dat_y, num_classes=  11)"
   ]
  },
  {
   "cell_type": "code",
   "execution_count": 22,
   "id": "6d4a2dbd-60e0-418c-a2bb-50ea5e88a5b0",
   "metadata": {},
   "outputs": [],
   "source": [
    "NUM_SAMPLES = len(dat_x)\n",
    "\n",
    "ind = np.arange(NUM_SAMPLES)\n",
    "\n",
    "random.shuffle(ind)\n",
    "\n",
    "\n",
    "\n",
    "x_train=dat_x[ind[0:4000]]\n",
    "y_train=dat_y[ind[0:4000]]\n",
    "x_val=dat_x[ind[4001:5001]]\n",
    "y_val=dat_y[ind[4001:5001]]\n",
    "x_test=dat_x[5001:NUM_SAMPLES]\n",
    "y_test=dat_y[5001:NUM_SAMPLES]\n",
    "x_train = x_train.astype('float32')\n",
    "x_val = x_val.astype('float32')\n"
   ]
  },
  {
   "cell_type": "code",
   "execution_count": null,
   "id": "8020c03a-82a6-479e-883d-b99a9b485020",
   "metadata": {},
   "outputs": [],
   "source": []
  },
  {
   "cell_type": "code",
   "execution_count": 23,
   "id": "39bb85c4-2c51-4fec-966f-4355ee1b871c",
   "metadata": {},
   "outputs": [
    {
     "data": {
      "text/plain": [
       "0                                                  [6, 6]\n",
       "1                                                  [6, 6]\n",
       "2                                                     [6]\n",
       "3                                               [6, 6, 6]\n",
       "4                                                     [6]\n",
       "                              ...                        \n",
       "6074    [9, 9, 9, 9, 9, 9, 9, 9, 9, 9, 9, 9, 9, 9, 9, ...\n",
       "6075    [9, 9, 9, 9, 9, 9, 9, 9, 9, 9, 9, 9, 9, 9, 9, ...\n",
       "6076                                         [9, 9, 9, 9]\n",
       "6077    [9, 9, 9, 9, 9, 9, 9, 9, 9, 9, 9, 9, 9, 9, 9, ...\n",
       "6078                                [9, 9, 9, 9, 9, 9, 9]\n",
       "Name: label_context, Length: 6079, dtype: object"
      ]
     },
     "execution_count": 23,
     "metadata": {},
     "output_type": "execute_result"
    }
   ],
   "source": [
    "symbolic_sequences.label_context"
   ]
  },
  {
   "cell_type": "code",
   "execution_count": 27,
   "id": "20460647-630e-40cb-9d5f-0b649f9116aa",
   "metadata": {},
   "outputs": [],
   "source": [
    "model=Sequential()\n",
    "model.add(Conv1D(filters=300,kernel_size=19,strides=1,padding='valid',input_shape=(150,30)))\n",
    "#print model.output_shape\n",
    "#model.add(Conv1D(filters=20,kernel_size=10,strides=1,padding='valid'))\n",
    "model.add(MaxPooling1D(pool_size=10, strides=5, padding='same'))\n",
    "model.add(Flatten())\n",
    "model.add(Dense(128, activation='relu'))\n",
    "model.add(Dropout(0.5))\n",
    "model.add(Dense(11, activation='softmax'))\n",
    "model.compile(optimizer='adam', loss='categorical_crossentropy', metrics=['accuracy'])"
   ]
  },
  {
   "cell_type": "code",
   "execution_count": 28,
   "id": "3adb7303-7dcf-4e0c-ab3f-54058cc32ca0",
   "metadata": {},
   "outputs": [
    {
     "name": "stdout",
     "output_type": "stream",
     "text": [
      "Model: \"sequential_1\"\n",
      "_________________________________________________________________\n",
      " Layer (type)                Output Shape              Param #   \n",
      "=================================================================\n",
      " conv1d_1 (Conv1D)           (None, 132, 300)          171300    \n",
      "                                                                 \n",
      " max_pooling1d_1 (MaxPooling  (None, 27, 300)          0         \n",
      " 1D)                                                             \n",
      "                                                                 \n",
      " flatten_1 (Flatten)         (None, 8100)              0         \n",
      "                                                                 \n",
      " dense_2 (Dense)             (None, 128)               1036928   \n",
      "                                                                 \n",
      " dropout_1 (Dropout)         (None, 128)               0         \n",
      "                                                                 \n",
      " dense_3 (Dense)             (None, 11)                1419      \n",
      "                                                                 \n",
      "=================================================================\n",
      "Total params: 1,209,647\n",
      "Trainable params: 1,209,647\n",
      "Non-trainable params: 0\n",
      "_________________________________________________________________\n"
     ]
    }
   ],
   "source": [
    "model.summary()"
   ]
  },
  {
   "cell_type": "code",
   "execution_count": 29,
   "id": "5eae5133-dde2-4fb3-95e2-fce2ef3e3d5e",
   "metadata": {},
   "outputs": [
    {
     "name": "stdout",
     "output_type": "stream",
     "text": [
      "Epoch 1/5\n",
      "250/250 [==============================] - 4s 14ms/step - loss: 1.2088 - accuracy: 0.6895 - val_loss: 1.0847 - val_accuracy: 0.7100\n",
      "Epoch 2/5\n",
      "250/250 [==============================] - 3s 13ms/step - loss: 1.0894 - accuracy: 0.7032 - val_loss: 1.0236 - val_accuracy: 0.7070\n",
      "Epoch 3/5\n",
      "250/250 [==============================] - 3s 13ms/step - loss: 1.0346 - accuracy: 0.7132 - val_loss: 0.9935 - val_accuracy: 0.7170\n",
      "Epoch 4/5\n",
      "250/250 [==============================] - 3s 13ms/step - loss: 0.9680 - accuracy: 0.7283 - val_loss: 1.0159 - val_accuracy: 0.7180\n",
      "Epoch 5/5\n",
      "250/250 [==============================] - 3s 12ms/step - loss: 0.9276 - accuracy: 0.7352 - val_loss: 1.0251 - val_accuracy: 0.7060\n",
      "{'loss': [1.2087547779083252, 1.0894064903259277, 1.0345872640609741, 0.9679834842681885, 0.9275578260421753], 'accuracy': [0.6894999742507935, 0.703249990940094, 0.7132499814033508, 0.7282500267028809, 0.7352499961853027], 'val_loss': [1.0846836566925049, 1.0235909223556519, 0.9935276508331299, 1.0159366130828857, 1.0250741243362427], 'val_accuracy': [0.7099999785423279, 0.7070000171661377, 0.7170000076293945, 0.7179999947547913, 0.7059999704360962]}\n"
     ]
    }
   ],
   "source": [
    "early_stopping = EarlyStopping(monitor='loss', patience=2, mode='min')\n",
    "history = model.fit(x_train, y_train, batch_size=16, epochs=5, verbose=1, validation_data= (x_val, y_val),callbacks=[early_stopping])\n",
    "print(history.history)"
   ]
  },
  {
   "cell_type": "code",
   "execution_count": 30,
   "id": "da07497e-890c-41f2-9cd3-b310aac32045",
   "metadata": {},
   "outputs": [
    {
     "name": "stdout",
     "output_type": "stream",
     "text": [
      "34/34 [==============================] - 0s 8ms/step\n",
      "\n",
      "Testing loss: 1.096466302871704, acc: 0.6410018801689148\n",
      "\n"
     ]
    }
   ],
   "source": [
    "y_score = model.predict(x_test)\n",
    "loss, acc = model.evaluate(x_test, y_test, verbose=0)\n",
    "print('\\nTesting loss: {}, acc: {}\\n'.format(loss, acc))\n"
   ]
  },
  {
   "cell_type": "code",
   "execution_count": 38,
   "id": "9b2eef07-9fcf-4325-8056-9592505fdf31",
   "metadata": {},
   "outputs": [
    {
     "name": "stdout",
     "output_type": "stream",
     "text": [
      "[[6. 0. 1. 1. 3. 4. 1. 3. 3. 4. 5. 1. 2. 0. 3. 5. 3. 1. 4.]\n",
      " [3. 3. 5. 3. 4. 2. 2. 5. 2. 4. 6. 1. 5. 3. 2. 0. 5. 4. 5.]\n",
      " [5. 2. 3. 2. 7. 6. 4. 4. 3. 4. 3. 6. 2. 4. 3. 3. 4. 4. 2.]\n",
      " [5. 3. 1. 3. 4. 2. 3. 9. 5. 3. 4. 3. 4. 3. 7. 4. 4. 2. 7.]\n",
      " [3. 5. 6. 2. 6. 2. 2. 5. 5. 7. 6. 5. 3. 0. 3. 2. 6. 4. 2.]\n",
      " [6. 3. 2. 4. 3. 7. 3. 5. 3. 4. 4. 4. 2. 3. 5. 4. 1. 5. 3.]\n",
      " [2. 5. 7. 2. 4. 5. 0. 2. 3. 4. 7. 2. 4. 4. 3. 3. 6. 6. 1.]\n",
      " [5. 4. 0. 2. 2. 3. 1. 4. 0. 2. 3. 4. 3. 2. 3. 3. 0. 2. 1.]\n",
      " [2. 2. 6. 1. 4. 1. 4. 1. 3. 5. 2. 3. 7. 3. 2. 6. 0. 4. 5.]\n",
      " [5. 2. 3. 4. 3. 5. 7. 3. 6. 0. 3. 6. 0. 5. 5. 5. 4. 4. 4.]\n",
      " [2. 6. 3. 4. 4. 2. 2. 4. 2. 6. 3. 5. 6. 2. 2. 5. 1. 3. 6.]\n",
      " [5. 3. 6. 5. 3. 7. 6. 4. 4. 3. 4. 3. 3. 5. 0. 2. 5. 5. 5.]\n",
      " [2. 2. 3. 3. 3. 4. 2. 2. 3. 2. 5. 5. 5. 2. 3. 5. 5. 2. 1.]\n",
      " [3. 4. 6. 3. 4. 3. 5. 2. 4. 3. 2. 3. 4. 7. 3. 5. 2. 5. 1.]\n",
      " [3. 5. 7. 4. 2. 3. 4. 6. 8. 3. 4. 0. 3. 1. 3. 4. 5. 2. 6.]\n",
      " [4. 4. 3. 5. 5. 5. 6. 7. 5. 3. 4. 3. 4. 5. 3. 5. 2. 5. 2.]\n",
      " [3. 5. 0. 5. 4. 3. 2. 4. 4. 4. 1. 0. 3. 0. 5. 3. 2. 4. 4.]\n",
      " [3. 4. 2. 3. 3. 4. 4. 1. 3. 0. 5. 3. 1. 1. 2. 1. 3. 2. 8.]\n",
      " [2. 5. 2. 6. 1. 6. 2. 2. 2. 4. 3. 1. 5. 3. 2. 1. 1. 3. 4.]\n",
      " [3. 1. 3. 4. 3. 0. 0. 1. 2. 2. 2. 3. 2. 6. 3. 3. 7. 4. 0.]\n",
      " [5. 4. 4. 2. 2. 2. 4. 1. 3. 3. 2. 6. 1. 4. 5. 4. 5. 0. 1.]\n",
      " [2. 2. 3. 6. 6. 4. 4. 4. 3. 3. 2. 4. 0. 2. 4. 4. 3. 1. 3.]\n",
      " [5. 4. 5. 4. 3. 3. 4. 7. 3. 6. 4. 7. 4. 7. 4. 3. 3. 3. 5.]\n",
      " [4. 2. 3. 7. 4. 6. 3. 1. 4. 3. 1. 5. 3. 3. 4. 6. 2. 6. 1.]\n",
      " [3. 2. 2. 3. 0. 2. 4. 4. 3. 1. 3. 5. 2. 5. 4. 2. 4. 2. 1.]\n",
      " [1. 3. 0. 5. 2. 1. 5. 2. 5. 2. 2. 4. 2. 5. 3. 4. 4. 3. 6.]\n",
      " [3. 6. 3. 0. 1. 1. 1. 2. 2. 4. 2. 3. 3. 4. 4. 3. 1. 4. 4.]\n",
      " [3. 4. 5. 1. 4. 1. 5. 1. 6. 3. 0. 2. 7. 6. 3. 1. 2. 4. 1.]\n",
      " [0. 2. 3. 3. 3. 4. 6. 0. 1. 5. 3. 5. 6. 1. 4. 4. 6. 2. 4.]\n",
      " [3. 4. 3. 5. 3. 3. 3. 4. 2. 5. 4. 2. 4. 2. 3. 4. 5. 4. 4.]]\n"
     ]
    }
   ],
   "source": [
    "weights = model.layers[0].get_weights()\n",
    "wt=(np.transpose(weights[0][:,:,0]))\n",
    "wtm=np.transpose(weights[0][:,:,0]).min(axis=0)\n",
    "wtp=wt-wtm\n",
    "wtps=np.sum(wtp, axis=0)\n",
    "print( np.round((wtp/wtps)*100) )"
   ]
  },
  {
   "cell_type": "code",
   "execution_count": 39,
   "id": "1d2e9998-b46a-4f66-8916-9153a8b8d424",
   "metadata": {},
   "outputs": [
    {
     "name": "stdout",
     "output_type": "stream",
     "text": [
      "32/32 [==============================] - 0s 7ms/step\n",
      "\n",
      "Testing loss: 1.0250742435455322, acc: 0.7059999704360962\n",
      "\n"
     ]
    }
   ],
   "source": [
    "\n",
    "y_score = model.predict(x_val)\n",
    "loss, acc = model.evaluate(x_val, y_val, verbose=0)\n",
    "print('\\nTesting loss: {}, acc: {}\\n'.format(loss, acc))\n"
   ]
  },
  {
   "cell_type": "code",
   "execution_count": 40,
   "id": "fb25dfd2-15b6-4ca4-8f34-ffe34b47f589",
   "metadata": {},
   "outputs": [
    {
     "data": {
      "image/png": "[encoded data removed]",
      "text/plain": [
       "<Figure size 640x480 with 1 Axes>"
      ]
     },
     "metadata": {},
     "output_type": "display_data"
    },
    {
     "name": "stdout",
     "output_type": "stream",
     "text": [
      "AUC: 0.510729\n"
     ]
    }
   ],
   "source": [
    "def generate_results(y_test, y_score):\n",
    "    fpr, tpr, _ = roc_curve(y_test, y_score)\n",
    "    roc_auc = auc(fpr, tpr)\n",
    "    plt.figure()\n",
    "    plt.plot(fpr, tpr, label='ROC curve (area = %0.2f)' % roc_auc)\n",
    "    plt.plot([0, 1], [0, 1], 'k--')\n",
    "    plt.xlim([0.0, 1.05])\n",
    "    plt.ylim([0.0, 1.05])\n",
    "    plt.xlabel('False Positive Rate')\n",
    "    plt.ylabel('True Positive Rate')\n",
    "    plt.title('Receiver operating characteristic curve')\n",
    "    plt.show()\n",
    "    print('AUC: %f' % roc_auc)\n",
    "\n",
    "generate_results(y_val[:, 0], y_score[:, 0])"
   ]
  },
  {
   "cell_type": "code",
   "execution_count": null,
   "id": "e788d155-ed86-42da-976a-ceec0c5a89a8",
   "metadata": {},
   "outputs": [],
   "source": []
  }
 ],
 "metadata": {
  "kernelspec": {
   "display_name": "Python 3 (ipykernel)",
   "language": "python",
   "name": "python3"
  },
  "language_info": {
   "codemirror_mode": {
    "name": "ipython",
    "version": 3
   },
   "file_extension": ".py",
   "mimetype": "text/x-python",
   "name": "python",
   "nbconvert_exporter": "python",
   "pygments_lexer": "ipython3",
   "version": "3.10.6"
  }
 },
 "nbformat": 4,
 "nbformat_minor": 5
}
