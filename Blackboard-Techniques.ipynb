{
 "cells": [
  {
   "cell_type": "code",
   "execution_count": 5,
   "id": "b33b490e-4d42-428e-b7f9-e367ff62132d",
   "metadata": {
    "tags": []
   },
   "outputs": [],
   "source": [
    "import librosa\n",
    "import numpy as np\n",
    "\n",
    "# Log-IQR for outlier detection"
   ]
  },
  {
   "cell_type": "code",
   "execution_count": 6,
   "id": "23fe6b6e-979e-4b47-9ce6-b37d9ff3e1b5",
   "metadata": {
    "tags": []
   },
   "outputs": [
    {
     "ename": "NameError",
     "evalue": "name 'spectrogram_data' is not defined",
     "output_type": "error",
     "traceback": [
      "\u001b[0;31m---------------------------------------------------------------------------\u001b[0m",
      "\u001b[0;31mNameError\u001b[0m                                 Traceback (most recent call last)",
      "Cell \u001b[0;32mIn[6], line 6\u001b[0m\n\u001b[1;32m      1\u001b[0m \u001b[38;5;28;01mfrom\u001b[39;00m \u001b[38;5;21;01mscipy\u001b[39;00m\u001b[38;5;21;01m.\u001b[39;00m\u001b[38;5;21;01mstats\u001b[39;00m \u001b[38;5;28;01mimport\u001b[39;00m iqr\n\u001b[1;32m      3\u001b[0m \u001b[38;5;66;03m#spectrogram_data = seq_mapped.specs.iloc[0]\u001b[39;00m\n\u001b[1;32m      4\u001b[0m \n\u001b[1;32m      5\u001b[0m \u001b[38;5;66;03m# Assuming spectrogram_data is your original spectrogram data\u001b[39;00m\n\u001b[0;32m----> 6\u001b[0m log_data \u001b[38;5;241m=\u001b[39m np\u001b[38;5;241m.\u001b[39mlog(\u001b[43mspectrogram_data\u001b[49m)\n\u001b[1;32m      8\u001b[0m \u001b[38;5;66;03m# Compute the IQR of the log-transformed data\u001b[39;00m\n\u001b[1;32m      9\u001b[0m q1 \u001b[38;5;241m=\u001b[39m np\u001b[38;5;241m.\u001b[39mpercentile(log_data, \u001b[38;5;241m25\u001b[39m)\n",
      "\u001b[0;31mNameError\u001b[0m: name 'spectrogram_data' is not defined"
     ]
    }
   ],
   "source": [
    "from scipy.stats import iqr\n",
    "\n",
    "#spectrogram_data = seq_mapped.specs.iloc[0]\n",
    "\n",
    "# Assuming spectrogram_data is your original spectrogram data\n",
    "log_data = np.log(spectrogram_data)\n",
    "\n",
    "# Compute the IQR of the log-transformed data\n",
    "q1 = np.percentile(log_data, 25)\n",
    "q3 = np.percentile(log_data, 75)\n",
    "iqr_value = iqr(log_data)\n",
    "\n",
    "# Define the threshold for outliers\n",
    "threshold_lower = q1 - (1.5 * iqr_value)\n",
    "threshold_upper = q3 + (1.5 * iqr_value)\n",
    "\n",
    "# Identify outliers in the original spectrogram data\n",
    "outliers = (spectrogram_data < np.exp(threshold_lower)) | (spectrogram_data > np.exp(threshold_upper))\n",
    "\n",
    "# Plot the spectrogram data with outliers highlighted\n",
    "import matplotlib.pyplot as plt\n",
    "\n",
    "plt.imshow(spectrogram_data, cmap='hot', aspect='auto')\n",
    "plt.colorbar()\n",
    "plt.scatter(np.where(outliers)[1], np.where(outliers)[0], color='red', marker='x')\n",
    "plt.show()"
   ]
  },
  {
   "cell_type": "code",
   "execution_count": 2,
   "id": "54b41c3a-c84d-4299-9b91-f4f2938da338",
   "metadata": {
    "tags": []
   },
   "outputs": [
    {
     "ename": "NameError",
     "evalue": "name 'librosa' is not defined",
     "output_type": "error",
     "traceback": [
      "\u001b[0;31m---------------------------------------------------------------------------\u001b[0m",
      "\u001b[0;31mNameError\u001b[0m                                 Traceback (most recent call last)",
      "Cell \u001b[0;32mIn[2], line 1\u001b[0m\n\u001b[0;32m----> 1\u001b[0m S_db \u001b[38;5;241m=\u001b[39m \u001b[43mlibrosa\u001b[49m\u001b[38;5;241m.\u001b[39mamplitude_to_db(np\u001b[38;5;241m.\u001b[39mabs(spectrogram_data), ref\u001b[38;5;241m=\u001b[39mnp\u001b[38;5;241m.\u001b[39mmax)\n\u001b[1;32m      2\u001b[0m S_db \u001b[38;5;241m=\u001b[39m librosa\u001b[38;5;241m.\u001b[39mpower_to_db(spectrogram_data, ref\u001b[38;5;241m=\u001b[39mnp\u001b[38;5;241m.\u001b[39mmax)\n\u001b[1;32m      3\u001b[0m librosa\u001b[38;5;241m.\u001b[39mdisplay\u001b[38;5;241m.\u001b[39mspecshow(S_db, x_axis\u001b[38;5;241m=\u001b[39m\u001b[38;5;124m'\u001b[39m\u001b[38;5;124mtime\u001b[39m\u001b[38;5;124m'\u001b[39m, y_axis\u001b[38;5;241m=\u001b[39m\u001b[38;5;124m'\u001b[39m\u001b[38;5;124mlog\u001b[39m\u001b[38;5;124m'\u001b[39m, ax \u001b[38;5;241m=\u001b[39m \u001b[38;5;28;01mNone\u001b[39;00m)\n",
      "\u001b[0;31mNameError\u001b[0m: name 'librosa' is not defined"
     ]
    }
   ],
   "source": [
    "S_db = librosa.amplitude_to_db(np.abs(spectrogram_data), ref=np.max)\n",
    "S_db = librosa.power_to_db(spectrogram_data, ref=np.max)\n",
    "librosa.display.specshow(S_db, x_axis='time', y_axis='log', ax = None)"
   ]
  },
  {
   "cell_type": "code",
   "execution_count": 7,
   "id": "f3d6dda2-5bb2-437d-a6f5-c06a962d2205",
   "metadata": {
    "tags": []
   },
   "outputs": [],
   "source": [
    "# Z-Score"
   ]
  },
  {
   "cell_type": "code",
   "execution_count": null,
   "id": "61dcb83c-a768-4532-81f1-1bafb5789b3a",
   "metadata": {},
   "outputs": [],
   "source": [
    "bands_means = np.log(spectrogram_data).mean(axis=0)\n",
    "bands_stds = np.log(spectrogram_data).std(axis=0)\n",
    "\n",
    "\n",
    "\n",
    "threshold_lower = bands_means - 3 * bands_stds\n",
    "threshold_upper = bands_means + 3 * bands_stds\n",
    "\n",
    "outliers = (spectrogram_data < np.exp(threshold_lower)) | (spectrogram_data > np.exp(threshold_upper))\n",
    "\n",
    "plt.imshow(spectrogram_data, cmap='hot', aspect='auto')\n",
    "plt.colorbar()\n",
    "plt.scatter(np.where(outliers)[1], np.where(outliers)[0], color='red', marker='x')\n",
    "plt.show()\n",
    "            "
   ]
  },
  {
   "cell_type": "code",
   "execution_count": 8,
   "id": "ffc5fd6c-4037-4396-9fa2-ebd448515e5f",
   "metadata": {
    "tags": []
   },
   "outputs": [],
   "source": [
    "# Crop spectrograms\n",
    "\n",
    "import math\n",
    "\n",
    "# crop ?\n",
    "def crop_spec(spec, abs_tol = 1e-03):\n",
    "    # left border\n",
    "    \n",
    "    std_devs = spec.mean(axis=0)\n",
    "    extreme_left_ix = 0\n",
    "    extreme_right_ix = -1\n",
    "    for i, std in enumerate(std_devs):\n",
    "        if math.isclose( std ,  std_devs[0], abs_tol=abs_tol):\n",
    "            extreme_left_ix = i \n",
    "            \n",
    "\n",
    "            \n",
    "    \n",
    "    for j, std in enumerate(reversed(std_devs), start=1):\n",
    "        i = len(std_devs) - j\n",
    "        if math.isclose( std ,  std_devs[-1], abs_tol=abs_tol):\n",
    "            extreme_right_ix = i\n",
    "        else:\n",
    "            break\n",
    "            \n",
    "    return spec[:,extreme_left_ix : extreme_right_ix]\n",
    " \n",
    "    "
   ]
  },
  {
   "cell_type": "code",
   "execution_count": 9,
   "id": "441500d8-69c1-4cba-ad05-4e57e41704c8",
   "metadata": {
    "tags": []
   },
   "outputs": [
    {
     "ename": "NameError",
     "evalue": "name '_is_outliers' is not defined",
     "output_type": "error",
     "traceback": [
      "\u001b[0;31m---------------------------------------------------------------------------\u001b[0m",
      "\u001b[0;31mNameError\u001b[0m                                 Traceback (most recent call last)",
      "Cell \u001b[0;32mIn[9], line 1\u001b[0m\n\u001b[0;32m----> 1\u001b[0m np\u001b[38;5;241m.\u001b[39margwhere(\u001b[43m_is_outliers\u001b[49m\u001b[38;5;241m.\u001b[39mloc[\u001b[38;5;241m0\u001b[39m]\u001b[38;5;241m.\u001b[39mmean(axis\u001b[38;5;241m=\u001b[39m\u001b[38;5;241m0\u001b[39m) \u001b[38;5;241m<\u001b[39m _is_outliers\u001b[38;5;241m.\u001b[39mloc[\u001b[38;5;241m0\u001b[39m]\u001b[38;5;241m.\u001b[39mmin() \u001b[38;5;241m+\u001b[39m \u001b[38;5;241m0.5\u001b[39m)\n",
      "\u001b[0;31mNameError\u001b[0m: name '_is_outliers' is not defined"
     ]
    }
   ],
   "source": [
    "np.argwhere(_is_outliers.loc[0].mean(axis=0) < _is_outliers.loc[0].min() + 0.5)"
   ]
  },
  {
   "cell_type": "code",
   "execution_count": 11,
   "id": "a7c28421-fc87-4d50-a0bf-0ab99713ff0a",
   "metadata": {},
   "outputs": [],
   "source": [
    "# periodogram ?\n",
    "# computationally expensive"
   ]
  },
  {
   "cell_type": "code",
   "execution_count": null,
   "id": "c682eb73-cb46-44e0-885c-8f12422cb2b9",
   "metadata": {},
   "outputs": [],
   "source": [
    "\n",
    "n_fft = 2048\n",
    "fmin = 200\n",
    "fmax = 120000\n",
    "n_mels = 64\n",
    "hop_length = 256\n",
    "win_length=1024\n",
    "\n",
    "freqs = librosa.fft_frequencies(sr=250000, n_fft=2048)\n",
    "times = librosa.frames_to_time(np.arange(power_spec(sample_spec).shape[1]), sr=250000, hop_length=256, n_fft=20148)\n",
    "\n",
    "flattened_power = power_spec(sample_spec).flatten()\n",
    "flattened_freqs = np.tile(freqs, power_spec(sample_spec).shape[1])  + 1.0e-9\n",
    "flattened_times = np.repeat(times, power_spec(sample_spec).shape[0])\n",
    "\n",
    "from scipy.signal import lombscargle\n",
    "\n",
    "frequencies = np.linspace(min(freqs), max(freqs), num=1000)  + 1.0e-9# Define the frequencies for evaluation\n",
    "periodogram = lombscargle(flattened_times, flattened_power, flattened_freqs)"
   ]
  },
  {
   "cell_type": "code",
   "execution_count": null,
   "id": "3a5d85fe-bbb0-48a4-8244-459b488cfdc3",
   "metadata": {},
   "outputs": [],
   "source": []
  }
 ],
 "metadata": {
  "kernelspec": {
   "display_name": "Python 3 (ipykernel)",
   "language": "python",
   "name": "python3"
  },
  "language_info": {
   "codemirror_mode": {
    "name": "ipython",
    "version": 3
   },
   "file_extension": ".py",
   "mimetype": "text/x-python",
   "name": "python",
   "nbconvert_exporter": "python",
   "pygments_lexer": "ipython3",
   "version": "3.10.6"
  }
 },
 "nbformat": 4,
 "nbformat_minor": 5
}
