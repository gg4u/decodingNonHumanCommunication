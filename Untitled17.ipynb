{
 "cells": [
  {
   "cell_type": "code",
   "execution_count": 39,
   "id": "9201c9a0-c8d5-4c96-9d7c-a8fb2964ba33",
   "metadata": {
    "tags": []
   },
   "outputs": [
    {
     "data": {
      "text/html": [
       "<div>\n",
       "<style scoped>\n",
       "    .dataframe tbody tr th:only-of-type {\n",
       "        vertical-align: middle;\n",
       "    }\n",
       "\n",
       "    .dataframe tbody tr th {\n",
       "        vertical-align: top;\n",
       "    }\n",
       "\n",
       "    .dataframe thead th {\n",
       "        text-align: right;\n",
       "    }\n",
       "</style>\n",
       "<table border=\"1\" class=\"dataframe\">\n",
       "  <thead>\n",
       "    <tr style=\"text-align: right;\">\n",
       "      <th></th>\n",
       "      <th>qt_ward</th>\n",
       "      <th>et_ward</th>\n",
       "      <th>hdbscan</th>\n",
       "      <th>hdb_nca</th>\n",
       "      <th>ms</th>\n",
       "      <th>context</th>\n",
       "      <th>addressee</th>\n",
       "      <th>length</th>\n",
       "      <th>flag</th>\n",
       "      <th>qt_ward_all</th>\n",
       "    </tr>\n",
       "    <tr>\n",
       "      <th>File name</th>\n",
       "      <th></th>\n",
       "      <th></th>\n",
       "      <th></th>\n",
       "      <th></th>\n",
       "      <th></th>\n",
       "      <th></th>\n",
       "      <th></th>\n",
       "      <th></th>\n",
       "      <th></th>\n",
       "      <th></th>\n",
       "    </tr>\n",
       "  </thead>\n",
       "  <tbody>\n",
       "    <tr>\n",
       "      <th>121004165931143478.WAV</th>\n",
       "      <td>[13, 13]</td>\n",
       "      <td>[201, 201]</td>\n",
       "      <td>[-1, -1]</td>\n",
       "      <td>[1, 2]</td>\n",
       "      <td>[6, 6]</td>\n",
       "      <td>6</td>\n",
       "      <td>217</td>\n",
       "      <td>2</td>\n",
       "      <td>True</td>\n",
       "      <td>[25, 25, 22, 22, 25, 25]</td>\n",
       "    </tr>\n",
       "    <tr>\n",
       "      <th>121004172433181482.WAV</th>\n",
       "      <td>[13, 13]</td>\n",
       "      <td>[201, 201]</td>\n",
       "      <td>[-1, -1]</td>\n",
       "      <td>[1, 1]</td>\n",
       "      <td>[6, 6]</td>\n",
       "      <td>6</td>\n",
       "      <td>217</td>\n",
       "      <td>2</td>\n",
       "      <td>True</td>\n",
       "      <td>[25, 25, 25, 25]</td>\n",
       "    </tr>\n",
       "    <tr>\n",
       "      <th>121004172647137483.WAV</th>\n",
       "      <td>[13]</td>\n",
       "      <td>[199]</td>\n",
       "      <td>[-1]</td>\n",
       "      <td>[2]</td>\n",
       "      <td>[6]</td>\n",
       "      <td>6</td>\n",
       "      <td>217</td>\n",
       "      <td>1</td>\n",
       "      <td>True</td>\n",
       "      <td>[25, 25, 25]</td>\n",
       "    </tr>\n",
       "    <tr>\n",
       "      <th>121004172921179484.WAV</th>\n",
       "      <td>[13, 13, 13]</td>\n",
       "      <td>[199, 199, 199]</td>\n",
       "      <td>[-1, -1, 2]</td>\n",
       "      <td>[1, 2, 2]</td>\n",
       "      <td>[6, 6, 6]</td>\n",
       "      <td>6</td>\n",
       "      <td>217</td>\n",
       "      <td>3</td>\n",
       "      <td>True</td>\n",
       "      <td>[25, 25, 25, 25, 25, 25, 25, 25, 25]</td>\n",
       "    </tr>\n",
       "    <tr>\n",
       "      <th>121004173710156486.WAV</th>\n",
       "      <td>[13]</td>\n",
       "      <td>[201]</td>\n",
       "      <td>[1]</td>\n",
       "      <td>[1]</td>\n",
       "      <td>[6]</td>\n",
       "      <td>6</td>\n",
       "      <td>217</td>\n",
       "      <td>1</td>\n",
       "      <td>True</td>\n",
       "      <td>[25, 23]</td>\n",
       "    </tr>\n",
       "    <tr>\n",
       "      <th>...</th>\n",
       "      <td>...</td>\n",
       "      <td>...</td>\n",
       "      <td>...</td>\n",
       "      <td>...</td>\n",
       "      <td>...</td>\n",
       "      <td>...</td>\n",
       "      <td>...</td>\n",
       "      <td>...</td>\n",
       "      <td>...</td>\n",
       "      <td>...</td>\n",
       "    </tr>\n",
       "    <tr>\n",
       "      <th>140219054006223350.WAV</th>\n",
       "      <td>[21, 8, 22, 2, 27, 2, 20, 23, 2, 21, 27, 25, 1...</td>\n",
       "      <td>[308, 146, 318, 59, 370, 24, 285, 325, 20, 308...</td>\n",
       "      <td>[-1, -1, 1, 1, -1, -1, -1, -1, 6, -1, -1, -1, ...</td>\n",
       "      <td>[5, 4, 1, 1, 4, 1, 4, 4, 6, 2, 3, 3, 2, 1, 2, ...</td>\n",
       "      <td>[1, 2, 6, 6, 0, 6, 2, 2, 4, 3, 7, 7, 7, 6, 6, ...</td>\n",
       "      <td>9</td>\n",
       "      <td>221</td>\n",
       "      <td>51</td>\n",
       "      <td>False</td>\n",
       "      <td>[22, 7, 21, 8, 7, 8, 18, 23, 7, 7, 6, 22, 18, ...</td>\n",
       "    </tr>\n",
       "    <tr>\n",
       "      <th>140219054741046380.WAV</th>\n",
       "      <td>[27, 27, 20, 27, 27, 19, 29, 27, 2, 29, 2, 29,...</td>\n",
       "      <td>[374, 368, 285, 366, 374, 275, 395, 374, 56, 3...</td>\n",
       "      <td>[-1, 1, -1, -1, 5, -1, -1, -1, 4, -1, 4, 3, 3,...</td>\n",
       "      <td>[3, 1, 3, 5, 5, 2, 5, 3, 4, 3, 4, 3, 3, 0, 5, ...</td>\n",
       "      <td>[7, 6, 7, 1, 1, 6, 1, 7, 0, 7, 0, 7, 7, 5, 1, ...</td>\n",
       "      <td>9</td>\n",
       "      <td>221</td>\n",
       "      <td>24</td>\n",
       "      <td>False</td>\n",
       "      <td>[17, 7, 12, 20, 11, 20, 22, 2, 13, 13, 13, 13,...</td>\n",
       "    </tr>\n",
       "    <tr>\n",
       "      <th>140219055906489406.WAV</th>\n",
       "      <td>[25, 9, 21, 5]</td>\n",
       "      <td>[350, 158, 291, 91]</td>\n",
       "      <td>[-1, -1, -1, -1]</td>\n",
       "      <td>[3, 3, 5, 4]</td>\n",
       "      <td>[5, 8, 1, 9]</td>\n",
       "      <td>9</td>\n",
       "      <td>221</td>\n",
       "      <td>4</td>\n",
       "      <td>True</td>\n",
       "      <td>[22, 14, 14, 12]</td>\n",
       "    </tr>\n",
       "    <tr>\n",
       "      <th>140219055915824409.WAV</th>\n",
       "      <td>[27, 27, 19, 2, 8, 17, 2, 8, 27, 22, 19, 26, 1...</td>\n",
       "      <td>[373, 372, 272, 26, 143, 243, 44, 143, 372, 31...</td>\n",
       "      <td>[-1, -1, 1, -1, -1, -1, -1, -1, 2, -1, 2, -1, ...</td>\n",
       "      <td>[3, 3, 1, 4, 4, 4, 4, 4, 2, 3, 2, 4, 1, 3, 4, ...</td>\n",
       "      <td>[1, 5, 6, 2, 2, 2, 2, 2, 8, 8, 6, 4, 6, 5, 0, ...</td>\n",
       "      <td>9</td>\n",
       "      <td>221</td>\n",
       "      <td>40</td>\n",
       "      <td>True</td>\n",
       "      <td>[22, 10, 12, 10, 2, 18, 1, 8, 7, 8, 23, 17, 25...</td>\n",
       "    </tr>\n",
       "    <tr>\n",
       "      <th>140219055925290410.WAV</th>\n",
       "      <td>[26, 8, 27, 19, 8, 26, 26]</td>\n",
       "      <td>[364, 136, 376, 276, 148, 362, 363]</td>\n",
       "      <td>[-1, -1, 2, -1, -1, -1, -1]</td>\n",
       "      <td>[3, 5, 2, 2, 4, 3, 3]</td>\n",
       "      <td>[1, 1, 3, 8, 2, 1, 1]</td>\n",
       "      <td>9</td>\n",
       "      <td>221</td>\n",
       "      <td>7</td>\n",
       "      <td>True</td>\n",
       "      <td>[22, 12, 8, 14, 10, 18, 6, 22, 13, 13, 13]</td>\n",
       "    </tr>\n",
       "  </tbody>\n",
       "</table>\n",
       "<p>6071 rows × 10 columns</p>\n",
       "</div>"
      ],
      "text/plain": [
       "                                                                  qt_ward  \\\n",
       "File name                                                                   \n",
       "121004165931143478.WAV                                           [13, 13]   \n",
       "121004172433181482.WAV                                           [13, 13]   \n",
       "121004172647137483.WAV                                               [13]   \n",
       "121004172921179484.WAV                                       [13, 13, 13]   \n",
       "121004173710156486.WAV                                               [13]   \n",
       "...                                                                   ...   \n",
       "140219054006223350.WAV  [21, 8, 22, 2, 27, 2, 20, 23, 2, 21, 27, 25, 1...   \n",
       "140219054741046380.WAV  [27, 27, 20, 27, 27, 19, 29, 27, 2, 29, 2, 29,...   \n",
       "140219055906489406.WAV                                     [25, 9, 21, 5]   \n",
       "140219055915824409.WAV  [27, 27, 19, 2, 8, 17, 2, 8, 27, 22, 19, 26, 1...   \n",
       "140219055925290410.WAV                         [26, 8, 27, 19, 8, 26, 26]   \n",
       "\n",
       "                                                                  et_ward  \\\n",
       "File name                                                                   \n",
       "121004165931143478.WAV                                         [201, 201]   \n",
       "121004172433181482.WAV                                         [201, 201]   \n",
       "121004172647137483.WAV                                              [199]   \n",
       "121004172921179484.WAV                                    [199, 199, 199]   \n",
       "121004173710156486.WAV                                              [201]   \n",
       "...                                                                   ...   \n",
       "140219054006223350.WAV  [308, 146, 318, 59, 370, 24, 285, 325, 20, 308...   \n",
       "140219054741046380.WAV  [374, 368, 285, 366, 374, 275, 395, 374, 56, 3...   \n",
       "140219055906489406.WAV                                [350, 158, 291, 91]   \n",
       "140219055915824409.WAV  [373, 372, 272, 26, 143, 243, 44, 143, 372, 31...   \n",
       "140219055925290410.WAV                [364, 136, 376, 276, 148, 362, 363]   \n",
       "\n",
       "                                                                  hdbscan  \\\n",
       "File name                                                                   \n",
       "121004165931143478.WAV                                           [-1, -1]   \n",
       "121004172433181482.WAV                                           [-1, -1]   \n",
       "121004172647137483.WAV                                               [-1]   \n",
       "121004172921179484.WAV                                        [-1, -1, 2]   \n",
       "121004173710156486.WAV                                                [1]   \n",
       "...                                                                   ...   \n",
       "140219054006223350.WAV  [-1, -1, 1, 1, -1, -1, -1, -1, 6, -1, -1, -1, ...   \n",
       "140219054741046380.WAV  [-1, 1, -1, -1, 5, -1, -1, -1, 4, -1, 4, 3, 3,...   \n",
       "140219055906489406.WAV                                   [-1, -1, -1, -1]   \n",
       "140219055915824409.WAV  [-1, -1, 1, -1, -1, -1, -1, -1, 2, -1, 2, -1, ...   \n",
       "140219055925290410.WAV                        [-1, -1, 2, -1, -1, -1, -1]   \n",
       "\n",
       "                                                                  hdb_nca  \\\n",
       "File name                                                                   \n",
       "121004165931143478.WAV                                             [1, 2]   \n",
       "121004172433181482.WAV                                             [1, 1]   \n",
       "121004172647137483.WAV                                                [2]   \n",
       "121004172921179484.WAV                                          [1, 2, 2]   \n",
       "121004173710156486.WAV                                                [1]   \n",
       "...                                                                   ...   \n",
       "140219054006223350.WAV  [5, 4, 1, 1, 4, 1, 4, 4, 6, 2, 3, 3, 2, 1, 2, ...   \n",
       "140219054741046380.WAV  [3, 1, 3, 5, 5, 2, 5, 3, 4, 3, 4, 3, 3, 0, 5, ...   \n",
       "140219055906489406.WAV                                       [3, 3, 5, 4]   \n",
       "140219055915824409.WAV  [3, 3, 1, 4, 4, 4, 4, 4, 2, 3, 2, 4, 1, 3, 4, ...   \n",
       "140219055925290410.WAV                              [3, 5, 2, 2, 4, 3, 3]   \n",
       "\n",
       "                                                                       ms  \\\n",
       "File name                                                                   \n",
       "121004165931143478.WAV                                             [6, 6]   \n",
       "121004172433181482.WAV                                             [6, 6]   \n",
       "121004172647137483.WAV                                                [6]   \n",
       "121004172921179484.WAV                                          [6, 6, 6]   \n",
       "121004173710156486.WAV                                                [6]   \n",
       "...                                                                   ...   \n",
       "140219054006223350.WAV  [1, 2, 6, 6, 0, 6, 2, 2, 4, 3, 7, 7, 7, 6, 6, ...   \n",
       "140219054741046380.WAV  [7, 6, 7, 1, 1, 6, 1, 7, 0, 7, 0, 7, 7, 5, 1, ...   \n",
       "140219055906489406.WAV                                       [5, 8, 1, 9]   \n",
       "140219055915824409.WAV  [1, 5, 6, 2, 2, 2, 2, 2, 8, 8, 6, 4, 6, 5, 0, ...   \n",
       "140219055925290410.WAV                              [1, 1, 3, 8, 2, 1, 1]   \n",
       "\n",
       "                        context  addressee  length   flag  \\\n",
       "File name                                                   \n",
       "121004165931143478.WAV        6        217       2   True   \n",
       "121004172433181482.WAV        6        217       2   True   \n",
       "121004172647137483.WAV        6        217       1   True   \n",
       "121004172921179484.WAV        6        217       3   True   \n",
       "121004173710156486.WAV        6        217       1   True   \n",
       "...                         ...        ...     ...    ...   \n",
       "140219054006223350.WAV        9        221      51  False   \n",
       "140219054741046380.WAV        9        221      24  False   \n",
       "140219055906489406.WAV        9        221       4   True   \n",
       "140219055915824409.WAV        9        221      40   True   \n",
       "140219055925290410.WAV        9        221       7   True   \n",
       "\n",
       "                                                              qt_ward_all  \n",
       "File name                                                                  \n",
       "121004165931143478.WAV                           [25, 25, 22, 22, 25, 25]  \n",
       "121004172433181482.WAV                                   [25, 25, 25, 25]  \n",
       "121004172647137483.WAV                                       [25, 25, 25]  \n",
       "121004172921179484.WAV               [25, 25, 25, 25, 25, 25, 25, 25, 25]  \n",
       "121004173710156486.WAV                                           [25, 23]  \n",
       "...                                                                   ...  \n",
       "140219054006223350.WAV  [22, 7, 21, 8, 7, 8, 18, 23, 7, 7, 6, 22, 18, ...  \n",
       "140219054741046380.WAV  [17, 7, 12, 20, 11, 20, 22, 2, 13, 13, 13, 13,...  \n",
       "140219055906489406.WAV                                   [22, 14, 14, 12]  \n",
       "140219055915824409.WAV  [22, 10, 12, 10, 2, 18, 1, 8, 7, 8, 23, 17, 25...  \n",
       "140219055925290410.WAV         [22, 12, 8, 14, 10, 18, 6, 22, 13, 13, 13]  \n",
       "\n",
       "[6071 rows x 10 columns]"
      ]
     },
     "execution_count": 39,
     "metadata": {},
     "output_type": "execute_result"
    }
   ],
   "source": [
    "SEQUENCES"
   ]
  },
  {
   "cell_type": "code",
   "execution_count": 292,
   "id": "453b3672-5082-4913-aa1a-cf8b9c1cd8e9",
   "metadata": {
    "tags": []
   },
   "outputs": [
    {
     "data": {
      "text/plain": [
       "context\n",
       "2      292\n",
       "3       96\n",
       "4       50\n",
       "5       48\n",
       "6       76\n",
       "7       48\n",
       "8        1\n",
       "9      629\n",
       "10      46\n",
       "11     627\n",
       "12    4162\n",
       "dtype: int64"
      ]
     },
     "execution_count": 292,
     "metadata": {},
     "output_type": "execute_result"
    }
   ],
   "source": [
    "SEQUENCES.groupby('context').size()"
   ]
  },
  {
   "cell_type": "code",
   "execution_count": 42,
   "id": "ad4ffa19-fb36-48ef-80d1-b5c9322eb951",
   "metadata": {
    "tags": []
   },
   "outputs": [],
   "source": [
    "import tensorflow as tf\n",
    "from tensorflow.keras.models import Sequential\n",
    "from tensorflow.keras.layers import Embedding, SimpleRNN, Dense\n",
    "from tensorflow.keras.preprocessing.sequence import pad_sequences"
   ]
  },
  {
   "cell_type": "code",
   "execution_count": 104,
   "id": "85905e2f-7a98-43bd-b74b-6e15391c60a1",
   "metadata": {
    "tags": []
   },
   "outputs": [],
   "source": [
    "# Assuming X and y are your data\n",
    "#X = pad_sequences(X, maxlen=max_len)  # if needed, pad your sequences\n",
    "\n",
    "sample_data = SEQUENCES.query(f'context in {[  2, 9]}') \\\n",
    "   # .groupby('context') \\\n",
    "   # .sample(n = 30, replace=True) \n",
    "\n",
    "X = sample_data['qt_ward_all'].apply(lambda x : [i + 1 for i in x]).values"
   ]
  },
  {
   "cell_type": "code",
   "execution_count": 105,
   "id": "19aed3ab-e763-48fd-8b24-77f754c8ae09",
   "metadata": {
    "tags": []
   },
   "outputs": [
    {
     "data": {
      "text/plain": [
       "(array([ 0,  2,  3,  4,  5,  6,  7,  8,  9, 10, 11, 12, 13, 14, 15, 16, 17,\n",
       "        18, 19, 20, 21, 22, 23, 24, 25, 26], dtype=int32),\n",
       " 26,\n",
       " (919, 20))"
      ]
     },
     "execution_count": 105,
     "metadata": {},
     "output_type": "execute_result"
    }
   ],
   "source": [
    "X = pad_sequences(X, maxlen=20, padding = 'post', value =  0)\n",
    "np.unique(X), len(np.unique(X)), X.shape"
   ]
  },
  {
   "cell_type": "code",
   "execution_count": 114,
   "id": "c36ae1a4-cfe9-40b8-b38c-3453f0a2bc38",
   "metadata": {
    "tags": []
   },
   "outputs": [
    {
     "data": {
      "text/plain": [
       "(2,)"
      ]
     },
     "execution_count": 114,
     "metadata": {},
     "output_type": "execute_result"
    }
   ],
   "source": [
    "y = sample_data['context'].apply(lambda x : 0 if x <= 2 else 1).values\n",
    "np.unique(y).shape"
   ]
  },
  {
   "cell_type": "code",
   "execution_count": 115,
   "id": "e467f92f-c298-4392-ae42-3e21d7668c47",
   "metadata": {
    "tags": []
   },
   "outputs": [
    {
     "data": {
      "text/plain": [
       "array([0, 1])"
      ]
     },
     "execution_count": 115,
     "metadata": {},
     "output_type": "execute_result"
    }
   ],
   "source": [
    "np.unique(y)"
   ]
  },
  {
   "cell_type": "code",
   "execution_count": null,
   "id": "db6cd50c-d405-43c7-92c7-d2021eced1f7",
   "metadata": {},
   "outputs": [],
   "source": []
  },
  {
   "cell_type": "code",
   "execution_count": 116,
   "id": "d598ccc0-d171-45ed-807d-d83f12f8f163",
   "metadata": {
    "tags": []
   },
   "outputs": [],
   "source": [
    "from sklearn.model_selection import train_test_split\n",
    "# Splitting data into training and testing\n",
    "X_train, X_test, y_train, y_test = train_test_split(X, y, stratify=y, test_size=0.2, random_state=42)\n",
    "\n",
    "# Convert lists to numpy arrays for the model\n",
    "X_train = np.array(X_train)\n",
    "X_test = np.array(X_test)\n",
    "y_train = np.array(y_train)\n",
    "y_test = np.array(y_test)"
   ]
  },
  {
   "cell_type": "code",
   "execution_count": 117,
   "id": "b3c85e3a-315c-49eb-8292-fbc1853c50e0",
   "metadata": {
    "tags": []
   },
   "outputs": [],
   "source": [
    "\n",
    "from sklearn.utils import class_weight\n",
    "\n",
    "\n",
    "# calculate class weights\n",
    "#class_weights = class_weight.compute_class_weight('balanced', np.unique(y_train), y_train)\n",
    "class_weights = class_weight.compute_sample_weight('balanced', y_train)\n",
    "\n",
    "# convert class weights to dictionary\n",
    "class_weight_dict = dict(enumerate(class_weights))"
   ]
  },
  {
   "cell_type": "code",
   "execution_count": 118,
   "id": "8f79a68b-8a08-43a8-ae3e-95467946666e",
   "metadata": {
    "tags": []
   },
   "outputs": [],
   "source": [
    "# Parameters\n",
    "embedding_dim = 10  # size of the embedding vectors\n",
    "vocab_size = 26    # size of your vocabulary\n",
    "max_len = 20        # maximum sequence length\n",
    "num_classes = 2    # number of classes\n",
    "\n",
    "rnn_model = Sequential()\n",
    "rnn_model.add(Embedding(input_dim=vocab_size, output_dim=embedding_dim, input_length=max_len, mask_zero = True))\n",
    "rnn_model.add(SimpleRNN(units=32, return_sequences=False))\n",
    "rnn_model.add(Dense(num_classes, activation='softmax')) \n",
    "\n",
    "# Compile the model\n",
    "rnn_model.compile(optimizer='adam', loss='sparse_categorical_crossentropy', metrics=['accuracy'])"
   ]
  },
  {
   "cell_type": "code",
   "execution_count": 119,
   "id": "2915a5f2-b867-47a3-b124-606fbe128bf5",
   "metadata": {
    "tags": []
   },
   "outputs": [
    {
     "name": "stdout",
     "output_type": "stream",
     "text": [
      "Epoch 1/10\n",
      "23/23 [==============================] - 4s 96ms/step - loss: 0.7660 - accuracy: 0.6544 - val_loss: 0.5603 - val_accuracy: 0.6848\n",
      "Epoch 2/10\n",
      "23/23 [==============================] - 1s 58ms/step - loss: 0.5900 - accuracy: 0.6816 - val_loss: 0.5884 - val_accuracy: 0.6848\n",
      "Epoch 3/10\n",
      "23/23 [==============================] - 1s 59ms/step - loss: 0.5663 - accuracy: 0.6816 - val_loss: 0.5575 - val_accuracy: 0.6848\n",
      "Epoch 4/10\n",
      "23/23 [==============================] - 1s 54ms/step - loss: 0.5333 - accuracy: 0.6816 - val_loss: 0.5393 - val_accuracy: 0.6902\n",
      "Epoch 5/10\n",
      "23/23 [==============================] - 1s 59ms/step - loss: 0.5006 - accuracy: 0.6884 - val_loss: 0.5313 - val_accuracy: 0.7065\n",
      "Epoch 6/10\n",
      "23/23 [==============================] - 2s 66ms/step - loss: 0.4807 - accuracy: 0.7116 - val_loss: 0.5078 - val_accuracy: 0.7065\n",
      "Epoch 7/10\n",
      "23/23 [==============================] - 1s 59ms/step - loss: 0.4600 - accuracy: 0.7197 - val_loss: 0.5131 - val_accuracy: 0.7065\n",
      "Epoch 8/10\n",
      "23/23 [==============================] - 1s 58ms/step - loss: 0.4468 - accuracy: 0.7279 - val_loss: 0.4958 - val_accuracy: 0.7283\n",
      "Epoch 9/10\n",
      "23/23 [==============================] - 1s 59ms/step - loss: 0.4399 - accuracy: 0.7442 - val_loss: 0.5005 - val_accuracy: 0.7337\n",
      "Epoch 10/10\n",
      "23/23 [==============================] - 1s 59ms/step - loss: 0.4329 - accuracy: 0.7483 - val_loss: 0.4899 - val_accuracy: 0.7446\n"
     ]
    },
    {
     "data": {
      "text/plain": [
       "<keras.callbacks.History at 0x7f9fa4342e30>"
      ]
     },
     "execution_count": 119,
     "metadata": {},
     "output_type": "execute_result"
    }
   ],
   "source": [
    "# Train the model\n",
    "rnn_model.fit(X_train, y_train, epochs=10, batch_size=32, validation_data=(X_test, y_test), class_weight=class_weight_dict)\n"
   ]
  },
  {
   "cell_type": "code",
   "execution_count": 120,
   "id": "936ecd4e-6930-4d95-8b02-5fe813a5403e",
   "metadata": {
    "tags": []
   },
   "outputs": [
    {
     "name": "stdout",
     "output_type": "stream",
     "text": [
      "6/6 [==============================] - 0s 7ms/step\n"
     ]
    }
   ],
   "source": [
    "y_pred = rnn_model.predict(X_test[:])\n",
    "y_pred_classes = np.argmax(y_pred, axis=1)\n",
    "conf_matrix = tf.math.confusion_matrix(labels=y_test,\n",
    "                                       predictions=y_pred_classes)"
   ]
  },
  {
   "cell_type": "code",
   "execution_count": 121,
   "id": "d1f1b126-c85e-4efe-8fc5-ddda6eaa226d",
   "metadata": {
    "tags": []
   },
   "outputs": [
    {
     "data": {
      "text/plain": [
       "<tf.Tensor: shape=(2, 2), dtype=int32, numpy=\n",
       "array([[ 19,  39],\n",
       "       [  8, 118]], dtype=int32)>"
      ]
     },
     "execution_count": 121,
     "metadata": {},
     "output_type": "execute_result"
    }
   ],
   "source": [
    "conf_matrix"
   ]
  },
  {
   "cell_type": "code",
   "execution_count": 429,
   "id": "eabe484b-ad63-4a54-bab7-24660e660905",
   "metadata": {
    "tags": []
   },
   "outputs": [],
   "source": [
    "from tensorflow.keras.preprocessing.text import Tokenizer\n",
    "from tensorflow.keras.preprocessing.sequence import pad_sequences\n",
    "\n",
    "# Initialize a tokenizer\n",
    "tokenizer = Tokenizer(num_words=8, oov_token=\"<OOV>\")\n",
    "# Fit it to the texts\n",
    "tokenizer.fit_on_texts(['-1','1'])\n",
    "\n",
    "# Convert strings to integer sequences\n",
    "sequences = tokenizer.texts_to_sequences([['-1','1']])\n",
    "\n",
    "# Pad sequences to have the same length\n",
    "padded_sequences = pad_sequences(sequences)\n"
   ]
  },
  {
   "cell_type": "code",
   "execution_count": 430,
   "id": "d1cc5583-7ca2-4e51-ab9c-53c805d668e4",
   "metadata": {
    "tags": []
   },
   "outputs": [
    {
     "data": {
      "text/plain": [
       "array([[1, 2]], dtype=int32)"
      ]
     },
     "execution_count": 430,
     "metadata": {},
     "output_type": "execute_result"
    }
   ],
   "source": [
    "padded_sequences"
   ]
  },
  {
   "cell_type": "code",
   "execution_count": 421,
   "id": "1f6cc840-ff16-43d7-a147-6e3a4c99be70",
   "metadata": {
    "tags": []
   },
   "outputs": [
    {
     "data": {
      "text/plain": [
       "<keras.preprocessing.text.Tokenizer at 0x7f3cf468f8b0>"
      ]
     },
     "execution_count": 421,
     "metadata": {},
     "output_type": "execute_result"
    }
   ],
   "source": [
    "tokenizer"
   ]
  },
  {
   "cell_type": "code",
   "execution_count": null,
   "id": "db98d7e2-bfea-4c06-a21e-4c710851264d",
   "metadata": {},
   "outputs": [],
   "source": []
  }
 ],
 "metadata": {
  "kernelspec": {
   "display_name": "Python [conda env:root] *",
   "language": "python",
   "name": "conda-root-py"
  },
  "language_info": {
   "codemirror_mode": {
    "name": "ipython",
    "version": 3
   },
   "file_extension": ".py",
   "mimetype": "text/x-python",
   "name": "python",
   "nbconvert_exporter": "python",
   "pygments_lexer": "ipython3",
   "version": "3.10.11"
  }
 },
 "nbformat": 4,
 "nbformat_minor": 5
}
