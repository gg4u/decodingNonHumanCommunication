{
 "cells": [
  {
   "cell_type": "code",
   "execution_count": 30,
   "id": "08810589-6460-4879-b2d7-2710ae54b3b7",
   "metadata": {
    "tags": []
   },
   "outputs": [
    {
     "name": "stdout",
     "output_type": "stream",
     "text": [
      "The autoreload extension is already loaded. To reload it, use:\n",
      "  %reload_ext autoreload\n"
     ]
    }
   ],
   "source": [
    "%load_ext autoreload\n",
    "%autoreload 2"
   ]
  },
  {
   "cell_type": "code",
   "execution_count": 31,
   "id": "d116eda1-dd0f-4fb8-ac5b-cfd9fd7a9023",
   "metadata": {
    "tags": []
   },
   "outputs": [],
   "source": [
    "import numpy as np\n",
    "import matplotlib.pyplot as plt\n",
    "%matplotlib inline\n",
    "from tqdm.autonotebook import tqdm\n",
    "from joblib import Parallel, delayed\n",
    "import pandas as pd\n",
    "from datetime import datetime\n",
    "from pathlib2 import Path"
   ]
  },
  {
   "cell_type": "code",
   "execution_count": 32,
   "id": "ae0661f8-6edf-4a42-a31e-8e816f5fd6de",
   "metadata": {
    "tags": []
   },
   "outputs": [],
   "source": [
    "from avgn.utils.paths import DATA_DIR, most_recent_subdirectory, ensure_dir"
   ]
  },
  {
   "cell_type": "code",
   "execution_count": 33,
   "id": "ab0d8d47-6974-4710-8d23-3bb2ec882c42",
   "metadata": {
    "tags": []
   },
   "outputs": [],
   "source": [
    "DATASET_ID = 'fruitbat'"
   ]
  },
  {
   "cell_type": "code",
   "execution_count": 34,
   "id": "90a34dd2-06f9-4d06-9fbd-23b00a27e7d7",
   "metadata": {
    "tags": []
   },
   "outputs": [
    {
     "data": {
      "text/plain": [
       "'2023-03-26_17-25-15'"
      ]
     },
     "execution_count": 34,
     "metadata": {},
     "output_type": "execute_result"
    }
   ],
   "source": [
    "# create a unique datetime identifier for the files output by this notebook\n",
    "DT_ID = datetime.now().strftime(\"%Y-%m-%d_%H-%M-%S\")\n",
    "DT_ID"
   ]
  },
  {
   "cell_type": "code",
   "execution_count": 35,
   "id": "c0baa807-2c19-4e90-a1c9-ae9bb855abeb",
   "metadata": {
    "tags": []
   },
   "outputs": [],
   "source": [
    "from avgn.utils.hparams import HParams\n",
    "from avgn.dataset import DataSet"
   ]
  },
  {
   "cell_type": "code",
   "execution_count": 36,
   "id": "985758d8-215e-4183-8c23-36b0a8eb3838",
   "metadata": {
    "tags": []
   },
   "outputs": [],
   "source": [
    "from avgn.signalprocessing.create_spectrogram_dataset import prepare_wav, create_label_df, get_row_audio"
   ]
  },
  {
   "cell_type": "code",
   "execution_count": 37,
   "id": "7cf57881-7099-4d85-a9f9-3062946b7b28",
   "metadata": {
    "tags": []
   },
   "outputs": [],
   "source": [
    "### prepare_wav\n",
    "### Denoising Must be > Non-Stationary \n",
    "### https://github.com/timsainb/noisereduce"
   ]
  },
  {
   "cell_type": "markdown",
   "id": "6b432cdb-96cc-4cea-811e-d222d0e5c399",
   "metadata": {
    "tags": []
   },
   "source": [
    "## Create dataset (Reflecting full vocalizations, not segmented)"
   ]
  },
  {
   "cell_type": "code",
   "execution_count": 50,
   "id": "a5b4c448-2359-4a99-9904-ed51890c6b40",
   "metadata": {
    "tags": []
   },
   "outputs": [],
   "source": [
    "hparams = HParams(\n",
    "    num_mel_bins = 32,\n",
    "    mel_lower_edge_hertz=1000,\n",
    "    mel_upper_edge_hertz=80000, # Look at Data Exploration\n",
    "    butter_lowcut = 500,\n",
    "    butter_highcut = 120000,\n",
    "    ref_level_db = 20,\n",
    "    min_level_db = -60, # Look at Data Exploration\n",
    "    mask_spec = True,\n",
    "    win_length_ms = 0.5, \n",
    "    hop_length_ms = 0.05,\n",
    "    mask_spec_kwargs = {\"spec_thresh\": 0.9, \"offset\": 1e-10},\n",
    "    n_jobs = -1,\n",
    "    verbosity=1,\n",
    "    nex = -1\n",
    ")"
   ]
  },
  {
   "cell_type": "code",
   "execution_count": 51,
   "id": "8d4163f4-6186-48e4-8556-29f3171d2ef5",
   "metadata": {
    "tags": []
   },
   "outputs": [
    {
     "data": {
      "application/vnd.jupyter.widget-view+json": {
       "model_id": "5d1620ad20ae4cf4932aaa70f17a6cd6",
       "version_major": 2,
       "version_minor": 0
      },
      "text/plain": [
       "loading json:   0%|          | 0/87985 [00:00<?, ?it/s]"
      ]
     },
     "metadata": {},
     "output_type": "display_data"
    },
    {
     "name": "stderr",
     "output_type": "stream",
     "text": [
      "[Parallel(n_jobs=-1)]: Using backend LokyBackend with 32 concurrent workers.\n",
      "[Parallel(n_jobs=-1)]: Done 213 tasks      | elapsed:    1.4s\n",
      "[Parallel(n_jobs=-1)]: Done 3232 tasks      | elapsed:    5.1s\n",
      "[Parallel(n_jobs=-1)]: Done 46176 tasks      | elapsed:    6.4s\n",
      "[Parallel(n_jobs=-1)]: Done 87401 tasks      | elapsed:    7.6s\n",
      "[Parallel(n_jobs=-1)]: Done 87985 out of 87985 | elapsed:    7.7s finished\n"
     ]
    },
    {
     "data": {
      "application/vnd.jupyter.widget-view+json": {
       "model_id": "",
       "version_major": 2,
       "version_minor": 0
      },
      "text/plain": [
       "getting unique individuals:   0%|          | 0/87985 [00:00<?, ?it/s]"
      ]
     },
     "metadata": {},
     "output_type": "display_data"
    }
   ],
   "source": [
    "# create a dataset object\n",
    "dataset = DataSet(DATASET_ID, hparams = hparams)"
   ]
  },
  {
   "cell_type": "code",
   "execution_count": 41,
   "id": "5d639849-2c5b-48a5-b033-6fa32762c152",
   "metadata": {
    "tags": []
   },
   "outputs": [
    {
     "data": {
      "text/plain": [
       "[]"
      ]
     },
     "execution_count": 41,
     "metadata": {},
     "output_type": "execute_result"
    }
   ],
   "source": [
    "import tensorflow as tf\n",
    "tf.config.list_physical_devices('GPU')\n"
   ]
  },
  {
   "cell_type": "code",
   "execution_count": 42,
   "id": "0cafd3b3-68a1-4d2c-8e85-5d39897b87c3",
   "metadata": {
    "tags": []
   },
   "outputs": [
    {
     "data": {
      "text/plain": [
       "OrderedDict([('fid', 23514),\n",
       "             ('Treatment ID', 1),\n",
       "             ('Recording channel', 11),\n",
       "             ('Recording time', '2012-07-09 06:36:11'),\n",
       "             ('indvs',\n",
       "              OrderedDict([('0',\n",
       "                            OrderedDict([('syllables',\n",
       "                                          OrderedDict([('start_times',\n",
       "                                                        [4e-06]),\n",
       "                                                       ('end_times',\n",
       "                                                        [2.98528]),\n",
       "                                                       ('addressee', ['0']),\n",
       "                                                       ('context',\n",
       "                                                        ['Isolation']),\n",
       "                                                       ('emit_prevoc_act',\n",
       "                                                        [0]),\n",
       "                                                       ('add_prevoc_act', [0]),\n",
       "                                                       ('emit_postvoc_act',\n",
       "                                                        [0]),\n",
       "                                                       ('add_postvoc_act',\n",
       "                                                        [0])]))]))])),\n",
       "             ('species', 'Rousettus aegyptiacus'),\n",
       "             ('common_name', 'Egyptian fruit bat'),\n",
       "             ('samplerate_hz', 250000),\n",
       "             ('original_wav',\n",
       "              'data/raw/fruitbat/zip_contents/files103/120709063505240110.WAV'),\n",
       "             ('length_s', 2.98528),\n",
       "             ('wav_loc',\n",
       "              'data/raw/fruitbat/zip_contents/files103/120709063505240110.WAV')])"
      ]
     },
     "execution_count": 42,
     "metadata": {},
     "output_type": "execute_result"
    }
   ],
   "source": [
    "dataset.sample_json"
   ]
  },
  {
   "cell_type": "code",
   "execution_count": 15,
   "id": "a6b258cb-bf43-403b-8e59-ab76c6490f09",
   "metadata": {
    "tags": []
   },
   "outputs": [],
   "source": [
    "dataset.__dict__;"
   ]
  },
  {
   "cell_type": "code",
   "execution_count": 52,
   "id": "03372a85-c8d2-45a7-a114-c6de7743fe86",
   "metadata": {
    "tags": []
   },
   "outputs": [
    {
     "name": "stdout",
     "output_type": "stream",
     "text": [
      "{\n",
      "  \"fid\": 166697,\n",
      "  \"Treatment ID\": 17,\n",
      "  \"Recording channel\": 1,\n",
      "  \"Recording time\": \"2013-01-16 08:06:24\",\n",
      "  \"indvs\": {\n",
      "    \"-210\": {\n",
      "      \"syllables\": {\n",
      "        \"start_times\": [4e-06],\n",
      "        \"end_times\": [1.543488],\n",
      "        \"addressee\": [\"-207\"],\n",
      "        \"context\": [\"Threat-like\"],\n",
      "        \"emit_prevoc_act\": [2],\n",
      "        \"add_prevoc_act\": [2],\n",
      "        \"emit_postvoc_act\": [3],\n",
      "        \"add_postvoc_act\": [3]\n",
      "      }\n",
      "    }\n",
      "  },\n",
      "  \"species\": \"Rousettus aegyptiacus\",\n",
      "  \"common_name\": \"Egyptian fruit bat\",\n",
      "  \"samplerate_hz\": 250000,\n",
      "  \"original_wav\": \"data/raw/fruitbat/zip_contents/files212/130116080549387242.WAV\",\n",
      "  \"length_s\": 1.543488,\n",
      "  \"wav_loc\": \"data/raw/fruitbat/zip_contents/files212/130116080549387242.WAV\"\n",
      "}\n",
      "PROJECT_DIR set on:  /data0/home/h21/luas6629/Thesis\n",
      "PROJECT_DIR set on:  /data0/home/h21/luas6629/Thesis\n",
      "PROJECT_DIR set on:  /data0/home/h21/luas6629/Thesis\n",
      "PROJECT_DIR set on:  /data0/home/h21/luas6629/Thesis\n",
      "PROJECT_DIR set on:  /data0/home/h21/luas6629/Thesis\n",
      "PROJECT_DIR set on:  /data0/home/h21/luas6629/Thesis\n",
      "PROJECT_DIR set on:  /data0/home/h21/luas6629/Thesis\n",
      "PROJECT_DIR set on:  /data0/home/h21/luas6629/Thesis\n",
      "PROJECT_DIR set on:  /data0/home/h21/luas6629/Thesis\n",
      "PROJECT_DIR set on:  /data0/home/h21/luas6629/Thesis\n",
      "PROJECT_DIR set on:  /data0/home/h21/luas6629/Thesis\n",
      "PROJECT_DIR set on:  /data0/home/h21/luas6629/Thesis\n",
      "PROJECT_DIR set on:  /data0/home/h21/luas6629/Thesis\n",
      "PROJECT_DIR set on:  /data0/home/h21/luas6629/Thesis\n",
      "PROJECT_DIR set on:  /data0/home/h21/luas6629/Thesis\n",
      "PROJECT_DIR set on:  /data0/home/h21/luas6629/Thesis\n",
      "PROJECT_DIR set on:  /data0/home/h21/luas6629/Thesis\n",
      "PROJECT_DIR set on:  /data0/home/h21/luas6629/Thesis\n",
      "PROJECT_DIR set on:  /data0/home/h21/luas6629/Thesis\n",
      "PROJECT_DIR set on:  /data0/home/h21/luas6629/Thesis\n",
      "PROJECT_DIR set on:  /data0/home/h21/luas6629/Thesis\n",
      "PROJECT_DIR set on:  /data0/home/h21/luas6629/Thesis\n",
      "PROJECT_DIR set on:  /data0/home/h21/luas6629/Thesis\n",
      "PROJECT_DIR set on:  /data0/home/h21/luas6629/Thesis\n",
      "PROJECT_DIR set on:  /data0/home/h21/luas6629/Thesis\n",
      "PROJECT_DIR set on:  /data0/home/h21/luas6629/Thesis\n",
      "PROJECT_DIR set on:  /data0/home/h21/luas6629/Thesis\n",
      "PROJECT_DIR set on:  /data0/home/h21/luas6629/Thesis\n",
      "PROJECT_DIR set on:  /data0/home/h21/luas6629/Thesis\n",
      "PROJECT_DIR set on:  /data0/home/h21/luas6629/Thesis\n",
      "PROJECT_DIR set on:  /data0/home/h21/luas6629/Thesis\n",
      "PROJECT_DIR set on:  /data0/home/h21/luas6629/Thesis\n"
     ]
    }
   ],
   "source": [
    "!cat /data0/home/h21/luas6629/Thesis/data/processed/fruitbat/2023-03-05_00-30-35/JSON/130116080549387242.JSON"
   ]
  },
  {
   "cell_type": "markdown",
   "id": "799d9fa7-c21f-4dac-bb6b-23a53c8c68c5",
   "metadata": {
    "tags": []
   },
   "source": [
    "### Create dataset of whole vocalization, based on json"
   ]
  },
  {
   "cell_type": "code",
   "execution_count": 14,
   "id": "fd015b92-cb62-4850-a90d-d3e0406a4f75",
   "metadata": {
    "tags": []
   },
   "outputs": [],
   "source": [
    "from joblib import Parallel, delayed\n",
    "n_jobs = 4; verbosity = 1"
   ]
  },
  {
   "cell_type": "code",
   "execution_count": 15,
   "id": "8eed7290-6ef5-4a58-8f21-ad3b73cdae1b",
   "metadata": {
    "tags": []
   },
   "outputs": [
    {
     "name": "stdout",
     "output_type": "stream",
     "text": [
      "PROJECT_DIR set on:  /data0/home/h21/luas6629/Thesis\n",
      "PROJECT_DIR set on:  /data0/home/h21/luas6629/Thesis\n",
      "PROJECT_DIR set on:  /data0/home/h21/luas6629/Thesis\n",
      "PROJECT_DIR set on:  /data0/home/h21/luas6629/Thesis\n",
      "PROJECT_DIR set on:  /data0/home/h21/luas6629/Thesis\n",
      "PROJECT_DIR set on:  /data0/home/h21/luas6629/Thesis\n",
      "PROJECT_DIR set on:  /data0/home/h21/luas6629/Thesis\n",
      "PROJECT_DIR set on:  /data0/home/h21/luas6629/Thesis\n",
      "PROJECT_DIR set on:  /data0/home/h21/luas6629/Thesis\n",
      "PROJECT_DIR set on:  /data0/home/h21/luas6629/Thesis\n",
      "PROJECT_DIR set on:  /data0/home/h21/luas6629/Thesis\n",
      "PROJECT_DIR set on:  /data0/home/h21/luas6629/Thesis\n",
      "PROJECT_DIR set on:  /data0/home/h21/luas6629/Thesis\n",
      "PROJECT_DIR set on:  /data0/home/h21/luas6629/Thesis\n",
      "PROJECT_DIR set on:  /data0/home/h21/luas6629/Thesis\n",
      "PROJECT_DIR set on:  /data0/home/h21/luas6629/Thesis\n",
      "PROJECT_DIR set on:  /data0/home/h21/luas6629/Thesis\n",
      "PROJECT_DIR set on:  /data0/home/h21/luas6629/Thesis\n",
      "PROJECT_DIR set on:  /data0/home/h21/luas6629/Thesis\n",
      "PROJECT_DIR set on:  /data0/home/h21/luas6629/Thesis\n",
      "PROJECT_DIR set on:  /data0/home/h21/luas6629/Thesis\n",
      "PROJECT_DIR set on:  /data0/home/h21/luas6629/Thesis\n",
      "PROJECT_DIR set on:  /data0/home/h21/luas6629/Thesis\n",
      "PROJECT_DIR set on:  /data0/home/h21/luas6629/Thesis\n",
      "PROJECT_DIR set on:  /data0/home/h21/luas6629/Thesis\n",
      "PROJECT_DIR set on:  /data0/home/h21/luas6629/Thesis\n",
      "PROJECT_DIR set on:  /data0/home/h21/luas6629/Thesis\n",
      "PROJECT_DIR set on:  /data0/home/h21/luas6629/Thesis\n",
      "PROJECT_DIR set on:  /data0/home/h21/luas6629/Thesis\n",
      "PROJECT_DIR set on:  /data0/home/h21/luas6629/Thesis\n",
      "PROJECT_DIR set on:  /data0/home/h21/luas6629/Thesis\n",
      "PROJECT_DIR set on:  /data0/home/h21/luas6629/Thesis\n"
     ]
    },
    {
     "data": {
      "application/vnd.jupyter.widget-view+json": {
       "model_id": "9f0806f07e024177aec3e23d7a687064",
       "version_major": 2,
       "version_minor": 0
      },
      "text/plain": [
       "  0%|          | 0/87985 [00:00<?, ?it/s]"
      ]
     },
     "metadata": {},
     "output_type": "display_data"
    },
    {
     "name": "stderr",
     "output_type": "stream",
     "text": [
      "[Parallel(n_jobs=4)]: Using backend LokyBackend with 4 concurrent workers.\n",
      "[Parallel(n_jobs=4)]: Done  68 tasks      | elapsed:    1.6s\n",
      "[Parallel(n_jobs=4)]: Done 15884 tasks      | elapsed:    7.5s\n",
      "[Parallel(n_jobs=4)]: Done 47884 tasks      | elapsed:   19.3s\n",
      "[Parallel(n_jobs=4)]: Done 87985 out of 87985 | elapsed:   35.0s finished\n"
     ]
    },
    {
     "data": {
      "text/plain": [
       "91079"
      ]
     },
     "execution_count": 15,
     "metadata": {},
     "output_type": "execute_result"
    }
   ],
   "source": [
    "with Parallel(n_jobs=n_jobs, verbose=verbosity) as parallel:\n",
    "    syllable_dfs = parallel(\n",
    "        delayed(create_label_df)(\n",
    "            dataset.data_files[key].data,\n",
    "            hparams=dataset.hparams,\n",
    "            labels_to_retain=['context'],\n",
    "            unit=\"syllables\",\n",
    "            dict_features_to_retain = [],\n",
    "            key = key,\n",
    "        )\n",
    "        for key in tqdm(dataset.data_files.keys())\n",
    "    )\n",
    "syllable_df = pd.concat(syllable_dfs)\n",
    "len(syllable_df)"
   ]
  },
  {
   "cell_type": "code",
   "execution_count": 18,
   "id": "92472a6f-f070-4898-9bf9-b55e51e89390",
   "metadata": {
    "tags": []
   },
   "outputs": [
    {
     "data": {
      "text/plain": [
       "91079"
      ]
     },
     "execution_count": 18,
     "metadata": {},
     "output_type": "execute_result"
    }
   ],
   "source": [
    "len(syllable_df)"
   ]
  },
  {
   "cell_type": "code",
   "execution_count": 24,
   "id": "06249882-66bc-41c9-a8a2-46a042dedc46",
   "metadata": {
    "tags": []
   },
   "outputs": [],
   "source": [
    "key = list(dataset.data_files.keys())[0]"
   ]
  },
  {
   "cell_type": "code",
   "execution_count": 27,
   "id": "2bf37444-5b11-4e12-8dff-489c3bd54727",
   "metadata": {
    "tags": []
   },
   "outputs": [
    {
     "data": {
      "text/plain": [
       "start_time     0.000004\n",
       "end_time        2.98528\n",
       "context       Isolation\n",
       "indv                  0\n",
       "indvi                 0\n",
       "Name: 120709063505240110, dtype: object"
      ]
     },
     "execution_count": 27,
     "metadata": {},
     "output_type": "execute_result"
    }
   ],
   "source": [
    "syllable_df.set_index('key').loc[key]"
   ]
  },
  {
   "cell_type": "code",
   "execution_count": 49,
   "id": "a3c21309-65c2-46d5-a77e-bb7ec5fe75c2",
   "metadata": {
    "tags": []
   },
   "outputs": [
    {
     "name": "stderr",
     "output_type": "stream",
     "text": [
      "/data0/home/h21/luas6629/avgn_paper/avgn/signalprocessing/create_spectrogram_dataset.py:376: SettingWithCopyWarning: \n",
      "A value is trying to be set on a copy of a slice from a DataFrame.\n",
      "Try using .loc[row_indexer,col_indexer] = value instead\n",
      "\n",
      "See the caveats in the documentation: https://pandas.pydata.org/pandas-docs/stable/user_guide/indexing.html#returning-a-view-versus-a-copy\n",
      "  syllable_df[\"audio\"] = [\n",
      "/data0/home/h21/luas6629/avgn_paper/avgn/signalprocessing/create_spectrogram_dataset.py:381: SettingWithCopyWarning: \n",
      "A value is trying to be set on a copy of a slice from a DataFrame.\n",
      "Try using .loc[row_indexer,col_indexer] = value instead\n",
      "\n",
      "See the caveats in the documentation: https://pandas.pydata.org/pandas-docs/stable/user_guide/indexing.html#returning-a-view-versus-a-copy\n",
      "  syllable_df[\"rate\"] = rate\n"
     ]
    },
    {
     "data": {
      "text/html": [
       "<div>\n",
       "<style scoped>\n",
       "    .dataframe tbody tr th:only-of-type {\n",
       "        vertical-align: middle;\n",
       "    }\n",
       "\n",
       "    .dataframe tbody tr th {\n",
       "        vertical-align: top;\n",
       "    }\n",
       "\n",
       "    .dataframe thead th {\n",
       "        text-align: right;\n",
       "    }\n",
       "</style>\n",
       "<table border=\"1\" class=\"dataframe\">\n",
       "  <thead>\n",
       "    <tr style=\"text-align: right;\">\n",
       "      <th></th>\n",
       "      <th>start_time</th>\n",
       "      <th>end_time</th>\n",
       "      <th>context</th>\n",
       "      <th>indv</th>\n",
       "      <th>indvi</th>\n",
       "      <th>key</th>\n",
       "      <th>audio</th>\n",
       "      <th>rate</th>\n",
       "    </tr>\n",
       "  </thead>\n",
       "  <tbody>\n",
       "    <tr>\n",
       "      <th>0</th>\n",
       "      <td>0.000004</td>\n",
       "      <td>2.98528</td>\n",
       "      <td>Isolation</td>\n",
       "      <td>0</td>\n",
       "      <td>0</td>\n",
       "      <td>120709063505240110</td>\n",
       "      <td>[0.00023678757, 0.00012613685, -0.0001682282, ...</td>\n",
       "      <td>250000</td>\n",
       "    </tr>\n",
       "  </tbody>\n",
       "</table>\n",
       "</div>"
      ],
      "text/plain": [
       "   start_time  end_time    context indv  indvi                 key  \\\n",
       "0    0.000004   2.98528  Isolation    0      0  120709063505240110   \n",
       "\n",
       "                                               audio    rate  \n",
       "0  [0.00023678757, 0.00012613685, -0.0001682282, ...  250000  "
      ]
     },
     "execution_count": 49,
     "metadata": {},
     "output_type": "execute_result"
    }
   ],
   "source": [
    "get_row_audio(syllable_df[syllable_df.key == key], \n",
    "        dataset.data_files[key].data['wav_loc'], \n",
    "        dataset.hparams\n",
    "    )"
   ]
  },
  {
   "cell_type": "code",
   "execution_count": 29,
   "id": "d58db6e5-0261-4740-a8a5-746be0e62b36",
   "metadata": {
    "tags": []
   },
   "outputs": [
    {
     "data": {
      "text/html": [
       "<div>\n",
       "<style scoped>\n",
       "    .dataframe tbody tr th:only-of-type {\n",
       "        vertical-align: middle;\n",
       "    }\n",
       "\n",
       "    .dataframe tbody tr th {\n",
       "        vertical-align: top;\n",
       "    }\n",
       "\n",
       "    .dataframe thead th {\n",
       "        text-align: right;\n",
       "    }\n",
       "</style>\n",
       "<table border=\"1\" class=\"dataframe\">\n",
       "  <thead>\n",
       "    <tr style=\"text-align: right;\">\n",
       "      <th></th>\n",
       "      <th>start_time</th>\n",
       "      <th>end_time</th>\n",
       "      <th>context</th>\n",
       "      <th>indv</th>\n",
       "      <th>indvi</th>\n",
       "      <th>key</th>\n",
       "    </tr>\n",
       "  </thead>\n",
       "  <tbody>\n",
       "    <tr>\n",
       "      <th>0</th>\n",
       "      <td>0.000004</td>\n",
       "      <td>2.985280</td>\n",
       "      <td>Isolation</td>\n",
       "      <td>0</td>\n",
       "      <td>0</td>\n",
       "      <td>120709063505240110</td>\n",
       "    </tr>\n",
       "    <tr>\n",
       "      <th>0</th>\n",
       "      <td>0.000004</td>\n",
       "      <td>1.346880</td>\n",
       "      <td>Sleeping</td>\n",
       "      <td>230</td>\n",
       "      <td>0</td>\n",
       "      <td>130511141449898364</td>\n",
       "    </tr>\n",
       "    <tr>\n",
       "      <th>0</th>\n",
       "      <td>0.000004</td>\n",
       "      <td>2.362688</td>\n",
       "      <td>General</td>\n",
       "      <td>-201</td>\n",
       "      <td>0</td>\n",
       "      <td>121004052532634115</td>\n",
       "    </tr>\n",
       "    <tr>\n",
       "      <th>0</th>\n",
       "      <td>0.000004</td>\n",
       "      <td>1.346880</td>\n",
       "      <td>Sleeping</td>\n",
       "      <td>215</td>\n",
       "      <td>0</td>\n",
       "      <td>130108045535754954</td>\n",
       "    </tr>\n",
       "    <tr>\n",
       "      <th>0</th>\n",
       "      <td>0.000004</td>\n",
       "      <td>2.428224</td>\n",
       "      <td>General</td>\n",
       "      <td>111</td>\n",
       "      <td>0</td>\n",
       "      <td>121111222747145516</td>\n",
       "    </tr>\n",
       "  </tbody>\n",
       "</table>\n",
       "</div>"
      ],
      "text/plain": [
       "   start_time  end_time    context  indv  indvi                 key\n",
       "0    0.000004  2.985280  Isolation     0      0  120709063505240110\n",
       "0    0.000004  1.346880   Sleeping   230      0  130511141449898364\n",
       "0    0.000004  2.362688    General  -201      0  121004052532634115\n",
       "0    0.000004  1.346880   Sleeping   215      0  130108045535754954\n",
       "0    0.000004  2.428224    General   111      0  121111222747145516"
      ]
     },
     "execution_count": 29,
     "metadata": {},
     "output_type": "execute_result"
    }
   ],
   "source": [
    "syllable_df.head()"
   ]
  },
  {
   "cell_type": "code",
   "execution_count": 28,
   "id": "09c5b733-e869-453d-a858-1d0660519092",
   "metadata": {
    "tags": []
   },
   "outputs": [
    {
     "ename": "NameError",
     "evalue": "name 'file_info' is not defined",
     "output_type": "error",
     "traceback": [
      "\u001b[0;31m---------------------------------------------------------------------------\u001b[0m",
      "\u001b[0;31mNameError\u001b[0m                                 Traceback (most recent call last)",
      "Cell \u001b[0;32mIn[28], line 1\u001b[0m\n\u001b[0;32m----> 1\u001b[0m \u001b[43mfile_info\u001b[49m\n",
      "\u001b[0;31mNameError\u001b[0m: name 'file_info' is not defined"
     ]
    }
   ],
   "source": [
    "file_info"
   ]
  },
  {
   "cell_type": "markdown",
   "id": "38d077e3-7087-42a4-baac-5eab93cf1d66",
   "metadata": {
    "tags": []
   },
   "source": [
    "### Get audio for dataset"
   ]
  },
  {
   "cell_type": "code",
   "execution_count": null,
   "id": "9768e2c5-3374-4073-a26c-42307b470f24",
   "metadata": {
    "tags": []
   },
   "outputs": [
    {
     "data": {
      "application/vnd.jupyter.widget-view+json": {
       "model_id": "054ef49930b0420c91dec7f0b0a3452f",
       "version_major": 2,
       "version_minor": 0
      },
      "text/plain": [
       "  0%|          | 0/87985 [00:00<?, ?it/s]"
      ]
     },
     "metadata": {},
     "output_type": "display_data"
    },
    {
     "name": "stderr",
     "output_type": "stream",
     "text": [
      "[Parallel(n_jobs=-1)]: Using backend LokyBackend with 32 concurrent workers.\n",
      "[Parallel(n_jobs=-1)]: Done 136 tasks      | elapsed:   10.1s\n",
      "[Parallel(n_jobs=-1)]: Done 386 tasks      | elapsed:   21.1s\n",
      "[Parallel(n_jobs=-1)]: Done 736 tasks      | elapsed:   36.7s\n",
      "[Parallel(n_jobs=-1)]: Done 1186 tasks      | elapsed:   56.4s\n",
      "[Parallel(n_jobs=-1)]: Done 1736 tasks      | elapsed:  1.3min\n",
      "[Parallel(n_jobs=-1)]: Done 2386 tasks      | elapsed:  1.8min\n",
      "[Parallel(n_jobs=-1)]: Done 3136 tasks      | elapsed:  2.4min\n",
      "[Parallel(n_jobs=-1)]: Done 3986 tasks      | elapsed:  3.0min\n",
      "[Parallel(n_jobs=-1)]: Done 4936 tasks      | elapsed:  3.7min\n",
      "[Parallel(n_jobs=-1)]: Done 5986 tasks      | elapsed:  4.6min\n",
      "[Parallel(n_jobs=-1)]: Done 7136 tasks      | elapsed:  5.5min\n",
      "[Parallel(n_jobs=-1)]: Done 8386 tasks      | elapsed:  6.5min\n",
      "[Parallel(n_jobs=-1)]: Done 9736 tasks      | elapsed:  7.6min\n",
      "[Parallel(n_jobs=-1)]: Done 11186 tasks      | elapsed:  8.8min\n",
      "[Parallel(n_jobs=-1)]: Done 12736 tasks      | elapsed: 10.0min\n",
      "[Parallel(n_jobs=-1)]: Done 14386 tasks      | elapsed: 11.3min\n",
      "[Parallel(n_jobs=-1)]: Done 16136 tasks      | elapsed: 12.7min\n",
      "[Parallel(n_jobs=-1)]: Done 17986 tasks      | elapsed: 14.5min\n",
      "[Parallel(n_jobs=-1)]: Done 19936 tasks      | elapsed: 16.8min\n",
      "[Parallel(n_jobs=-1)]: Done 21986 tasks      | elapsed: 19.4min\n",
      "[Parallel(n_jobs=-1)]: Done 24136 tasks      | elapsed: 22.5min\n",
      "[Parallel(n_jobs=-1)]: Done 26386 tasks      | elapsed: 25.2min\n",
      "[Parallel(n_jobs=-1)]: Done 28736 tasks      | elapsed: 28.4min\n",
      "[Parallel(n_jobs=-1)]: Done 31186 tasks      | elapsed: 30.7min\n",
      "[Parallel(n_jobs=-1)]: Done 33736 tasks      | elapsed: 34.0min\n",
      "[Parallel(n_jobs=-1)]: Done 36386 tasks      | elapsed: 37.9min\n",
      "[Parallel(n_jobs=-1)]: Done 39136 tasks      | elapsed: 41.1min\n",
      "[Parallel(n_jobs=-1)]: Done 41986 tasks      | elapsed: 44.4min\n",
      "[Parallel(n_jobs=-1)]: Done 44936 tasks      | elapsed: 48.8min\n"
     ]
    }
   ],
   "source": [
    "with Parallel(n_jobs=n_jobs, verbose=verbosity) as parallel:\n",
    "    syllable_df = pd.concat( parallel(\n",
    "        delayed(get_row_audio)(\n",
    "            syllable_df[syllable_df.key == key], \n",
    "            dataset.data_files[key].data['wav_loc'], \n",
    "            dataset.hparams\n",
    "        )\n",
    "        for key in tqdm(syllable_df.key.unique())\n",
    "    ))\n",
    "len(syllable_df)"
   ]
  }
 ],
 "metadata": {
  "kernelspec": {
   "display_name": "Python 3 (ipykernel)",
   "language": "python",
   "name": "python3"
  },
  "language_info": {
   "codemirror_mode": {
    "name": "ipython",
    "version": 3
   },
   "file_extension": ".py",
   "mimetype": "text/x-python",
   "name": "python",
   "nbconvert_exporter": "python",
   "pygments_lexer": "ipython3",
   "version": "3.10.6"
  }
 },
 "nbformat": 4,
 "nbformat_minor": 5
}
